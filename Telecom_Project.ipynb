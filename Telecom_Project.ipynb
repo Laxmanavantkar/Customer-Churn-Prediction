{
 "cells": [
  {
   "cell_type": "markdown",
   "id": "3e1130c3",
   "metadata": {},
   "source": [
    "# Customer Churn_Telecom Project"
   ]
  },
  {
   "cell_type": "markdown",
   "id": "0ce6687f",
   "metadata": {},
   "source": [
    "# Problem Statement"
   ]
  },
  {
   "cell_type": "markdown",
   "id": "e4398839",
   "metadata": {},
   "source": [
    "* Companies usually have a greater focus on customer acquisition and keep retention as a  secondary priority. However, it can cost five times more to attract a new customer than it does to  retain an existing one. Increasing customer retention rates by 5% can increase profits by 25% to  95%, according to research done by Bain & Company.\n"
   ]
  },
  {
   "cell_type": "markdown",
   "id": "18318657",
   "metadata": {},
   "source": [
    "## Import Necessary Libraries"
   ]
  },
  {
   "cell_type": "code",
   "execution_count": 153,
   "id": "da1f1c98",
   "metadata": {
    "tags": []
   },
   "outputs": [],
   "source": [
    "import pandas as pd\n",
    "import numpy as np\n",
    "import seaborn as sns\n",
    "import matplotlib.pyplot as plt\n",
    "\n",
    "from sklearn.model_selection import train_test_split, cross_val_score, StratifiedKFold, RandomizedSearchCV\n",
    "from sklearn.preprocessing import LabelEncoder\n",
    "\n",
    "from sklearn.neighbors import KNeighborsClassifier\n",
    "from sklearn.svm import SVC\n",
    "from sklearn.tree import DecisionTreeClassifier\n",
    "from sklearn.ensemble import RandomForestClassifier\n",
    "from xgboost import XGBClassifier\n",
    "\n",
    "from sklearn.metrics import classification_report, balanced_accuracy_score, plot_confusion_matrix, roc_auc_score, recall_score, precision_score \n",
    "from sklearn.feature_selection import RFE, SelectFromModel\n",
    "\n",
    "from imblearn.over_sampling import SMOTE, ADASYN\n",
    "from imblearn.combine import SMOTETomek\n",
    "\n",
    "from imblearn.pipeline import Pipeline\n",
    "from sklearn_pandas import DataFrameMapper\n",
    "from sklearn import set_config\n",
    "set_config(display=\"diagram\")  # make pipeline visible\n",
    "\n",
    "from pickle import dump\n",
    "from pickle import load\n",
    "\n",
    "\n",
    "import warnings\n",
    "warnings.filterwarnings('ignore')"
   ]
  },
  {
   "cell_type": "markdown",
   "id": "844625d5",
   "metadata": {},
   "source": [
    "## Import Dataset"
   ]
  },
  {
   "cell_type": "code",
   "execution_count": 2,
   "id": "3cdb76d4",
   "metadata": {},
   "outputs": [
    {
     "data": {
      "text/html": [
       "<div>\n",
       "<style scoped>\n",
       "    .dataframe tbody tr th:only-of-type {\n",
       "        vertical-align: middle;\n",
       "    }\n",
       "\n",
       "    .dataframe tbody tr th {\n",
       "        vertical-align: top;\n",
       "    }\n",
       "\n",
       "    .dataframe thead th {\n",
       "        text-align: right;\n",
       "    }\n",
       "</style>\n",
       "<table border=\"1\" class=\"dataframe\">\n",
       "  <thead>\n",
       "    <tr style=\"text-align: right;\">\n",
       "      <th></th>\n",
       "      <th>customerID</th>\n",
       "      <th>gender</th>\n",
       "      <th>SeniorCitizen</th>\n",
       "      <th>Partner</th>\n",
       "      <th>Dependents</th>\n",
       "      <th>tenure</th>\n",
       "      <th>PhoneService</th>\n",
       "      <th>MultipleLines</th>\n",
       "      <th>InternetService</th>\n",
       "      <th>OnlineSecurity</th>\n",
       "      <th>...</th>\n",
       "      <th>DeviceProtection</th>\n",
       "      <th>TechSupport</th>\n",
       "      <th>StreamingTV</th>\n",
       "      <th>StreamingMovies</th>\n",
       "      <th>Contract</th>\n",
       "      <th>PaperlessBilling</th>\n",
       "      <th>PaymentMethod</th>\n",
       "      <th>MonthlyCharges</th>\n",
       "      <th>TotalCharges</th>\n",
       "      <th>Churn</th>\n",
       "    </tr>\n",
       "  </thead>\n",
       "  <tbody>\n",
       "    <tr>\n",
       "      <th>0</th>\n",
       "      <td>7590-VHVEG</td>\n",
       "      <td>Female</td>\n",
       "      <td>0</td>\n",
       "      <td>Yes</td>\n",
       "      <td>No</td>\n",
       "      <td>1</td>\n",
       "      <td>No</td>\n",
       "      <td>No phone service</td>\n",
       "      <td>DSL</td>\n",
       "      <td>No</td>\n",
       "      <td>...</td>\n",
       "      <td>No</td>\n",
       "      <td>No</td>\n",
       "      <td>No</td>\n",
       "      <td>No</td>\n",
       "      <td>Month-to-month</td>\n",
       "      <td>Yes</td>\n",
       "      <td>Electronic check</td>\n",
       "      <td>29.85</td>\n",
       "      <td>29.85</td>\n",
       "      <td>No</td>\n",
       "    </tr>\n",
       "    <tr>\n",
       "      <th>1</th>\n",
       "      <td>5575-GNVDE</td>\n",
       "      <td>Male</td>\n",
       "      <td>0</td>\n",
       "      <td>No</td>\n",
       "      <td>No</td>\n",
       "      <td>34</td>\n",
       "      <td>Yes</td>\n",
       "      <td>No</td>\n",
       "      <td>DSL</td>\n",
       "      <td>Yes</td>\n",
       "      <td>...</td>\n",
       "      <td>Yes</td>\n",
       "      <td>No</td>\n",
       "      <td>No</td>\n",
       "      <td>No</td>\n",
       "      <td>One year</td>\n",
       "      <td>No</td>\n",
       "      <td>Mailed check</td>\n",
       "      <td>56.95</td>\n",
       "      <td>1889.5</td>\n",
       "      <td>No</td>\n",
       "    </tr>\n",
       "    <tr>\n",
       "      <th>2</th>\n",
       "      <td>3668-QPYBK</td>\n",
       "      <td>Male</td>\n",
       "      <td>0</td>\n",
       "      <td>No</td>\n",
       "      <td>No</td>\n",
       "      <td>2</td>\n",
       "      <td>Yes</td>\n",
       "      <td>No</td>\n",
       "      <td>DSL</td>\n",
       "      <td>Yes</td>\n",
       "      <td>...</td>\n",
       "      <td>No</td>\n",
       "      <td>No</td>\n",
       "      <td>No</td>\n",
       "      <td>No</td>\n",
       "      <td>Month-to-month</td>\n",
       "      <td>Yes</td>\n",
       "      <td>Mailed check</td>\n",
       "      <td>53.85</td>\n",
       "      <td>108.15</td>\n",
       "      <td>Yes</td>\n",
       "    </tr>\n",
       "    <tr>\n",
       "      <th>3</th>\n",
       "      <td>7795-CFOCW</td>\n",
       "      <td>Male</td>\n",
       "      <td>0</td>\n",
       "      <td>No</td>\n",
       "      <td>No</td>\n",
       "      <td>45</td>\n",
       "      <td>No</td>\n",
       "      <td>No phone service</td>\n",
       "      <td>DSL</td>\n",
       "      <td>Yes</td>\n",
       "      <td>...</td>\n",
       "      <td>Yes</td>\n",
       "      <td>Yes</td>\n",
       "      <td>No</td>\n",
       "      <td>No</td>\n",
       "      <td>One year</td>\n",
       "      <td>No</td>\n",
       "      <td>Bank transfer (automatic)</td>\n",
       "      <td>42.30</td>\n",
       "      <td>1840.75</td>\n",
       "      <td>No</td>\n",
       "    </tr>\n",
       "    <tr>\n",
       "      <th>4</th>\n",
       "      <td>9237-HQITU</td>\n",
       "      <td>Female</td>\n",
       "      <td>0</td>\n",
       "      <td>No</td>\n",
       "      <td>No</td>\n",
       "      <td>2</td>\n",
       "      <td>Yes</td>\n",
       "      <td>No</td>\n",
       "      <td>Fiber optic</td>\n",
       "      <td>No</td>\n",
       "      <td>...</td>\n",
       "      <td>No</td>\n",
       "      <td>No</td>\n",
       "      <td>No</td>\n",
       "      <td>No</td>\n",
       "      <td>Month-to-month</td>\n",
       "      <td>Yes</td>\n",
       "      <td>Electronic check</td>\n",
       "      <td>70.70</td>\n",
       "      <td>151.65</td>\n",
       "      <td>Yes</td>\n",
       "    </tr>\n",
       "    <tr>\n",
       "      <th>...</th>\n",
       "      <td>...</td>\n",
       "      <td>...</td>\n",
       "      <td>...</td>\n",
       "      <td>...</td>\n",
       "      <td>...</td>\n",
       "      <td>...</td>\n",
       "      <td>...</td>\n",
       "      <td>...</td>\n",
       "      <td>...</td>\n",
       "      <td>...</td>\n",
       "      <td>...</td>\n",
       "      <td>...</td>\n",
       "      <td>...</td>\n",
       "      <td>...</td>\n",
       "      <td>...</td>\n",
       "      <td>...</td>\n",
       "      <td>...</td>\n",
       "      <td>...</td>\n",
       "      <td>...</td>\n",
       "      <td>...</td>\n",
       "      <td>...</td>\n",
       "    </tr>\n",
       "    <tr>\n",
       "      <th>7038</th>\n",
       "      <td>6840-RESVB</td>\n",
       "      <td>Male</td>\n",
       "      <td>0</td>\n",
       "      <td>Yes</td>\n",
       "      <td>Yes</td>\n",
       "      <td>24</td>\n",
       "      <td>Yes</td>\n",
       "      <td>Yes</td>\n",
       "      <td>DSL</td>\n",
       "      <td>Yes</td>\n",
       "      <td>...</td>\n",
       "      <td>Yes</td>\n",
       "      <td>Yes</td>\n",
       "      <td>Yes</td>\n",
       "      <td>Yes</td>\n",
       "      <td>One year</td>\n",
       "      <td>Yes</td>\n",
       "      <td>Mailed check</td>\n",
       "      <td>84.80</td>\n",
       "      <td>1990.5</td>\n",
       "      <td>No</td>\n",
       "    </tr>\n",
       "    <tr>\n",
       "      <th>7039</th>\n",
       "      <td>2234-XADUH</td>\n",
       "      <td>Female</td>\n",
       "      <td>0</td>\n",
       "      <td>Yes</td>\n",
       "      <td>Yes</td>\n",
       "      <td>72</td>\n",
       "      <td>Yes</td>\n",
       "      <td>Yes</td>\n",
       "      <td>Fiber optic</td>\n",
       "      <td>No</td>\n",
       "      <td>...</td>\n",
       "      <td>Yes</td>\n",
       "      <td>No</td>\n",
       "      <td>Yes</td>\n",
       "      <td>Yes</td>\n",
       "      <td>One year</td>\n",
       "      <td>Yes</td>\n",
       "      <td>Credit card (automatic)</td>\n",
       "      <td>103.20</td>\n",
       "      <td>7362.9</td>\n",
       "      <td>No</td>\n",
       "    </tr>\n",
       "    <tr>\n",
       "      <th>7040</th>\n",
       "      <td>4801-JZAZL</td>\n",
       "      <td>Female</td>\n",
       "      <td>0</td>\n",
       "      <td>Yes</td>\n",
       "      <td>Yes</td>\n",
       "      <td>11</td>\n",
       "      <td>No</td>\n",
       "      <td>No phone service</td>\n",
       "      <td>DSL</td>\n",
       "      <td>Yes</td>\n",
       "      <td>...</td>\n",
       "      <td>No</td>\n",
       "      <td>No</td>\n",
       "      <td>No</td>\n",
       "      <td>No</td>\n",
       "      <td>Month-to-month</td>\n",
       "      <td>Yes</td>\n",
       "      <td>Electronic check</td>\n",
       "      <td>29.60</td>\n",
       "      <td>346.45</td>\n",
       "      <td>No</td>\n",
       "    </tr>\n",
       "    <tr>\n",
       "      <th>7041</th>\n",
       "      <td>8361-LTMKD</td>\n",
       "      <td>Male</td>\n",
       "      <td>1</td>\n",
       "      <td>Yes</td>\n",
       "      <td>No</td>\n",
       "      <td>4</td>\n",
       "      <td>Yes</td>\n",
       "      <td>Yes</td>\n",
       "      <td>Fiber optic</td>\n",
       "      <td>No</td>\n",
       "      <td>...</td>\n",
       "      <td>No</td>\n",
       "      <td>No</td>\n",
       "      <td>No</td>\n",
       "      <td>No</td>\n",
       "      <td>Month-to-month</td>\n",
       "      <td>Yes</td>\n",
       "      <td>Mailed check</td>\n",
       "      <td>74.40</td>\n",
       "      <td>306.6</td>\n",
       "      <td>Yes</td>\n",
       "    </tr>\n",
       "    <tr>\n",
       "      <th>7042</th>\n",
       "      <td>3186-AJIEK</td>\n",
       "      <td>Male</td>\n",
       "      <td>0</td>\n",
       "      <td>No</td>\n",
       "      <td>No</td>\n",
       "      <td>66</td>\n",
       "      <td>Yes</td>\n",
       "      <td>No</td>\n",
       "      <td>Fiber optic</td>\n",
       "      <td>Yes</td>\n",
       "      <td>...</td>\n",
       "      <td>Yes</td>\n",
       "      <td>Yes</td>\n",
       "      <td>Yes</td>\n",
       "      <td>Yes</td>\n",
       "      <td>Two year</td>\n",
       "      <td>Yes</td>\n",
       "      <td>Bank transfer (automatic)</td>\n",
       "      <td>105.65</td>\n",
       "      <td>6844.5</td>\n",
       "      <td>No</td>\n",
       "    </tr>\n",
       "  </tbody>\n",
       "</table>\n",
       "<p>7043 rows × 21 columns</p>\n",
       "</div>"
      ],
      "text/plain": [
       "      customerID  gender  SeniorCitizen Partner Dependents  tenure  \\\n",
       "0     7590-VHVEG  Female              0     Yes         No       1   \n",
       "1     5575-GNVDE    Male              0      No         No      34   \n",
       "2     3668-QPYBK    Male              0      No         No       2   \n",
       "3     7795-CFOCW    Male              0      No         No      45   \n",
       "4     9237-HQITU  Female              0      No         No       2   \n",
       "...          ...     ...            ...     ...        ...     ...   \n",
       "7038  6840-RESVB    Male              0     Yes        Yes      24   \n",
       "7039  2234-XADUH  Female              0     Yes        Yes      72   \n",
       "7040  4801-JZAZL  Female              0     Yes        Yes      11   \n",
       "7041  8361-LTMKD    Male              1     Yes         No       4   \n",
       "7042  3186-AJIEK    Male              0      No         No      66   \n",
       "\n",
       "     PhoneService     MultipleLines InternetService OnlineSecurity  ...  \\\n",
       "0              No  No phone service             DSL             No  ...   \n",
       "1             Yes                No             DSL            Yes  ...   \n",
       "2             Yes                No             DSL            Yes  ...   \n",
       "3              No  No phone service             DSL            Yes  ...   \n",
       "4             Yes                No     Fiber optic             No  ...   \n",
       "...           ...               ...             ...            ...  ...   \n",
       "7038          Yes               Yes             DSL            Yes  ...   \n",
       "7039          Yes               Yes     Fiber optic             No  ...   \n",
       "7040           No  No phone service             DSL            Yes  ...   \n",
       "7041          Yes               Yes     Fiber optic             No  ...   \n",
       "7042          Yes                No     Fiber optic            Yes  ...   \n",
       "\n",
       "     DeviceProtection TechSupport StreamingTV StreamingMovies        Contract  \\\n",
       "0                  No          No          No              No  Month-to-month   \n",
       "1                 Yes          No          No              No        One year   \n",
       "2                  No          No          No              No  Month-to-month   \n",
       "3                 Yes         Yes          No              No        One year   \n",
       "4                  No          No          No              No  Month-to-month   \n",
       "...               ...         ...         ...             ...             ...   \n",
       "7038              Yes         Yes         Yes             Yes        One year   \n",
       "7039              Yes          No         Yes             Yes        One year   \n",
       "7040               No          No          No              No  Month-to-month   \n",
       "7041               No          No          No              No  Month-to-month   \n",
       "7042              Yes         Yes         Yes             Yes        Two year   \n",
       "\n",
       "     PaperlessBilling              PaymentMethod MonthlyCharges  TotalCharges  \\\n",
       "0                 Yes           Electronic check          29.85         29.85   \n",
       "1                  No               Mailed check          56.95        1889.5   \n",
       "2                 Yes               Mailed check          53.85        108.15   \n",
       "3                  No  Bank transfer (automatic)          42.30       1840.75   \n",
       "4                 Yes           Electronic check          70.70        151.65   \n",
       "...               ...                        ...            ...           ...   \n",
       "7038              Yes               Mailed check          84.80        1990.5   \n",
       "7039              Yes    Credit card (automatic)         103.20        7362.9   \n",
       "7040              Yes           Electronic check          29.60        346.45   \n",
       "7041              Yes               Mailed check          74.40         306.6   \n",
       "7042              Yes  Bank transfer (automatic)         105.65        6844.5   \n",
       "\n",
       "     Churn  \n",
       "0       No  \n",
       "1       No  \n",
       "2      Yes  \n",
       "3       No  \n",
       "4      Yes  \n",
       "...    ...  \n",
       "7038    No  \n",
       "7039    No  \n",
       "7040    No  \n",
       "7041   Yes  \n",
       "7042    No  \n",
       "\n",
       "[7043 rows x 21 columns]"
      ]
     },
     "execution_count": 2,
     "metadata": {},
     "output_type": "execute_result"
    }
   ],
   "source": [
    "data = pd.read_csv('Telecom-Churn.csv', )\n",
    "data"
   ]
  },
  {
   "cell_type": "markdown",
   "id": "6ae65eda",
   "metadata": {},
   "source": [
    "## EDA"
   ]
  },
  {
   "cell_type": "markdown",
   "id": "27242804",
   "metadata": {},
   "source": [
    "### Data understanding & checking missing/null values"
   ]
  },
  {
   "cell_type": "code",
   "execution_count": 3,
   "id": "e508f83f",
   "metadata": {},
   "outputs": [
    {
     "name": "stdout",
     "output_type": "stream",
     "text": [
      "=============================\n",
      "Shape:  (7043, 21)\n",
      "=============================\n",
      "\n"
     ]
    }
   ],
   "source": [
    "# Checking the size of dataset\n",
    "print('=============================')\n",
    "print('Shape: ', data.shape)\n",
    "print('=============================\\n')"
   ]
  },
  {
   "cell_type": "code",
   "execution_count": 4,
   "id": "cca0739f",
   "metadata": {},
   "outputs": [
    {
     "name": "stdout",
     "output_type": "stream",
     "text": [
      "<class 'pandas.core.frame.DataFrame'>\n",
      "RangeIndex: 7043 entries, 0 to 7042\n",
      "Data columns (total 21 columns):\n",
      " #   Column            Non-Null Count  Dtype  \n",
      "---  ------            --------------  -----  \n",
      " 0   customerID        7043 non-null   object \n",
      " 1   gender            7043 non-null   object \n",
      " 2   SeniorCitizen     7043 non-null   int64  \n",
      " 3   Partner           7043 non-null   object \n",
      " 4   Dependents        7043 non-null   object \n",
      " 5   tenure            7043 non-null   int64  \n",
      " 6   PhoneService      7043 non-null   object \n",
      " 7   MultipleLines     7043 non-null   object \n",
      " 8   InternetService   7043 non-null   object \n",
      " 9   OnlineSecurity    7043 non-null   object \n",
      " 10  OnlineBackup      7043 non-null   object \n",
      " 11  DeviceProtection  7043 non-null   object \n",
      " 12  TechSupport       7043 non-null   object \n",
      " 13  StreamingTV       7043 non-null   object \n",
      " 14  StreamingMovies   7043 non-null   object \n",
      " 15  Contract          7043 non-null   object \n",
      " 16  PaperlessBilling  7043 non-null   object \n",
      " 17  PaymentMethod     7043 non-null   object \n",
      " 18  MonthlyCharges    7043 non-null   float64\n",
      " 19  TotalCharges      7043 non-null   object \n",
      " 20  Churn             7043 non-null   object \n",
      "dtypes: float64(1), int64(2), object(18)\n",
      "memory usage: 1.1+ MB\n"
     ]
    }
   ],
   "source": [
    "#Summarizing the overall dataset\n",
    "data.info()"
   ]
  },
  {
   "cell_type": "code",
   "execution_count": 5,
   "id": "2ae2ee69",
   "metadata": {},
   "outputs": [],
   "source": [
    "#dropping the unnecessary columns \n",
    "data.drop(['customerID', 'StreamingMovies'], axis=1, inplace=True)"
   ]
  },
  {
   "cell_type": "markdown",
   "id": "89591179",
   "metadata": {},
   "source": [
    "#### Streaming movies is removed as it will lead to multi-collinearity problem due to existence of Streaming TV"
   ]
  },
  {
   "cell_type": "code",
   "execution_count": 6,
   "id": "ff7ba336",
   "metadata": {},
   "outputs": [
    {
     "data": {
      "text/plain": [
       "(22, 19)"
      ]
     },
     "execution_count": 6,
     "metadata": {},
     "output_type": "execute_result"
    }
   ],
   "source": [
    "#Checking the duplicate data\n",
    "data[data.duplicated()].shape"
   ]
  },
  {
   "cell_type": "code",
   "execution_count": 7,
   "id": "f9516d96",
   "metadata": {},
   "outputs": [],
   "source": [
    "#Dropping the duplicate values\n",
    "data.drop_duplicates(inplace=True)"
   ]
  },
  {
   "cell_type": "code",
   "execution_count": 8,
   "id": "58202e5e",
   "metadata": {},
   "outputs": [
    {
     "data": {
      "text/html": [
       "<div>\n",
       "<style scoped>\n",
       "    .dataframe tbody tr th:only-of-type {\n",
       "        vertical-align: middle;\n",
       "    }\n",
       "\n",
       "    .dataframe tbody tr th {\n",
       "        vertical-align: top;\n",
       "    }\n",
       "\n",
       "    .dataframe thead th {\n",
       "        text-align: right;\n",
       "    }\n",
       "</style>\n",
       "<table border=\"1\" class=\"dataframe\">\n",
       "  <thead>\n",
       "    <tr style=\"text-align: right;\">\n",
       "      <th></th>\n",
       "      <th>gender</th>\n",
       "      <th>Partner</th>\n",
       "      <th>Dependents</th>\n",
       "      <th>PhoneService</th>\n",
       "      <th>MultipleLines</th>\n",
       "      <th>InternetService</th>\n",
       "      <th>OnlineSecurity</th>\n",
       "      <th>OnlineBackup</th>\n",
       "      <th>DeviceProtection</th>\n",
       "      <th>TechSupport</th>\n",
       "      <th>StreamingTV</th>\n",
       "      <th>Contract</th>\n",
       "      <th>PaperlessBilling</th>\n",
       "      <th>PaymentMethod</th>\n",
       "      <th>TotalCharges</th>\n",
       "      <th>Churn</th>\n",
       "    </tr>\n",
       "  </thead>\n",
       "  <tbody>\n",
       "    <tr>\n",
       "      <th>count</th>\n",
       "      <td>7021</td>\n",
       "      <td>7021</td>\n",
       "      <td>7021</td>\n",
       "      <td>7021</td>\n",
       "      <td>7021</td>\n",
       "      <td>7021</td>\n",
       "      <td>7021</td>\n",
       "      <td>7021</td>\n",
       "      <td>7021</td>\n",
       "      <td>7021</td>\n",
       "      <td>7021</td>\n",
       "      <td>7021</td>\n",
       "      <td>7021</td>\n",
       "      <td>7021</td>\n",
       "      <td>7021</td>\n",
       "      <td>7021</td>\n",
       "    </tr>\n",
       "    <tr>\n",
       "      <th>unique</th>\n",
       "      <td>2</td>\n",
       "      <td>2</td>\n",
       "      <td>2</td>\n",
       "      <td>2</td>\n",
       "      <td>3</td>\n",
       "      <td>3</td>\n",
       "      <td>3</td>\n",
       "      <td>3</td>\n",
       "      <td>3</td>\n",
       "      <td>3</td>\n",
       "      <td>3</td>\n",
       "      <td>3</td>\n",
       "      <td>2</td>\n",
       "      <td>4</td>\n",
       "      <td>6531</td>\n",
       "      <td>2</td>\n",
       "    </tr>\n",
       "    <tr>\n",
       "      <th>top</th>\n",
       "      <td>Male</td>\n",
       "      <td>No</td>\n",
       "      <td>No</td>\n",
       "      <td>Yes</td>\n",
       "      <td>No</td>\n",
       "      <td>Fiber optic</td>\n",
       "      <td>No</td>\n",
       "      <td>No</td>\n",
       "      <td>No</td>\n",
       "      <td>No</td>\n",
       "      <td>No</td>\n",
       "      <td>Month-to-month</td>\n",
       "      <td>Yes</td>\n",
       "      <td>Electronic check</td>\n",
       "      <td></td>\n",
       "      <td>No</td>\n",
       "    </tr>\n",
       "    <tr>\n",
       "      <th>freq</th>\n",
       "      <td>3541</td>\n",
       "      <td>3619</td>\n",
       "      <td>4911</td>\n",
       "      <td>6339</td>\n",
       "      <td>3368</td>\n",
       "      <td>3090</td>\n",
       "      <td>3490</td>\n",
       "      <td>3080</td>\n",
       "      <td>3087</td>\n",
       "      <td>3465</td>\n",
       "      <td>2802</td>\n",
       "      <td>3853</td>\n",
       "      <td>4161</td>\n",
       "      <td>2359</td>\n",
       "      <td>11</td>\n",
       "      <td>5164</td>\n",
       "    </tr>\n",
       "  </tbody>\n",
       "</table>\n",
       "</div>"
      ],
      "text/plain": [
       "       gender Partner Dependents PhoneService MultipleLines InternetService  \\\n",
       "count    7021    7021       7021         7021          7021            7021   \n",
       "unique      2       2          2            2             3               3   \n",
       "top      Male      No         No          Yes            No     Fiber optic   \n",
       "freq     3541    3619       4911         6339          3368            3090   \n",
       "\n",
       "       OnlineSecurity OnlineBackup DeviceProtection TechSupport StreamingTV  \\\n",
       "count            7021         7021             7021        7021        7021   \n",
       "unique              3            3                3           3           3   \n",
       "top                No           No               No          No          No   \n",
       "freq             3490         3080             3087        3465        2802   \n",
       "\n",
       "              Contract PaperlessBilling     PaymentMethod TotalCharges Churn  \n",
       "count             7021             7021              7021         7021  7021  \n",
       "unique               3                2                 4         6531     2  \n",
       "top     Month-to-month              Yes  Electronic check                 No  \n",
       "freq              3853             4161              2359           11  5164  "
      ]
     },
     "execution_count": 8,
     "metadata": {},
     "output_type": "execute_result"
    }
   ],
   "source": [
    "#Statistical description of categorical data\n",
    "data.describe(include='O')"
   ]
  },
  {
   "cell_type": "code",
   "execution_count": 9,
   "id": "535b840d",
   "metadata": {},
   "outputs": [
    {
     "data": {
      "text/html": [
       "<div>\n",
       "<style scoped>\n",
       "    .dataframe tbody tr th:only-of-type {\n",
       "        vertical-align: middle;\n",
       "    }\n",
       "\n",
       "    .dataframe tbody tr th {\n",
       "        vertical-align: top;\n",
       "    }\n",
       "\n",
       "    .dataframe thead th {\n",
       "        text-align: right;\n",
       "    }\n",
       "</style>\n",
       "<table border=\"1\" class=\"dataframe\">\n",
       "  <thead>\n",
       "    <tr style=\"text-align: right;\">\n",
       "      <th></th>\n",
       "      <th>SeniorCitizen</th>\n",
       "      <th>tenure</th>\n",
       "      <th>MonthlyCharges</th>\n",
       "    </tr>\n",
       "  </thead>\n",
       "  <tbody>\n",
       "    <tr>\n",
       "      <th>count</th>\n",
       "      <td>7021.000000</td>\n",
       "      <td>7021.000000</td>\n",
       "      <td>7021.000000</td>\n",
       "    </tr>\n",
       "    <tr>\n",
       "      <th>mean</th>\n",
       "      <td>0.162512</td>\n",
       "      <td>32.469449</td>\n",
       "      <td>64.851894</td>\n",
       "    </tr>\n",
       "    <tr>\n",
       "      <th>std</th>\n",
       "      <td>0.368947</td>\n",
       "      <td>24.534965</td>\n",
       "      <td>30.069001</td>\n",
       "    </tr>\n",
       "    <tr>\n",
       "      <th>min</th>\n",
       "      <td>0.000000</td>\n",
       "      <td>0.000000</td>\n",
       "      <td>18.250000</td>\n",
       "    </tr>\n",
       "    <tr>\n",
       "      <th>25%</th>\n",
       "      <td>0.000000</td>\n",
       "      <td>9.000000</td>\n",
       "      <td>35.750000</td>\n",
       "    </tr>\n",
       "    <tr>\n",
       "      <th>50%</th>\n",
       "      <td>0.000000</td>\n",
       "      <td>29.000000</td>\n",
       "      <td>70.400000</td>\n",
       "    </tr>\n",
       "    <tr>\n",
       "      <th>75%</th>\n",
       "      <td>0.000000</td>\n",
       "      <td>55.000000</td>\n",
       "      <td>89.900000</td>\n",
       "    </tr>\n",
       "    <tr>\n",
       "      <th>max</th>\n",
       "      <td>1.000000</td>\n",
       "      <td>72.000000</td>\n",
       "      <td>118.750000</td>\n",
       "    </tr>\n",
       "  </tbody>\n",
       "</table>\n",
       "</div>"
      ],
      "text/plain": [
       "       SeniorCitizen       tenure  MonthlyCharges\n",
       "count    7021.000000  7021.000000     7021.000000\n",
       "mean        0.162512    32.469449       64.851894\n",
       "std         0.368947    24.534965       30.069001\n",
       "min         0.000000     0.000000       18.250000\n",
       "25%         0.000000     9.000000       35.750000\n",
       "50%         0.000000    29.000000       70.400000\n",
       "75%         0.000000    55.000000       89.900000\n",
       "max         1.000000    72.000000      118.750000"
      ]
     },
     "execution_count": 9,
     "metadata": {},
     "output_type": "execute_result"
    }
   ],
   "source": [
    "#Statistical description of numerical data\n",
    "data.describe()"
   ]
  },
  {
   "cell_type": "code",
   "execution_count": 10,
   "id": "4371ba11",
   "metadata": {},
   "outputs": [
    {
     "data": {
      "text/plain": [
       "(7021, 19)"
      ]
     },
     "execution_count": 10,
     "metadata": {},
     "output_type": "execute_result"
    }
   ],
   "source": [
    "#Rechecking the shape of dataset\n",
    "data.shape"
   ]
  },
  {
   "cell_type": "code",
   "execution_count": 11,
   "id": "06a820f1",
   "metadata": {},
   "outputs": [
    {
     "name": "stdout",
     "output_type": "stream",
     "text": [
      "<class 'pandas.core.frame.DataFrame'>\n",
      "Int64Index: 7021 entries, 0 to 7042\n",
      "Data columns (total 19 columns):\n",
      " #   Column            Non-Null Count  Dtype  \n",
      "---  ------            --------------  -----  \n",
      " 0   gender            7021 non-null   object \n",
      " 1   SeniorCitizen     7021 non-null   int64  \n",
      " 2   Partner           7021 non-null   object \n",
      " 3   Dependents        7021 non-null   object \n",
      " 4   tenure            7021 non-null   int64  \n",
      " 5   PhoneService      7021 non-null   object \n",
      " 6   MultipleLines     7021 non-null   object \n",
      " 7   InternetService   7021 non-null   object \n",
      " 8   OnlineSecurity    7021 non-null   object \n",
      " 9   OnlineBackup      7021 non-null   object \n",
      " 10  DeviceProtection  7021 non-null   object \n",
      " 11  TechSupport       7021 non-null   object \n",
      " 12  StreamingTV       7021 non-null   object \n",
      " 13  Contract          7021 non-null   object \n",
      " 14  PaperlessBilling  7021 non-null   object \n",
      " 15  PaymentMethod     7021 non-null   object \n",
      " 16  MonthlyCharges    7021 non-null   float64\n",
      " 17  TotalCharges      7021 non-null   object \n",
      " 18  Churn             7021 non-null   object \n",
      "dtypes: float64(1), int64(2), object(16)\n",
      "memory usage: 1.1+ MB\n"
     ]
    }
   ],
   "source": [
    "#Rechecking the summary of dataset\n",
    "data.info()"
   ]
  },
  {
   "cell_type": "markdown",
   "id": "11fad8b9",
   "metadata": {},
   "source": [
    "#### From above summary, \n",
    "* TotalCharges feature found to be of 'object datatype. Let's focus on it first! "
   ]
  },
  {
   "cell_type": "code",
   "execution_count": 12,
   "id": "928122b0",
   "metadata": {
    "scrolled": true
   },
   "outputs": [
    {
     "data": {
      "text/plain": [
       "' '"
      ]
     },
     "execution_count": 12,
     "metadata": {},
     "output_type": "execute_result"
    }
   ],
   "source": [
    "#Checking the min value of column - TotalCharges\n",
    "data.TotalCharges.min()"
   ]
  },
  {
   "cell_type": "code",
   "execution_count": 13,
   "id": "63f3000e",
   "metadata": {},
   "outputs": [],
   "source": [
    "#Changing the datatype of column TotalCharges\n",
    "data['TotalCharges'] = pd.to_numeric(data['TotalCharges'], errors='coerce')"
   ]
  },
  {
   "cell_type": "code",
   "execution_count": 14,
   "id": "86fbdbb1",
   "metadata": {},
   "outputs": [
    {
     "data": {
      "text/plain": [
       "dtype('float64')"
      ]
     },
     "execution_count": 14,
     "metadata": {},
     "output_type": "execute_result"
    }
   ],
   "source": [
    "#Rechecking the datatype\n",
    "data.TotalCharges.dtype"
   ]
  },
  {
   "cell_type": "code",
   "execution_count": 15,
   "id": "ca750f3f",
   "metadata": {
    "scrolled": true,
    "tags": []
   },
   "outputs": [
    {
     "data": {
      "text/plain": [
       "gender               0\n",
       "SeniorCitizen        0\n",
       "Partner              0\n",
       "Dependents           0\n",
       "tenure               0\n",
       "PhoneService         0\n",
       "MultipleLines        0\n",
       "InternetService      0\n",
       "OnlineSecurity       0\n",
       "OnlineBackup         0\n",
       "DeviceProtection     0\n",
       "TechSupport          0\n",
       "StreamingTV          0\n",
       "Contract             0\n",
       "PaperlessBilling     0\n",
       "PaymentMethod        0\n",
       "MonthlyCharges       0\n",
       "TotalCharges        11\n",
       "Churn                0\n",
       "dtype: int64"
      ]
     },
     "execution_count": 15,
     "metadata": {},
     "output_type": "execute_result"
    }
   ],
   "source": [
    "#Rechecking any null values persists\n",
    "data.isna().sum()"
   ]
  },
  {
   "cell_type": "code",
   "execution_count": 16,
   "id": "7fa1c92c",
   "metadata": {},
   "outputs": [
    {
     "data": {
      "text/html": [
       "<div>\n",
       "<style scoped>\n",
       "    .dataframe tbody tr th:only-of-type {\n",
       "        vertical-align: middle;\n",
       "    }\n",
       "\n",
       "    .dataframe tbody tr th {\n",
       "        vertical-align: top;\n",
       "    }\n",
       "\n",
       "    .dataframe thead th {\n",
       "        text-align: right;\n",
       "    }\n",
       "</style>\n",
       "<table border=\"1\" class=\"dataframe\">\n",
       "  <thead>\n",
       "    <tr style=\"text-align: right;\">\n",
       "      <th></th>\n",
       "      <th>gender</th>\n",
       "      <th>SeniorCitizen</th>\n",
       "      <th>Partner</th>\n",
       "      <th>Dependents</th>\n",
       "      <th>tenure</th>\n",
       "      <th>PhoneService</th>\n",
       "      <th>MultipleLines</th>\n",
       "      <th>InternetService</th>\n",
       "      <th>OnlineSecurity</th>\n",
       "      <th>OnlineBackup</th>\n",
       "      <th>DeviceProtection</th>\n",
       "      <th>TechSupport</th>\n",
       "      <th>StreamingTV</th>\n",
       "      <th>Contract</th>\n",
       "      <th>PaperlessBilling</th>\n",
       "      <th>PaymentMethod</th>\n",
       "      <th>MonthlyCharges</th>\n",
       "      <th>TotalCharges</th>\n",
       "      <th>Churn</th>\n",
       "    </tr>\n",
       "  </thead>\n",
       "  <tbody>\n",
       "    <tr>\n",
       "      <th>488</th>\n",
       "      <td>Female</td>\n",
       "      <td>0</td>\n",
       "      <td>Yes</td>\n",
       "      <td>Yes</td>\n",
       "      <td>0</td>\n",
       "      <td>No</td>\n",
       "      <td>No phone service</td>\n",
       "      <td>DSL</td>\n",
       "      <td>Yes</td>\n",
       "      <td>No</td>\n",
       "      <td>Yes</td>\n",
       "      <td>Yes</td>\n",
       "      <td>Yes</td>\n",
       "      <td>Two year</td>\n",
       "      <td>Yes</td>\n",
       "      <td>Bank transfer (automatic)</td>\n",
       "      <td>52.55</td>\n",
       "      <td>NaN</td>\n",
       "      <td>No</td>\n",
       "    </tr>\n",
       "    <tr>\n",
       "      <th>753</th>\n",
       "      <td>Male</td>\n",
       "      <td>0</td>\n",
       "      <td>No</td>\n",
       "      <td>Yes</td>\n",
       "      <td>0</td>\n",
       "      <td>Yes</td>\n",
       "      <td>No</td>\n",
       "      <td>No</td>\n",
       "      <td>No internet service</td>\n",
       "      <td>No internet service</td>\n",
       "      <td>No internet service</td>\n",
       "      <td>No internet service</td>\n",
       "      <td>No internet service</td>\n",
       "      <td>Two year</td>\n",
       "      <td>No</td>\n",
       "      <td>Mailed check</td>\n",
       "      <td>20.25</td>\n",
       "      <td>NaN</td>\n",
       "      <td>No</td>\n",
       "    </tr>\n",
       "    <tr>\n",
       "      <th>936</th>\n",
       "      <td>Female</td>\n",
       "      <td>0</td>\n",
       "      <td>Yes</td>\n",
       "      <td>Yes</td>\n",
       "      <td>0</td>\n",
       "      <td>Yes</td>\n",
       "      <td>No</td>\n",
       "      <td>DSL</td>\n",
       "      <td>Yes</td>\n",
       "      <td>Yes</td>\n",
       "      <td>Yes</td>\n",
       "      <td>No</td>\n",
       "      <td>Yes</td>\n",
       "      <td>Two year</td>\n",
       "      <td>No</td>\n",
       "      <td>Mailed check</td>\n",
       "      <td>80.85</td>\n",
       "      <td>NaN</td>\n",
       "      <td>No</td>\n",
       "    </tr>\n",
       "    <tr>\n",
       "      <th>1082</th>\n",
       "      <td>Male</td>\n",
       "      <td>0</td>\n",
       "      <td>Yes</td>\n",
       "      <td>Yes</td>\n",
       "      <td>0</td>\n",
       "      <td>Yes</td>\n",
       "      <td>Yes</td>\n",
       "      <td>No</td>\n",
       "      <td>No internet service</td>\n",
       "      <td>No internet service</td>\n",
       "      <td>No internet service</td>\n",
       "      <td>No internet service</td>\n",
       "      <td>No internet service</td>\n",
       "      <td>Two year</td>\n",
       "      <td>No</td>\n",
       "      <td>Mailed check</td>\n",
       "      <td>25.75</td>\n",
       "      <td>NaN</td>\n",
       "      <td>No</td>\n",
       "    </tr>\n",
       "    <tr>\n",
       "      <th>1340</th>\n",
       "      <td>Female</td>\n",
       "      <td>0</td>\n",
       "      <td>Yes</td>\n",
       "      <td>Yes</td>\n",
       "      <td>0</td>\n",
       "      <td>No</td>\n",
       "      <td>No phone service</td>\n",
       "      <td>DSL</td>\n",
       "      <td>Yes</td>\n",
       "      <td>Yes</td>\n",
       "      <td>Yes</td>\n",
       "      <td>Yes</td>\n",
       "      <td>Yes</td>\n",
       "      <td>Two year</td>\n",
       "      <td>No</td>\n",
       "      <td>Credit card (automatic)</td>\n",
       "      <td>56.05</td>\n",
       "      <td>NaN</td>\n",
       "      <td>No</td>\n",
       "    </tr>\n",
       "    <tr>\n",
       "      <th>3331</th>\n",
       "      <td>Male</td>\n",
       "      <td>0</td>\n",
       "      <td>Yes</td>\n",
       "      <td>Yes</td>\n",
       "      <td>0</td>\n",
       "      <td>Yes</td>\n",
       "      <td>No</td>\n",
       "      <td>No</td>\n",
       "      <td>No internet service</td>\n",
       "      <td>No internet service</td>\n",
       "      <td>No internet service</td>\n",
       "      <td>No internet service</td>\n",
       "      <td>No internet service</td>\n",
       "      <td>Two year</td>\n",
       "      <td>No</td>\n",
       "      <td>Mailed check</td>\n",
       "      <td>19.85</td>\n",
       "      <td>NaN</td>\n",
       "      <td>No</td>\n",
       "    </tr>\n",
       "    <tr>\n",
       "      <th>3826</th>\n",
       "      <td>Male</td>\n",
       "      <td>0</td>\n",
       "      <td>Yes</td>\n",
       "      <td>Yes</td>\n",
       "      <td>0</td>\n",
       "      <td>Yes</td>\n",
       "      <td>Yes</td>\n",
       "      <td>No</td>\n",
       "      <td>No internet service</td>\n",
       "      <td>No internet service</td>\n",
       "      <td>No internet service</td>\n",
       "      <td>No internet service</td>\n",
       "      <td>No internet service</td>\n",
       "      <td>Two year</td>\n",
       "      <td>No</td>\n",
       "      <td>Mailed check</td>\n",
       "      <td>25.35</td>\n",
       "      <td>NaN</td>\n",
       "      <td>No</td>\n",
       "    </tr>\n",
       "    <tr>\n",
       "      <th>4380</th>\n",
       "      <td>Female</td>\n",
       "      <td>0</td>\n",
       "      <td>Yes</td>\n",
       "      <td>Yes</td>\n",
       "      <td>0</td>\n",
       "      <td>Yes</td>\n",
       "      <td>No</td>\n",
       "      <td>No</td>\n",
       "      <td>No internet service</td>\n",
       "      <td>No internet service</td>\n",
       "      <td>No internet service</td>\n",
       "      <td>No internet service</td>\n",
       "      <td>No internet service</td>\n",
       "      <td>Two year</td>\n",
       "      <td>No</td>\n",
       "      <td>Mailed check</td>\n",
       "      <td>20.00</td>\n",
       "      <td>NaN</td>\n",
       "      <td>No</td>\n",
       "    </tr>\n",
       "    <tr>\n",
       "      <th>5218</th>\n",
       "      <td>Male</td>\n",
       "      <td>0</td>\n",
       "      <td>Yes</td>\n",
       "      <td>Yes</td>\n",
       "      <td>0</td>\n",
       "      <td>Yes</td>\n",
       "      <td>No</td>\n",
       "      <td>No</td>\n",
       "      <td>No internet service</td>\n",
       "      <td>No internet service</td>\n",
       "      <td>No internet service</td>\n",
       "      <td>No internet service</td>\n",
       "      <td>No internet service</td>\n",
       "      <td>One year</td>\n",
       "      <td>Yes</td>\n",
       "      <td>Mailed check</td>\n",
       "      <td>19.70</td>\n",
       "      <td>NaN</td>\n",
       "      <td>No</td>\n",
       "    </tr>\n",
       "    <tr>\n",
       "      <th>6670</th>\n",
       "      <td>Female</td>\n",
       "      <td>0</td>\n",
       "      <td>Yes</td>\n",
       "      <td>Yes</td>\n",
       "      <td>0</td>\n",
       "      <td>Yes</td>\n",
       "      <td>Yes</td>\n",
       "      <td>DSL</td>\n",
       "      <td>No</td>\n",
       "      <td>Yes</td>\n",
       "      <td>Yes</td>\n",
       "      <td>Yes</td>\n",
       "      <td>Yes</td>\n",
       "      <td>Two year</td>\n",
       "      <td>No</td>\n",
       "      <td>Mailed check</td>\n",
       "      <td>73.35</td>\n",
       "      <td>NaN</td>\n",
       "      <td>No</td>\n",
       "    </tr>\n",
       "    <tr>\n",
       "      <th>6754</th>\n",
       "      <td>Male</td>\n",
       "      <td>0</td>\n",
       "      <td>No</td>\n",
       "      <td>Yes</td>\n",
       "      <td>0</td>\n",
       "      <td>Yes</td>\n",
       "      <td>Yes</td>\n",
       "      <td>DSL</td>\n",
       "      <td>Yes</td>\n",
       "      <td>Yes</td>\n",
       "      <td>No</td>\n",
       "      <td>Yes</td>\n",
       "      <td>No</td>\n",
       "      <td>Two year</td>\n",
       "      <td>Yes</td>\n",
       "      <td>Bank transfer (automatic)</td>\n",
       "      <td>61.90</td>\n",
       "      <td>NaN</td>\n",
       "      <td>No</td>\n",
       "    </tr>\n",
       "  </tbody>\n",
       "</table>\n",
       "</div>"
      ],
      "text/plain": [
       "      gender  SeniorCitizen Partner Dependents  tenure PhoneService  \\\n",
       "488   Female              0     Yes        Yes       0           No   \n",
       "753     Male              0      No        Yes       0          Yes   \n",
       "936   Female              0     Yes        Yes       0          Yes   \n",
       "1082    Male              0     Yes        Yes       0          Yes   \n",
       "1340  Female              0     Yes        Yes       0           No   \n",
       "3331    Male              0     Yes        Yes       0          Yes   \n",
       "3826    Male              0     Yes        Yes       0          Yes   \n",
       "4380  Female              0     Yes        Yes       0          Yes   \n",
       "5218    Male              0     Yes        Yes       0          Yes   \n",
       "6670  Female              0     Yes        Yes       0          Yes   \n",
       "6754    Male              0      No        Yes       0          Yes   \n",
       "\n",
       "         MultipleLines InternetService       OnlineSecurity  \\\n",
       "488   No phone service             DSL                  Yes   \n",
       "753                 No              No  No internet service   \n",
       "936                 No             DSL                  Yes   \n",
       "1082               Yes              No  No internet service   \n",
       "1340  No phone service             DSL                  Yes   \n",
       "3331                No              No  No internet service   \n",
       "3826               Yes              No  No internet service   \n",
       "4380                No              No  No internet service   \n",
       "5218                No              No  No internet service   \n",
       "6670               Yes             DSL                   No   \n",
       "6754               Yes             DSL                  Yes   \n",
       "\n",
       "             OnlineBackup     DeviceProtection          TechSupport  \\\n",
       "488                    No                  Yes                  Yes   \n",
       "753   No internet service  No internet service  No internet service   \n",
       "936                   Yes                  Yes                   No   \n",
       "1082  No internet service  No internet service  No internet service   \n",
       "1340                  Yes                  Yes                  Yes   \n",
       "3331  No internet service  No internet service  No internet service   \n",
       "3826  No internet service  No internet service  No internet service   \n",
       "4380  No internet service  No internet service  No internet service   \n",
       "5218  No internet service  No internet service  No internet service   \n",
       "6670                  Yes                  Yes                  Yes   \n",
       "6754                  Yes                   No                  Yes   \n",
       "\n",
       "              StreamingTV  Contract PaperlessBilling  \\\n",
       "488                   Yes  Two year              Yes   \n",
       "753   No internet service  Two year               No   \n",
       "936                   Yes  Two year               No   \n",
       "1082  No internet service  Two year               No   \n",
       "1340                  Yes  Two year               No   \n",
       "3331  No internet service  Two year               No   \n",
       "3826  No internet service  Two year               No   \n",
       "4380  No internet service  Two year               No   \n",
       "5218  No internet service  One year              Yes   \n",
       "6670                  Yes  Two year               No   \n",
       "6754                   No  Two year              Yes   \n",
       "\n",
       "                  PaymentMethod  MonthlyCharges  TotalCharges Churn  \n",
       "488   Bank transfer (automatic)           52.55           NaN    No  \n",
       "753                Mailed check           20.25           NaN    No  \n",
       "936                Mailed check           80.85           NaN    No  \n",
       "1082               Mailed check           25.75           NaN    No  \n",
       "1340    Credit card (automatic)           56.05           NaN    No  \n",
       "3331               Mailed check           19.85           NaN    No  \n",
       "3826               Mailed check           25.35           NaN    No  \n",
       "4380               Mailed check           20.00           NaN    No  \n",
       "5218               Mailed check           19.70           NaN    No  \n",
       "6670               Mailed check           73.35           NaN    No  \n",
       "6754  Bank transfer (automatic)           61.90           NaN    No  "
      ]
     },
     "execution_count": 16,
     "metadata": {},
     "output_type": "execute_result"
    }
   ],
   "source": [
    "#Checking the nan values w.r.t churn\n",
    "data[data['TotalCharges'].isna()]"
   ]
  },
  {
   "cell_type": "code",
   "execution_count": 17,
   "id": "299477ab",
   "metadata": {},
   "outputs": [],
   "source": [
    "#dropping the original TotalCharges column\n",
    "data.dropna(inplace=True)"
   ]
  },
  {
   "cell_type": "code",
   "execution_count": 18,
   "id": "fd74319d",
   "metadata": {},
   "outputs": [
    {
     "data": {
      "text/plain": [
       "(7010, 19)"
      ]
     },
     "execution_count": 18,
     "metadata": {},
     "output_type": "execute_result"
    }
   ],
   "source": [
    "#Rechecking the dataset after cleaning\n",
    "data.shape"
   ]
  },
  {
   "cell_type": "code",
   "execution_count": 19,
   "id": "e274c0fd",
   "metadata": {
    "scrolled": true
   },
   "outputs": [
    {
     "data": {
      "image/png": "[encoded data removed]",
      "text/plain": [
       "<Figure size 432x288 with 1 Axes>"
      ]
     },
     "metadata": {
      "needs_background": "light"
     },
     "output_type": "display_data"
    },
    {
     "data": {
      "image/png": "[encoded data removed]",
      "text/plain": [
       "<Figure size 432x288 with 1 Axes>"
      ]
     },
     "metadata": {
      "needs_background": "light"
     },
     "output_type": "display_data"
    },
    {
     "data": {
      "image/png": "[encoded data removed]",
      "text/plain": [
       "<Figure size 432x288 with 1 Axes>"
      ]
     },
     "metadata": {
      "needs_background": "light"
     },
     "output_type": "display_data"
    },
    {
     "data": {
      "image/png": "[encoded data removed]",
      "text/plain": [
       "<Figure size 432x288 with 1 Axes>"
      ]
     },
     "metadata": {
      "needs_background": "light"
     },
     "output_type": "display_data"
    }
   ],
   "source": [
    "##Checkig for the outliers in dataset\n",
    "coln = data.columns[data.dtypes!=\"object\"]\n",
    "\n",
    "for i in coln:\n",
    "    sns.boxplot(data=data[i])\n",
    "    plt.grid()\n",
    "    plt.title(i)\n",
    "    plt.show()"
   ]
  },
  {
   "cell_type": "code",
   "execution_count": 20,
   "id": "f89510fa",
   "metadata": {},
   "outputs": [
    {
     "data": {
      "text/plain": [
       "0    5869\n",
       "1    1141\n",
       "Name: SeniorCitizen, dtype: int64"
      ]
     },
     "execution_count": 20,
     "metadata": {},
     "output_type": "execute_result"
    }
   ],
   "source": [
    "#Exploring the feature with outlier\n",
    "data.SeniorCitizen.value_counts()"
   ]
  },
  {
   "cell_type": "markdown",
   "id": "f6d9c574",
   "metadata": {},
   "source": [
    "#### From above visual, \n",
    "* We can say that Senior Citizen feature has only two unique values, hence 1 is misrepresented as outlier. But, in reality it is not!! "
   ]
  },
  {
   "cell_type": "code",
   "execution_count": 21,
   "id": "fef9a7eb",
   "metadata": {},
   "outputs": [
    {
     "data": {
      "text/plain": [
       "Index(['gender', 'SeniorCitizen', 'Partner', 'Dependents', 'tenure',\n",
       "       'PhoneService', 'MultipleLines', 'InternetService', 'OnlineSecurity',\n",
       "       'OnlineBackup', 'DeviceProtection', 'TechSupport', 'StreamingTV',\n",
       "       'Contract', 'PaperlessBilling', 'PaymentMethod', 'MonthlyCharges',\n",
       "       'TotalCharges', 'Churn'],\n",
       "      dtype='object')"
      ]
     },
     "execution_count": 21,
     "metadata": {},
     "output_type": "execute_result"
    }
   ],
   "source": [
    "#Checking the columns of dataset\n",
    "data.columns"
   ]
  },
  {
   "cell_type": "code",
   "execution_count": 22,
   "id": "4ba9a126",
   "metadata": {},
   "outputs": [],
   "source": [
    "#Taking out the categorical columns from dataset\n",
    "cols = data.columns[data.dtypes=='object']"
   ]
  },
  {
   "cell_type": "code",
   "execution_count": 23,
   "id": "95010c61",
   "metadata": {
    "scrolled": true
   },
   "outputs": [
    {
     "name": "stdout",
     "output_type": "stream",
     "text": [
      "===================================================\n",
      "gender \n",
      " ['Female' 'Male']\n",
      "===================================================\n",
      "\n",
      "===================================================\n",
      "Partner \n",
      " ['Yes' 'No']\n",
      "===================================================\n",
      "\n",
      "===================================================\n",
      "Dependents \n",
      " ['No' 'Yes']\n",
      "===================================================\n",
      "\n",
      "===================================================\n",
      "PhoneService \n",
      " ['No' 'Yes']\n",
      "===================================================\n",
      "\n",
      "===================================================\n",
      "MultipleLines \n",
      " ['No phone service' 'No' 'Yes']\n",
      "===================================================\n",
      "\n",
      "===================================================\n",
      "InternetService \n",
      " ['DSL' 'Fiber optic' 'No']\n",
      "===================================================\n",
      "\n",
      "===================================================\n",
      "OnlineSecurity \n",
      " ['No' 'Yes' 'No internet service']\n",
      "===================================================\n",
      "\n",
      "===================================================\n",
      "OnlineBackup \n",
      " ['Yes' 'No' 'No internet service']\n",
      "===================================================\n",
      "\n",
      "===================================================\n",
      "DeviceProtection \n",
      " ['No' 'Yes' 'No internet service']\n",
      "===================================================\n",
      "\n",
      "===================================================\n",
      "TechSupport \n",
      " ['No' 'Yes' 'No internet service']\n",
      "===================================================\n",
      "\n",
      "===================================================\n",
      "StreamingTV \n",
      " ['No' 'Yes' 'No internet service']\n",
      "===================================================\n",
      "\n",
      "===================================================\n",
      "Contract \n",
      " ['Month-to-month' 'One year' 'Two year']\n",
      "===================================================\n",
      "\n",
      "===================================================\n",
      "PaperlessBilling \n",
      " ['Yes' 'No']\n",
      "===================================================\n",
      "\n",
      "===================================================\n",
      "PaymentMethod \n",
      " ['Electronic check' 'Mailed check' 'Bank transfer (automatic)'\n",
      " 'Credit card (automatic)']\n",
      "===================================================\n",
      "\n",
      "===================================================\n",
      "Churn \n",
      " ['No' 'Yes']\n",
      "===================================================\n",
      "\n"
     ]
    }
   ],
   "source": [
    "#Checking the unique values for categorical column\n",
    "for i in cols:\n",
    "    print('===================================================')\n",
    "    uq = data[i].unique()\n",
    "    print(i, '\\n',uq)\n",
    "    print('===================================================\\n')"
   ]
  },
  {
   "cell_type": "code",
   "execution_count": 24,
   "id": "3d1d6768",
   "metadata": {},
   "outputs": [
    {
     "name": "stdout",
     "output_type": "stream",
     "text": [
      "=================================\n",
      "gender \n",
      "\n",
      " Male      3535\n",
      "Female    3475\n",
      "Name: gender, dtype: int64\n",
      "=================================\n",
      "\n",
      "=================================\n",
      "Partner \n",
      "\n",
      " No     3617\n",
      "Yes    3393\n",
      "Name: Partner, dtype: int64\n",
      "=================================\n",
      "\n",
      "=================================\n",
      "Dependents \n",
      "\n",
      " No     4911\n",
      "Yes    2099\n",
      "Name: Dependents, dtype: int64\n",
      "=================================\n",
      "\n",
      "=================================\n",
      "PhoneService \n",
      "\n",
      " Yes    6330\n",
      "No      680\n",
      "Name: PhoneService, dtype: int64\n",
      "=================================\n",
      "\n",
      "=================================\n",
      "MultipleLines \n",
      "\n",
      " No                  3363\n",
      "Yes                 2967\n",
      "No phone service     680\n",
      "Name: MultipleLines, dtype: int64\n",
      "=================================\n",
      "\n",
      "=================================\n",
      "InternetService \n",
      "\n",
      " Fiber optic    3090\n",
      "DSL            2414\n",
      "No             1506\n",
      "Name: InternetService, dtype: int64\n",
      "=================================\n",
      "\n",
      "=================================\n",
      "OnlineSecurity \n",
      "\n",
      " No                     3489\n",
      "Yes                    2015\n",
      "No internet service    1506\n",
      "Name: OnlineSecurity, dtype: int64\n",
      "=================================\n",
      "\n",
      "=================================\n",
      "OnlineBackup \n",
      "\n",
      " No                     3079\n",
      "Yes                    2425\n",
      "No internet service    1506\n",
      "Name: OnlineBackup, dtype: int64\n",
      "=================================\n",
      "\n",
      "=================================\n",
      "DeviceProtection \n",
      "\n",
      " No                     3086\n",
      "Yes                    2418\n",
      "No internet service    1506\n",
      "Name: DeviceProtection, dtype: int64\n",
      "=================================\n",
      "\n",
      "=================================\n",
      "TechSupport \n",
      "\n",
      " No                     3464\n",
      "Yes                    2040\n",
      "No internet service    1506\n",
      "Name: TechSupport, dtype: int64\n",
      "=================================\n",
      "\n",
      "=================================\n",
      "StreamingTV \n",
      "\n",
      " No                     2801\n",
      "Yes                    2703\n",
      "No internet service    1506\n",
      "Name: StreamingTV, dtype: int64\n",
      "=================================\n",
      "\n",
      "=================================\n",
      "Contract \n",
      "\n",
      " Month-to-month    3853\n",
      "Two year          1685\n",
      "One year          1472\n",
      "Name: Contract, dtype: int64\n",
      "=================================\n",
      "\n",
      "=================================\n",
      "PaperlessBilling \n",
      "\n",
      " Yes    4158\n",
      "No     2852\n",
      "Name: PaperlessBilling, dtype: int64\n",
      "=================================\n",
      "\n",
      "=================================\n",
      "PaymentMethod \n",
      "\n",
      " Electronic check             2359\n",
      "Mailed check                 1588\n",
      "Bank transfer (automatic)    1542\n",
      "Credit card (automatic)      1521\n",
      "Name: PaymentMethod, dtype: int64\n",
      "=================================\n",
      "\n",
      "=================================\n",
      "Churn \n",
      "\n",
      " No     5153\n",
      "Yes    1857\n",
      "Name: Churn, dtype: int64\n",
      "=================================\n",
      "\n"
     ]
    }
   ],
   "source": [
    "#Count of the unique values for categorical columns\n",
    "for i in cols:\n",
    "    print('=================================')\n",
    "    un = data[i].value_counts()\n",
    "    print(i, '\\n\\n',un)\n",
    "    print('=================================\\n')"
   ]
  },
  {
   "cell_type": "code",
   "execution_count": 25,
   "id": "05c2dc57",
   "metadata": {
    "scrolled": true
   },
   "outputs": [
    {
     "data": {
      "image/png": "[encoded data removed]",
      "text/plain": [
       "<Figure size 432x288 with 1 Axes>"
      ]
     },
     "metadata": {
      "needs_background": "light"
     },
     "output_type": "display_data"
    },
    {
     "data": {
      "image/png": "[encoded data removed]",
      "text/plain": [
       "<Figure size 432x288 with 1 Axes>"
      ]
     },
     "metadata": {
      "needs_background": "light"
     },
     "output_type": "display_data"
    },
    {
     "data": {
      "image/png": "[encoded data removed]",
      "text/plain": [
       "<Figure size 432x288 with 1 Axes>"
      ]
     },
     "metadata": {
      "needs_background": "light"
     },
     "output_type": "display_data"
    },
    {
     "data": {
      "image/png": "[encoded data removed]",
      "text/plain": [
       "<Figure size 432x288 with 1 Axes>"
      ]
     },
     "metadata": {
      "needs_background": "light"
     },
     "output_type": "display_data"
    }
   ],
   "source": [
    "#Checking the distribution of data\n",
    "col = data.columns[data.dtypes!='object']\n",
    "for i in col:\n",
    "    data.hist(i)\n",
    "    plt.title(i)\n",
    "    plt.grid()\n",
    "    plt.grid() "
   ]
  },
  {
   "cell_type": "markdown",
   "id": "d9c8c5f3",
   "metadata": {},
   "source": [
    "#### Note:\n",
    "* In above steps, we have successfully removed the unnecessary columns, duplicate data, dropped null values from dataset.\n",
    "* We have also transformed Total Charges feature, and also checked the present of outliers and unique values, distribution of data etc.  "
   ]
  },
  {
   "cell_type": "markdown",
   "id": "41788d9b",
   "metadata": {},
   "source": [
    "### Data Visualization & Drawing Inference"
   ]
  },
  {
   "cell_type": "code",
   "execution_count": 26,
   "id": "08bdfe41",
   "metadata": {},
   "outputs": [
    {
     "data": {
      "image/png": "[encoded data removed]",
      "text/plain": [
       "<Figure size 576x360 with 1 Axes>"
      ]
     },
     "metadata": {
      "needs_background": "light"
     },
     "output_type": "display_data"
    }
   ],
   "source": [
    "#Visualising the target variable - customer churn\n",
    "plt.figure(figsize=(8,5))\n",
    "ax = sns.histplot(data['Churn'], color=['purple'], edgecolor='black')\n",
    "plt.title('Churned vs Non-Churned customers')\n",
    "ax.bar_label(ax.containers[0])\n",
    "plt.show()"
   ]
  },
  {
   "cell_type": "markdown",
   "id": "6c8242e8",
   "metadata": {},
   "source": [
    "#### From above visual, \n",
    "* We can say that count of 'NO' (Not Churned) is approx., 2.78 times greater  than 'YES' (Churned) variable. \n",
    "* Hence, dataset is highly imbalanced dataset."
   ]
  },
  {
   "cell_type": "code",
   "execution_count": 27,
   "id": "b672878b",
   "metadata": {
    "scrolled": false
   },
   "outputs": [
    {
     "data": {
      "image/png": "[encoded data removed]",
      "text/plain": [
       "<Figure size 432x288 with 1 Axes>"
      ]
     },
     "metadata": {},
     "output_type": "display_data"
    },
    {
     "name": "stdout",
     "output_type": "stream",
     "text": [
      "Tech_Support:\n",
      " No                     3464\n",
      "Yes                    2040\n",
      "No internet service    1506\n",
      "Name: TechSupport, dtype: int64\n"
     ]
    }
   ],
   "source": [
    "#Visualizing how many customer took tech support & churned\n",
    "data1 = data['TechSupport'].value_counts()\n",
    "ax = plt.pie(data1, labels=['No', 'Yes', 'NA'], autopct='%0.2f', explode=[0.0, 0.03, 0.0])\n",
    "plt.title('No. of customers w.r.t Tech_support\\n')\n",
    "plt.show()\n",
    "print('Tech_Support:\\n',data1)"
   ]
  },
  {
   "cell_type": "code",
   "execution_count": 28,
   "id": "8831f5e4",
   "metadata": {},
   "outputs": [
    {
     "data": {
      "text/plain": [
       "Churn\n",
       "True    310\n",
       "dtype: int64"
      ]
     },
     "execution_count": 28,
     "metadata": {},
     "output_type": "execute_result"
    }
   ],
   "source": [
    "#Checking how many customers who took tech_support have churned \n",
    "data[(data['Churn']=='Yes') & (data['TechSupport']=='Yes')].value_counts(data['Churn']=='Yes')"
   ]
  },
  {
   "cell_type": "code",
   "execution_count": 29,
   "id": "6f3ee965",
   "metadata": {},
   "outputs": [
    {
     "data": {
      "text/plain": [
       "Churn\n",
       "True    1438\n",
       "dtype: int64"
      ]
     },
     "execution_count": 29,
     "metadata": {},
     "output_type": "execute_result"
    }
   ],
   "source": [
    "#Checking the no. of customers churned without taking the tech-support service\n",
    "data[(data['Churn']=='Yes') & (data['TechSupport']=='No')].value_counts(data['Churn']=='Yes')"
   ]
  },
  {
   "cell_type": "markdown",
   "id": "8e24bde4",
   "metadata": {},
   "source": [
    "#### From above visual & analysis,\n",
    "* We can say that approx., 50% (3464) customers have not applied for tech support out of which 42% (1438) have churned/exited.\n",
    "\n",
    "\n",
    "* Around 30% (2040) customers took the service of tech support out of which only 15% (310) have churned/exited."
   ]
  },
  {
   "cell_type": "code",
   "execution_count": 30,
   "id": "40f08124",
   "metadata": {},
   "outputs": [
    {
     "data": {
      "image/png": "[encoded data removed]",
      "text/plain": [
       "<Figure size 432x288 with 1 Axes>"
      ]
     },
     "metadata": {},
     "output_type": "display_data"
    },
    {
     "name": "stdout",
     "output_type": "stream",
     "text": [
      "Internet_Service:\n",
      " Fiber optic    3090\n",
      "DSL            2414\n",
      "No             1506\n",
      "Name: InternetService, dtype: int64\n"
     ]
    }
   ],
   "source": [
    "##Visualizing how many customer with Internet Service have/not churned\n",
    "plt.pie(data['InternetService'].value_counts(), labels=['Fiber optic', 'DSL', 'No Internet service'], \n",
    "        autopct='%0.2f', explode=[0.0, 0.03, 0.0], colors=['brown', 'orange', 'green'])\n",
    "plt.title('No. of customer having different Internet_service\\n')\n",
    "plt.show()\n",
    "print('Internet_Service:\\n',data['InternetService'].value_counts())"
   ]
  },
  {
   "cell_type": "code",
   "execution_count": 31,
   "id": "b978aebc",
   "metadata": {},
   "outputs": [
    {
     "data": {
      "text/plain": [
       "Churn\n",
       "True    1291\n",
       "dtype: int64"
      ]
     },
     "execution_count": 31,
     "metadata": {},
     "output_type": "execute_result"
    }
   ],
   "source": [
    "#Checking how many customers who opted for fibre optic have churned \n",
    "data[(data['Churn']=='Yes') & (data['InternetService']=='Fiber optic')].value_counts(data['Churn']=='Yes')"
   ]
  },
  {
   "cell_type": "code",
   "execution_count": 32,
   "id": "8c584eee",
   "metadata": {},
   "outputs": [
    {
     "data": {
      "text/plain": [
       "Churn\n",
       "True    109\n",
       "dtype: int64"
      ]
     },
     "execution_count": 32,
     "metadata": {},
     "output_type": "execute_result"
    }
   ],
   "source": [
    "#Checking the no. of customers churned without taking the internet service\n",
    "data[(data['Churn']=='Yes') & (data['InternetService']=='No')].value_counts(data['Churn']=='Yes')"
   ]
  },
  {
   "cell_type": "code",
   "execution_count": 33,
   "id": "e03b49d1",
   "metadata": {},
   "outputs": [
    {
     "data": {
      "text/plain": [
       "Churn\n",
       "True    457\n",
       "dtype: int64"
      ]
     },
     "execution_count": 33,
     "metadata": {},
     "output_type": "execute_result"
    }
   ],
   "source": [
    "#Checking the no. of customers churned with DSL service\n",
    "data[(data['Churn']=='Yes') & (data['InternetService']=='DSL')].value_counts(data['Churn']=='Yes')"
   ]
  },
  {
   "cell_type": "markdown",
   "id": "8380b1a7",
   "metadata": {},
   "source": [
    "#### From above visuals & analysis,\n",
    "* Around 44% customers (3090) have opted for fiber optic service, followed by approx., 34% customers (2414) have opted for DSL service, and remaining have not opted to any Internet services.  \n",
    "\n",
    "\n",
    "* It is observed that customers with no Internet service have churned less compared to customers opted for either of Internet services."
   ]
  },
  {
   "cell_type": "code",
   "execution_count": 34,
   "id": "75cb6819",
   "metadata": {},
   "outputs": [
    {
     "data": {
      "image/png": "[encoded data removed]",
      "text/plain": [
       "<Figure size 576x432 with 1 Axes>"
      ]
     },
     "metadata": {
      "needs_background": "light"
     },
     "output_type": "display_data"
    }
   ],
   "source": [
    "#Checking the no. of customer's among different tenure distribution\n",
    "plt.figure(figsize=(8,6))\n",
    "plt.barh(width=data['tenure'].value_counts(), y=data['tenure'].unique(), height=0.5)\n",
    "plt.title(\"No. of customer's along different tenure (months)\\n\")\n",
    "plt.xlabel('Count of tenure')\n",
    "plt.ylabel('Tenure (in months)')\n",
    "plt.show()"
   ]
  },
  {
   "cell_type": "code",
   "execution_count": 35,
   "id": "4ffeb628",
   "metadata": {},
   "outputs": [
    {
     "data": {
      "text/plain": [
       "3608"
      ]
     },
     "execution_count": 35,
     "metadata": {},
     "output_type": "execute_result"
    }
   ],
   "source": [
    "#Checking the count of customers with tenure less than 30 months\n",
    "len(data[(data['tenure']<=30)]['tenure'])"
   ]
  },
  {
   "cell_type": "code",
   "execution_count": 36,
   "id": "5a73f577",
   "metadata": {},
   "outputs": [
    {
     "data": {
      "text/plain": [
       "Churn\n",
       "True    1413\n",
       "dtype: int64"
      ]
     },
     "execution_count": 36,
     "metadata": {},
     "output_type": "execute_result"
    }
   ],
   "source": [
    "#Checking the no. of customers churned having tenure less than 30 months\n",
    "data[(data['tenure']<=30) & (data['Churn']=='Yes')].value_counts(data['Churn']=='Yes')"
   ]
  },
  {
   "cell_type": "code",
   "execution_count": 37,
   "id": "bdc22252",
   "metadata": {},
   "outputs": [
    {
     "data": {
      "text/plain": [
       "3402"
      ]
     },
     "execution_count": 37,
     "metadata": {},
     "output_type": "execute_result"
    }
   ],
   "source": [
    "#Checking the count of customers with tenure greater than 30 months\n",
    "len(data[(data['tenure']>30)]['tenure'])"
   ]
  },
  {
   "cell_type": "code",
   "execution_count": 38,
   "id": "929cdc51",
   "metadata": {
    "scrolled": true
   },
   "outputs": [
    {
     "data": {
      "text/plain": [
       "Churn\n",
       "True    444\n",
       "dtype: int64"
      ]
     },
     "execution_count": 38,
     "metadata": {},
     "output_type": "execute_result"
    }
   ],
   "source": [
    "#Checking the no. of customers churned having tenure greater than 30 months\n",
    "data[(data['tenure']>30) & (data['Churn']=='Yes')].value_counts(data['Churn']=='Yes')"
   ]
  },
  {
   "cell_type": "markdown",
   "id": "21fb3ef5",
   "metadata": {},
   "source": [
    "#### From above visuals & analysis,\n",
    "* Around 52% customers (3608) have tenure less than 30 months; out of which approx., 40% customers (1413) have churned.  \n",
    "\n",
    "\n",
    "* It is found that customers with tenure greater than 30 months have churned less (13%) compared to customers with tenure of more than 30 months (40%)."
   ]
  },
  {
   "cell_type": "markdown",
   "id": "a327a4cc",
   "metadata": {},
   "source": [
    "## Data Preprocessing"
   ]
  },
  {
   "cell_type": "code",
   "execution_count": 39,
   "id": "48219dc0",
   "metadata": {},
   "outputs": [],
   "source": [
    "data1 = data.copy()"
   ]
  },
  {
   "cell_type": "markdown",
   "id": "2bd47370",
   "metadata": {},
   "source": [
    "### Label encoding"
   ]
  },
  {
   "cell_type": "code",
   "execution_count": 40,
   "id": "d4956814",
   "metadata": {},
   "outputs": [],
   "source": [
    "data1[cols] = data1[cols].apply(LabelEncoder().fit_transform)"
   ]
  },
  {
   "cell_type": "code",
   "execution_count": 41,
   "id": "ef4499a5",
   "metadata": {},
   "outputs": [
    {
     "name": "stdout",
     "output_type": "stream",
     "text": [
      "<class 'pandas.core.frame.DataFrame'>\n",
      "Int64Index: 7010 entries, 0 to 7042\n",
      "Data columns (total 19 columns):\n",
      " #   Column            Non-Null Count  Dtype  \n",
      "---  ------            --------------  -----  \n",
      " 0   gender            7010 non-null   int32  \n",
      " 1   SeniorCitizen     7010 non-null   int64  \n",
      " 2   Partner           7010 non-null   int32  \n",
      " 3   Dependents        7010 non-null   int32  \n",
      " 4   tenure            7010 non-null   int64  \n",
      " 5   PhoneService      7010 non-null   int32  \n",
      " 6   MultipleLines     7010 non-null   int32  \n",
      " 7   InternetService   7010 non-null   int32  \n",
      " 8   OnlineSecurity    7010 non-null   int32  \n",
      " 9   OnlineBackup      7010 non-null   int32  \n",
      " 10  DeviceProtection  7010 non-null   int32  \n",
      " 11  TechSupport       7010 non-null   int32  \n",
      " 12  StreamingTV       7010 non-null   int32  \n",
      " 13  Contract          7010 non-null   int32  \n",
      " 14  PaperlessBilling  7010 non-null   int32  \n",
      " 15  PaymentMethod     7010 non-null   int32  \n",
      " 16  MonthlyCharges    7010 non-null   float64\n",
      " 17  TotalCharges      7010 non-null   float64\n",
      " 18  Churn             7010 non-null   int32  \n",
      "dtypes: float64(2), int32(15), int64(2)\n",
      "memory usage: 942.6 KB\n"
     ]
    }
   ],
   "source": [
    "#Re-checking the datatype for all columns\n",
    "data1.info()"
   ]
  },
  {
   "cell_type": "markdown",
   "id": "ed643231",
   "metadata": {},
   "source": [
    "## Model  Building"
   ]
  },
  {
   "cell_type": "markdown",
   "id": "58ed311b",
   "metadata": {},
   "source": [
    "### Building Base Models with default parameters & all 18 features"
   ]
  },
  {
   "cell_type": "code",
   "execution_count": 42,
   "id": "a05ef800-665c-4e3a-93a7-17021841776c",
   "metadata": {},
   "outputs": [],
   "source": [
    "#Splitting the variables into features & target\n",
    "X = data1.iloc[:, :-1]\n",
    "y = data1[['Churn']]"
   ]
  },
  {
   "cell_type": "code",
   "execution_count": 43,
   "id": "b71447dd",
   "metadata": {},
   "outputs": [],
   "source": [
    "#Splitting data into training and testing dataset with 80:20 ratio\n",
    "X_train, X_test, y_train, y_test = train_test_split(X, y, test_size=0.35, stratify=y, random_state=0)"
   ]
  },
  {
   "cell_type": "code",
   "execution_count": 44,
   "id": "8416b58b",
   "metadata": {},
   "outputs": [],
   "source": [
    "#Building the different classification models with default parameters\n",
    "dt_mod  = DecisionTreeClassifier(criterion='gini', max_depth=None, random_state=0, ccp_alpha=0.0, min_samples_split=2)\n",
    "rf_mod  = RandomForestClassifier(n_estimators=100, criterion='gini', max_depth=None, min_samples_split=2, random_state=0, ccp_alpha=0.0)\n",
    "knn_mod = KNeighborsClassifier(n_neighbors=5, metric='minkowski')\n",
    "svm_mod = SVC(kernel='rbf', random_state=0)\n",
    "xgb_mod = XGBClassifier(n_estimators=100, random_state=0)"
   ]
  },
  {
   "cell_type": "markdown",
   "id": "ef74d9db",
   "metadata": {},
   "source": [
    "### Model Training with above base models"
   ]
  },
  {
   "cell_type": "code",
   "execution_count": 45,
   "id": "44b758d9",
   "metadata": {},
   "outputs": [
    {
     "name": "stdout",
     "output_type": "stream",
     "text": [
      "CPU times: total: 3.56 s\n",
      "Wall time: 2.07 s\n"
     ]
    },
    {
     "data": {
      "text/html": [
       "<style>#sk-container-id-1 {color: black;background-color: white;}#sk-container-id-1 pre{padding: 0;}#sk-container-id-1 div.sk-toggleable {background-color: white;}#sk-container-id-1 label.sk-toggleable__label {cursor: pointer;display: block;width: 100%;margin-bottom: 0;padding: 0.3em;box-sizing: border-box;text-align: center;}#sk-container-id-1 label.sk-toggleable__label-arrow:before {content: \"▸\";float: left;margin-right: 0.25em;color: #696969;}#sk-container-id-1 label.sk-toggleable__label-arrow:hover:before {color: black;}#sk-container-id-1 div.sk-estimator:hover label.sk-toggleable__label-arrow:before {color: black;}#sk-container-id-1 div.sk-toggleable__content {max-height: 0;max-width: 0;overflow: hidden;text-align: left;background-color: #f0f8ff;}#sk-container-id-1 div.sk-toggleable__content pre {margin: 0.2em;color: black;border-radius: 0.25em;background-color: #f0f8ff;}#sk-container-id-1 input.sk-toggleable__control:checked~div.sk-toggleable__content {max-height: 200px;max-width: 100%;overflow: auto;}#sk-container-id-1 input.sk-toggleable__control:checked~label.sk-toggleable__label-arrow:before {content: \"▾\";}#sk-container-id-1 div.sk-estimator input.sk-toggleable__control:checked~label.sk-toggleable__label {background-color: #d4ebff;}#sk-container-id-1 div.sk-label input.sk-toggleable__control:checked~label.sk-toggleable__label {background-color: #d4ebff;}#sk-container-id-1 input.sk-hidden--visually {border: 0;clip: rect(1px 1px 1px 1px);clip: rect(1px, 1px, 1px, 1px);height: 1px;margin: -1px;overflow: hidden;padding: 0;position: absolute;width: 1px;}#sk-container-id-1 div.sk-estimator {font-family: monospace;background-color: #f0f8ff;border: 1px dotted black;border-radius: 0.25em;box-sizing: border-box;margin-bottom: 0.5em;}#sk-container-id-1 div.sk-estimator:hover {background-color: #d4ebff;}#sk-container-id-1 div.sk-parallel-item::after {content: \"\";width: 100%;border-bottom: 1px solid gray;flex-grow: 1;}#sk-container-id-1 div.sk-label:hover label.sk-toggleable__label {background-color: #d4ebff;}#sk-container-id-1 div.sk-serial::before {content: \"\";position: absolute;border-left: 1px solid gray;box-sizing: border-box;top: 0;bottom: 0;left: 50%;z-index: 0;}#sk-container-id-1 div.sk-serial {display: flex;flex-direction: column;align-items: center;background-color: white;padding-right: 0.2em;padding-left: 0.2em;position: relative;}#sk-container-id-1 div.sk-item {position: relative;z-index: 1;}#sk-container-id-1 div.sk-parallel {display: flex;align-items: stretch;justify-content: center;background-color: white;position: relative;}#sk-container-id-1 div.sk-item::before, #sk-container-id-1 div.sk-parallel-item::before {content: \"\";position: absolute;border-left: 1px solid gray;box-sizing: border-box;top: 0;bottom: 0;left: 50%;z-index: -1;}#sk-container-id-1 div.sk-parallel-item {display: flex;flex-direction: column;z-index: 1;position: relative;background-color: white;}#sk-container-id-1 div.sk-parallel-item:first-child::after {align-self: flex-end;width: 50%;}#sk-container-id-1 div.sk-parallel-item:last-child::after {align-self: flex-start;width: 50%;}#sk-container-id-1 div.sk-parallel-item:only-child::after {width: 0;}#sk-container-id-1 div.sk-dashed-wrapped {border: 1px dashed gray;margin: 0 0.4em 0.5em 0.4em;box-sizing: border-box;padding-bottom: 0.4em;background-color: white;}#sk-container-id-1 div.sk-label label {font-family: monospace;font-weight: bold;display: inline-block;line-height: 1.2em;}#sk-container-id-1 div.sk-label-container {text-align: center;}#sk-container-id-1 div.sk-container {/* jupyter's `normalize.less` sets `[hidden] { display: none; }` but bootstrap.min.css set `[hidden] { display: none !important; }` so we also need the `!important` here to be able to override the default hidden behavior on the sphinx rendered scikit-learn.org. See: https://github.com/scikit-learn/scikit-learn/issues/21755 */display: inline-block !important;position: relative;}#sk-container-id-1 div.sk-text-repr-fallback {display: none;}</style><div id=\"sk-container-id-1\" class=\"sk-top-container\"><div class=\"sk-text-repr-fallback\"><pre>XGBClassifier(base_score=0.5, booster=&#x27;gbtree&#x27;, callbacks=None,\n",
       "              colsample_bylevel=1, colsample_bynode=1, colsample_bytree=1,\n",
       "              early_stopping_rounds=None, enable_categorical=False,\n",
       "              eval_metric=None, gamma=0, gpu_id=-1, grow_policy=&#x27;depthwise&#x27;,\n",
       "              importance_type=None, interaction_constraints=&#x27;&#x27;,\n",
       "              learning_rate=0.300000012, max_bin=256, max_cat_to_onehot=4,\n",
       "              max_delta_step=0, max_depth=6, max_leaves=0, min_child_weight=1,\n",
       "              missing=nan, monotone_constraints=&#x27;()&#x27;, n_estimators=100,\n",
       "              n_jobs=0, num_parallel_tree=1, predictor=&#x27;auto&#x27;, random_state=0,\n",
       "              reg_alpha=0, reg_lambda=1, ...)</pre><b>In a Jupyter environment, please rerun this cell to show the HTML representation or trust the notebook. <br />On GitHub, the HTML representation is unable to render, please try loading this page with nbviewer.org.</b></div><div class=\"sk-container\" hidden><div class=\"sk-item\"><div class=\"sk-estimator sk-toggleable\"><input class=\"sk-toggleable__control sk-hidden--visually\" id=\"sk-estimator-id-1\" type=\"checkbox\" checked><label for=\"sk-estimator-id-1\" class=\"sk-toggleable__label sk-toggleable__label-arrow\">XGBClassifier</label><div class=\"sk-toggleable__content\"><pre>XGBClassifier(base_score=0.5, booster=&#x27;gbtree&#x27;, callbacks=None,\n",
       "              colsample_bylevel=1, colsample_bynode=1, colsample_bytree=1,\n",
       "              early_stopping_rounds=None, enable_categorical=False,\n",
       "              eval_metric=None, gamma=0, gpu_id=-1, grow_policy=&#x27;depthwise&#x27;,\n",
       "              importance_type=None, interaction_constraints=&#x27;&#x27;,\n",
       "              learning_rate=0.300000012, max_bin=256, max_cat_to_onehot=4,\n",
       "              max_delta_step=0, max_depth=6, max_leaves=0, min_child_weight=1,\n",
       "              missing=nan, monotone_constraints=&#x27;()&#x27;, n_estimators=100,\n",
       "              n_jobs=0, num_parallel_tree=1, predictor=&#x27;auto&#x27;, random_state=0,\n",
       "              reg_alpha=0, reg_lambda=1, ...)</pre></div></div></div></div></div>"
      ],
      "text/plain": [
       "XGBClassifier(base_score=0.5, booster='gbtree', callbacks=None,\n",
       "              colsample_bylevel=1, colsample_bynode=1, colsample_bytree=1,\n",
       "              early_stopping_rounds=None, enable_categorical=False,\n",
       "              eval_metric=None, gamma=0, gpu_id=-1, grow_policy='depthwise',\n",
       "              importance_type=None, interaction_constraints='',\n",
       "              learning_rate=0.300000012, max_bin=256, max_cat_to_onehot=4,\n",
       "              max_delta_step=0, max_depth=6, max_leaves=0, min_child_weight=1,\n",
       "              missing=nan, monotone_constraints='()', n_estimators=100,\n",
       "              n_jobs=0, num_parallel_tree=1, predictor='auto', random_state=0,\n",
       "              reg_alpha=0, reg_lambda=1, ...)"
      ]
     },
     "execution_count": 45,
     "metadata": {},
     "output_type": "execute_result"
    }
   ],
   "source": [
    "%%time\n",
    "dt_mod.fit(X_train, y_train)\n",
    "rf_mod.fit(X_train, y_train)\n",
    "knn_mod.fit(X_train, y_train)\n",
    "svm_mod.fit(X_train, y_train)\n",
    "xgb_mod.fit(X_train, y_train)"
   ]
  },
  {
   "cell_type": "markdown",
   "id": "150226df",
   "metadata": {},
   "source": [
    "### Model Testing & Evaluation"
   ]
  },
  {
   "cell_type": "code",
   "execution_count": 46,
   "id": "e2130041",
   "metadata": {},
   "outputs": [
    {
     "name": "stdout",
     "output_type": "stream",
     "text": [
      "CPU times: total: 2.05 s\n",
      "Wall time: 1.03 s\n"
     ]
    }
   ],
   "source": [
    "%%time\n",
    "y_pred_dt  = dt_mod.predict(X_test)\n",
    "y_pred_rf  = rf_mod.predict(X_test)\n",
    "y_pred_knn = knn_mod.predict(X_test)\n",
    "y_pred_svm = svm_mod.predict(X_test)\n",
    "y_pred_xgb = xgb_mod.predict(X_test)"
   ]
  },
  {
   "cell_type": "markdown",
   "id": "4d1e02ff",
   "metadata": {},
   "source": [
    "### Analysing the model performance & accuracy "
   ]
  },
  {
   "cell_type": "code",
   "execution_count": 47,
   "id": "05607a8d",
   "metadata": {
    "scrolled": false
   },
   "outputs": [
    {
     "name": "stdout",
     "output_type": "stream",
     "text": [
      "ROC-AUC score for all models\n",
      "\n",
      "====================================\n",
      "Decision Tree : 0.653\n",
      "==================================== \n",
      "\n",
      "\n",
      "====================================\n",
      "Random Forest : 0.685\n",
      "==================================== \n",
      "\n",
      "\n",
      "====================================\n",
      "KNN : 0.665\n",
      "==================================== \n",
      "\n",
      "\n",
      "====================================\n",
      "SVM : 0.5\n",
      "==================================== \n",
      "\n",
      "\n",
      "====================================\n",
      "XGB : 0.704\n",
      "==================================== \n",
      "\n"
     ]
    }
   ],
   "source": [
    "#Testing the roc-auc score for all models\n",
    "cc = [y_pred_dt, y_pred_rf, y_pred_knn, y_pred_svm, y_pred_xgb]\n",
    "mm = ['Decision Tree', 'Random Forest', 'KNN', 'SVM', 'XGB']\n",
    "\n",
    "print('ROC-AUC score for all models')\n",
    "\n",
    "for i,j in zip(cc, mm):\n",
    "    print('\\n====================================')\n",
    "    print(j, ':', roc_auc_score(y_test, i).round(3))\n",
    "    print('====================================', '\\n')"
   ]
  },
  {
   "cell_type": "code",
   "execution_count": 48,
   "id": "1e183cc4",
   "metadata": {
    "scrolled": false
   },
   "outputs": [
    {
     "name": "stdout",
     "output_type": "stream",
     "text": [
      "Confusion Matrix for all models\n",
      "\n",
      " ======================================== \n",
      "\n",
      "Decision Tree\n"
     ]
    },
    {
     "data": {
      "image/png": "[encoded data removed]",
      "text/plain": [
       "<Figure size 432x288 with 2 Axes>"
      ]
     },
     "metadata": {
      "needs_background": "light"
     },
     "output_type": "display_data"
    },
    {
     "name": "stdout",
     "output_type": "stream",
     "text": [
      "\n",
      " ======================================== \n",
      "\n",
      "Random Forest\n"
     ]
    },
    {
     "data": {
      "image/png": "[encoded data removed]",
      "text/plain": [
       "<Figure size 432x288 with 2 Axes>"
      ]
     },
     "metadata": {
      "needs_background": "light"
     },
     "output_type": "display_data"
    },
    {
     "name": "stdout",
     "output_type": "stream",
     "text": [
      "\n",
      " ======================================== \n",
      "\n",
      "KNN\n"
     ]
    },
    {
     "data": {
      "image/png": "[encoded data removed]",
      "text/plain": [
       "<Figure size 432x288 with 2 Axes>"
      ]
     },
     "metadata": {
      "needs_background": "light"
     },
     "output_type": "display_data"
    },
    {
     "name": "stdout",
     "output_type": "stream",
     "text": [
      "\n",
      " ======================================== \n",
      "\n",
      "SVM\n"
     ]
    },
    {
     "data": {
      "image/png": "[encoded data removed]",
      "text/plain": [
       "<Figure size 432x288 with 2 Axes>"
      ]
     },
     "metadata": {
      "needs_background": "light"
     },
     "output_type": "display_data"
    },
    {
     "name": "stdout",
     "output_type": "stream",
     "text": [
      "\n",
      " ======================================== \n",
      "\n",
      "XGB\n"
     ]
    },
    {
     "data": {
      "image/png": "[encoded data removed]",
      "text/plain": [
       "<Figure size 432x288 with 2 Axes>"
      ]
     },
     "metadata": {
      "needs_background": "light"
     },
     "output_type": "display_data"
    }
   ],
   "source": [
    "#Plotting Confusion Matrix for all models\n",
    "mm = ['Decision Tree', 'Random Forest', 'KNN', 'SVM', 'XGB']\n",
    "dd = [dt_mod, rf_mod, knn_mod, svm_mod, xgb_mod]\n",
    "\n",
    "print('Confusion Matrix for all models')\n",
    "\n",
    "for i,j in zip(dd, mm):\n",
    "    print('\\n','========================================', '\\n')\n",
    "    print(j)\n",
    "    plot_confusion_matrix(i, X_test, y_test, display_labels= ['Not Churn', 'Churn'])   \n",
    "    plt.show()"
   ]
  },
  {
   "cell_type": "code",
   "execution_count": 49,
   "id": "fd0c62a2",
   "metadata": {
    "scrolled": false
   },
   "outputs": [
    {
     "name": "stdout",
     "output_type": "stream",
     "text": [
      "======================================================\n",
      "Decision Tree \n",
      "               precision    recall  f1-score   support\n",
      "\n",
      "           0       0.82      0.82      0.82      1804\n",
      "           1       0.49      0.48      0.49       650\n",
      "\n",
      "    accuracy                           0.73      2454\n",
      "   macro avg       0.65      0.65      0.65      2454\n",
      "weighted avg       0.73      0.73      0.73      2454\n",
      "\n",
      "====================================================== \n",
      "\n",
      "======================================================\n",
      "Random Forest \n",
      "               precision    recall  f1-score   support\n",
      "\n",
      "           0       0.82      0.91      0.86      1804\n",
      "           1       0.65      0.46      0.54       650\n",
      "\n",
      "    accuracy                           0.79      2454\n",
      "   macro avg       0.74      0.69      0.70      2454\n",
      "weighted avg       0.78      0.79      0.78      2454\n",
      "\n",
      "====================================================== \n",
      "\n",
      "======================================================\n",
      "KNN \n",
      "               precision    recall  f1-score   support\n",
      "\n",
      "           0       0.81      0.89      0.85      1804\n",
      "           1       0.60      0.44      0.50       650\n",
      "\n",
      "    accuracy                           0.77      2454\n",
      "   macro avg       0.71      0.67      0.68      2454\n",
      "weighted avg       0.76      0.77      0.76      2454\n",
      "\n",
      "====================================================== \n",
      "\n",
      "======================================================\n",
      "SVM \n",
      "               precision    recall  f1-score   support\n",
      "\n",
      "           0       0.74      1.00      0.85      1804\n",
      "           1       0.00      0.00      0.00       650\n",
      "\n",
      "    accuracy                           0.74      2454\n",
      "   macro avg       0.37      0.50      0.42      2454\n",
      "weighted avg       0.54      0.74      0.62      2454\n",
      "\n",
      "====================================================== \n",
      "\n",
      "======================================================\n",
      "XGB \n",
      "               precision    recall  f1-score   support\n",
      "\n",
      "           0       0.84      0.89      0.86      1804\n",
      "           1       0.63      0.52      0.57       650\n",
      "\n",
      "    accuracy                           0.79      2454\n",
      "   macro avg       0.73      0.70      0.71      2454\n",
      "weighted avg       0.78      0.79      0.78      2454\n",
      "\n",
      "====================================================== \n",
      "\n"
     ]
    }
   ],
   "source": [
    "#Classification Report for all models\n",
    "cc = [y_pred_dt, y_pred_rf, y_pred_knn, y_pred_svm, y_pred_xgb]\n",
    "mm = ['Decision Tree', 'Random Forest', 'KNN', 'SVM', 'XGB']\n",
    "\n",
    "for i,j in zip(cc, mm):\n",
    "    print('======================================================')\n",
    "    print(j, '\\n', classification_report(y_test, i))\n",
    "    print('======================================================', '\\n')"
   ]
  },
  {
   "cell_type": "markdown",
   "id": "eecb6ce0",
   "metadata": {},
   "source": [
    "#### From above model evaluation,\n",
    "* As per confusion matrix, our goal is minimise the False Negatives. Hence, except Support Vector Machine all models was able to predict False Negatives but still we have to reduce it as much possible.\n",
    "* As per classification report, we would try to maximise recall class 1. Except, SVM model, all model's recall value for class 1 is good but low. "
   ]
  },
  {
   "cell_type": "markdown",
   "id": "a6bb7755",
   "metadata": {},
   "source": [
    "#### Note:\n",
    "*As the dataset is highly imbalance, we will try to balance the dataset by applying various sampling techniques:*\n",
    "* SMOTE\n",
    "* ADASYN\n",
    "* SMOTE TOMEK"
   ]
  },
  {
   "cell_type": "markdown",
   "id": "6dc49210",
   "metadata": {},
   "source": [
    "## Sampling Techniques"
   ]
  },
  {
   "cell_type": "markdown",
   "id": "e3b2594a-edc8-4b94-b6b6-fcf43880e4b9",
   "metadata": {},
   "source": [
    "###  SMOTE: Synthetic Minority Over-sampling Technique \n",
    "* SMOTE works by selecting pair of minority class observations and then creating a synthetic point that lies on the line connecting these two. It is pretty liberal about selecting the minority points and may end up picking up minority points that are outliers."
   ]
  },
  {
   "cell_type": "code",
   "execution_count": 50,
   "id": "8a26c1d8-8e49-4dae-8b3e-d453dfe98fb2",
   "metadata": {},
   "outputs": [],
   "source": [
    "#Object Instantiation\n",
    "sm = SMOTE(random_state=0)"
   ]
  },
  {
   "cell_type": "code",
   "execution_count": 51,
   "id": "ae1f275d-2449-48aa-9fe0-5d626fbe1073",
   "metadata": {},
   "outputs": [],
   "source": [
    "#Resampling the dataset with smote\n",
    "X_res, y_res = sm.fit_resample(X, y)"
   ]
  },
  {
   "cell_type": "code",
   "execution_count": 52,
   "id": "bbc1c016-3281-42c1-83dd-3ddb26608ac4",
   "metadata": {},
   "outputs": [
    {
     "name": "stdout",
     "output_type": "stream",
     "text": [
      "X_res after resampling shape :  (10306, 18)\n",
      "y_res after resampling shape :  (10306, 1) \n",
      "\n",
      "Churn\n",
      "0        5153\n",
      "1        5153\n",
      "dtype: int64\n"
     ]
    }
   ],
   "source": [
    "#Rechecking the count of target variable after smote\n",
    "print('X_res after resampling shape : ' , X_res.shape)\n",
    "print('y_res after resampling shape : ' , y_res.shape, '\\n')\n",
    "print(y_res.value_counts())"
   ]
  },
  {
   "cell_type": "markdown",
   "id": "96e5a310-2ef9-4765-ae84-8b50b886b23a",
   "metadata": {},
   "source": [
    "#### Building models with balanced data (smote_resampled data)"
   ]
  },
  {
   "cell_type": "code",
   "execution_count": 53,
   "id": "b661c8cd-d270-4b2a-9fb9-e64c4c1032a7",
   "metadata": {},
   "outputs": [],
   "source": [
    "#Splitting data into training and testing dataset with 80:20 ratio\n",
    "X_train_res, X_test_res, y_train_res, y_test_res = train_test_split(X_res, y_res, random_state=0, test_size=0.35, stratify=y_res)"
   ]
  },
  {
   "cell_type": "code",
   "execution_count": 54,
   "id": "962988ee-6f7b-4f64-88a7-a233f9b503ed",
   "metadata": {},
   "outputs": [
    {
     "data": {
      "text/plain": [
       "((6698, 18), (3608, 18))"
      ]
     },
     "execution_count": 54,
     "metadata": {},
     "output_type": "execute_result"
    }
   ],
   "source": [
    "#Checking the size of features\n",
    "X_train_res.shape, X_test_res.shape"
   ]
  },
  {
   "cell_type": "markdown",
   "id": "084addbd",
   "metadata": {},
   "source": [
    "#### Model Building with default parameters & smote_resampled data"
   ]
  },
  {
   "cell_type": "code",
   "execution_count": 55,
   "id": "4cd88d44-e01c-4422-8f68-d3b98eae926a",
   "metadata": {},
   "outputs": [],
   "source": [
    "dt_mod2  = DecisionTreeClassifier(criterion='gini', max_depth=None, random_state=0)\n",
    "rf_mod2  = RandomForestClassifier(n_estimators=100, criterion='gini', max_depth=None, random_state=0)\n",
    "knn_mod2 = KNeighborsClassifier(n_neighbors=5, metric='minkowski')\n",
    "svm_mod2 = SVC(C=1.0, random_state=0)\n",
    "xgb_mod2 = XGBClassifier(n_estimators=100, random_state=0)"
   ]
  },
  {
   "cell_type": "markdown",
   "id": "5bfa371e",
   "metadata": {},
   "source": [
    "#### Model Training"
   ]
  },
  {
   "cell_type": "code",
   "execution_count": 56,
   "id": "c94cd9bf-e0ce-47f6-b046-9ace368c5ece",
   "metadata": {},
   "outputs": [
    {
     "name": "stdout",
     "output_type": "stream",
     "text": [
      "CPU times: total: 6.2 s\n",
      "Wall time: 3.9 s\n"
     ]
    },
    {
     "data": {
      "text/html": [
       "<style>#sk-container-id-2 {color: black;background-color: white;}#sk-container-id-2 pre{padding: 0;}#sk-container-id-2 div.sk-toggleable {background-color: white;}#sk-container-id-2 label.sk-toggleable__label {cursor: pointer;display: block;width: 100%;margin-bottom: 0;padding: 0.3em;box-sizing: border-box;text-align: center;}#sk-container-id-2 label.sk-toggleable__label-arrow:before {content: \"▸\";float: left;margin-right: 0.25em;color: #696969;}#sk-container-id-2 label.sk-toggleable__label-arrow:hover:before {color: black;}#sk-container-id-2 div.sk-estimator:hover label.sk-toggleable__label-arrow:before {color: black;}#sk-container-id-2 div.sk-toggleable__content {max-height: 0;max-width: 0;overflow: hidden;text-align: left;background-color: #f0f8ff;}#sk-container-id-2 div.sk-toggleable__content pre {margin: 0.2em;color: black;border-radius: 0.25em;background-color: #f0f8ff;}#sk-container-id-2 input.sk-toggleable__control:checked~div.sk-toggleable__content {max-height: 200px;max-width: 100%;overflow: auto;}#sk-container-id-2 input.sk-toggleable__control:checked~label.sk-toggleable__label-arrow:before {content: \"▾\";}#sk-container-id-2 div.sk-estimator input.sk-toggleable__control:checked~label.sk-toggleable__label {background-color: #d4ebff;}#sk-container-id-2 div.sk-label input.sk-toggleable__control:checked~label.sk-toggleable__label {background-color: #d4ebff;}#sk-container-id-2 input.sk-hidden--visually {border: 0;clip: rect(1px 1px 1px 1px);clip: rect(1px, 1px, 1px, 1px);height: 1px;margin: -1px;overflow: hidden;padding: 0;position: absolute;width: 1px;}#sk-container-id-2 div.sk-estimator {font-family: monospace;background-color: #f0f8ff;border: 1px dotted black;border-radius: 0.25em;box-sizing: border-box;margin-bottom: 0.5em;}#sk-container-id-2 div.sk-estimator:hover {background-color: #d4ebff;}#sk-container-id-2 div.sk-parallel-item::after {content: \"\";width: 100%;border-bottom: 1px solid gray;flex-grow: 1;}#sk-container-id-2 div.sk-label:hover label.sk-toggleable__label {background-color: #d4ebff;}#sk-container-id-2 div.sk-serial::before {content: \"\";position: absolute;border-left: 1px solid gray;box-sizing: border-box;top: 0;bottom: 0;left: 50%;z-index: 0;}#sk-container-id-2 div.sk-serial {display: flex;flex-direction: column;align-items: center;background-color: white;padding-right: 0.2em;padding-left: 0.2em;position: relative;}#sk-container-id-2 div.sk-item {position: relative;z-index: 1;}#sk-container-id-2 div.sk-parallel {display: flex;align-items: stretch;justify-content: center;background-color: white;position: relative;}#sk-container-id-2 div.sk-item::before, #sk-container-id-2 div.sk-parallel-item::before {content: \"\";position: absolute;border-left: 1px solid gray;box-sizing: border-box;top: 0;bottom: 0;left: 50%;z-index: -1;}#sk-container-id-2 div.sk-parallel-item {display: flex;flex-direction: column;z-index: 1;position: relative;background-color: white;}#sk-container-id-2 div.sk-parallel-item:first-child::after {align-self: flex-end;width: 50%;}#sk-container-id-2 div.sk-parallel-item:last-child::after {align-self: flex-start;width: 50%;}#sk-container-id-2 div.sk-parallel-item:only-child::after {width: 0;}#sk-container-id-2 div.sk-dashed-wrapped {border: 1px dashed gray;margin: 0 0.4em 0.5em 0.4em;box-sizing: border-box;padding-bottom: 0.4em;background-color: white;}#sk-container-id-2 div.sk-label label {font-family: monospace;font-weight: bold;display: inline-block;line-height: 1.2em;}#sk-container-id-2 div.sk-label-container {text-align: center;}#sk-container-id-2 div.sk-container {/* jupyter's `normalize.less` sets `[hidden] { display: none; }` but bootstrap.min.css set `[hidden] { display: none !important; }` so we also need the `!important` here to be able to override the default hidden behavior on the sphinx rendered scikit-learn.org. See: https://github.com/scikit-learn/scikit-learn/issues/21755 */display: inline-block !important;position: relative;}#sk-container-id-2 div.sk-text-repr-fallback {display: none;}</style><div id=\"sk-container-id-2\" class=\"sk-top-container\"><div class=\"sk-text-repr-fallback\"><pre>XGBClassifier(base_score=0.5, booster=&#x27;gbtree&#x27;, callbacks=None,\n",
       "              colsample_bylevel=1, colsample_bynode=1, colsample_bytree=1,\n",
       "              early_stopping_rounds=None, enable_categorical=False,\n",
       "              eval_metric=None, gamma=0, gpu_id=-1, grow_policy=&#x27;depthwise&#x27;,\n",
       "              importance_type=None, interaction_constraints=&#x27;&#x27;,\n",
       "              learning_rate=0.300000012, max_bin=256, max_cat_to_onehot=4,\n",
       "              max_delta_step=0, max_depth=6, max_leaves=0, min_child_weight=1,\n",
       "              missing=nan, monotone_constraints=&#x27;()&#x27;, n_estimators=100,\n",
       "              n_jobs=0, num_parallel_tree=1, predictor=&#x27;auto&#x27;, random_state=0,\n",
       "              reg_alpha=0, reg_lambda=1, ...)</pre><b>In a Jupyter environment, please rerun this cell to show the HTML representation or trust the notebook. <br />On GitHub, the HTML representation is unable to render, please try loading this page with nbviewer.org.</b></div><div class=\"sk-container\" hidden><div class=\"sk-item\"><div class=\"sk-estimator sk-toggleable\"><input class=\"sk-toggleable__control sk-hidden--visually\" id=\"sk-estimator-id-2\" type=\"checkbox\" checked><label for=\"sk-estimator-id-2\" class=\"sk-toggleable__label sk-toggleable__label-arrow\">XGBClassifier</label><div class=\"sk-toggleable__content\"><pre>XGBClassifier(base_score=0.5, booster=&#x27;gbtree&#x27;, callbacks=None,\n",
       "              colsample_bylevel=1, colsample_bynode=1, colsample_bytree=1,\n",
       "              early_stopping_rounds=None, enable_categorical=False,\n",
       "              eval_metric=None, gamma=0, gpu_id=-1, grow_policy=&#x27;depthwise&#x27;,\n",
       "              importance_type=None, interaction_constraints=&#x27;&#x27;,\n",
       "              learning_rate=0.300000012, max_bin=256, max_cat_to_onehot=4,\n",
       "              max_delta_step=0, max_depth=6, max_leaves=0, min_child_weight=1,\n",
       "              missing=nan, monotone_constraints=&#x27;()&#x27;, n_estimators=100,\n",
       "              n_jobs=0, num_parallel_tree=1, predictor=&#x27;auto&#x27;, random_state=0,\n",
       "              reg_alpha=0, reg_lambda=1, ...)</pre></div></div></div></div></div>"
      ],
      "text/plain": [
       "XGBClassifier(base_score=0.5, booster='gbtree', callbacks=None,\n",
       "              colsample_bylevel=1, colsample_bynode=1, colsample_bytree=1,\n",
       "              early_stopping_rounds=None, enable_categorical=False,\n",
       "              eval_metric=None, gamma=0, gpu_id=-1, grow_policy='depthwise',\n",
       "              importance_type=None, interaction_constraints='',\n",
       "              learning_rate=0.300000012, max_bin=256, max_cat_to_onehot=4,\n",
       "              max_delta_step=0, max_depth=6, max_leaves=0, min_child_weight=1,\n",
       "              missing=nan, monotone_constraints='()', n_estimators=100,\n",
       "              n_jobs=0, num_parallel_tree=1, predictor='auto', random_state=0,\n",
       "              reg_alpha=0, reg_lambda=1, ...)"
      ]
     },
     "execution_count": 56,
     "metadata": {},
     "output_type": "execute_result"
    }
   ],
   "source": [
    "%%time\n",
    "dt_mod2.fit(X_train_res, y_train_res)\n",
    "rf_mod2.fit(X_train_res, y_train_res)\n",
    "knn_mod2.fit(X_train_res, y_train_res)\n",
    "svm_mod2.fit(X_train_res, y_train_res)\n",
    "xgb_mod2.fit(X_train_res, y_train_res)"
   ]
  },
  {
   "cell_type": "markdown",
   "id": "36f566af",
   "metadata": {},
   "source": [
    "#### Model Testing & Evaluation"
   ]
  },
  {
   "cell_type": "code",
   "execution_count": 57,
   "id": "b9b29503-46eb-4d8b-9275-ad991a2faed7",
   "metadata": {},
   "outputs": [
    {
     "name": "stdout",
     "output_type": "stream",
     "text": [
      "CPU times: total: 3.5 s\n",
      "Wall time: 2.87 s\n"
     ]
    }
   ],
   "source": [
    "%%time\n",
    "y_pred_dt2  = dt_mod2.predict(X_test_res)\n",
    "y_pred_rf2  = rf_mod2.predict(X_test_res)\n",
    "y_pred_knn2 = knn_mod2.predict(X_test_res)\n",
    "y_pred_svm2 = svm_mod2.predict(X_test_res)\n",
    "y_pred_xgb2 = xgb_mod2.predict(X_test_res)"
   ]
  },
  {
   "cell_type": "code",
   "execution_count": 58,
   "id": "5e84c5ee",
   "metadata": {},
   "outputs": [
    {
     "name": "stdout",
     "output_type": "stream",
     "text": [
      "ROC-AUC score for all models\n",
      "\n",
      "====================================\n",
      "Decision Tree : 0.78\n",
      "==================================== \n",
      "\n",
      "\n",
      "====================================\n",
      "Random Forest : 0.84\n",
      "==================================== \n",
      "\n",
      "\n",
      "====================================\n",
      "KNN : 0.77\n",
      "==================================== \n",
      "\n",
      "\n",
      "====================================\n",
      "SVM : 0.65\n",
      "==================================== \n",
      "\n",
      "\n",
      "====================================\n",
      "XGB : 0.84\n",
      "==================================== \n",
      "\n"
     ]
    }
   ],
   "source": [
    "#Testing the roc-auc score for all models\n",
    "cc = [y_pred_dt2, y_pred_rf2, y_pred_knn2, y_pred_svm2, y_pred_xgb2]\n",
    "mm = ['Decision Tree', 'Random Forest', 'KNN', 'SVM', 'XGB']\n",
    "\n",
    "print('ROC-AUC score for all models')\n",
    "\n",
    "for i,j in zip(cc, mm):\n",
    "    print('\\n====================================')\n",
    "    print(j, ':', roc_auc_score(y_test_res, i).round(2))\n",
    "    print('====================================', '\\n')"
   ]
  },
  {
   "cell_type": "code",
   "execution_count": 59,
   "id": "45405d06-fb7f-4df2-92ff-bdb376e97b69",
   "metadata": {
    "scrolled": false
   },
   "outputs": [
    {
     "name": "stdout",
     "output_type": "stream",
     "text": [
      "Confusion Matrix for all models\n",
      "\n",
      " ======================================== \n",
      "\n",
      "Decision Tree\n"
     ]
    },
    {
     "data": {
      "image/png": "[encoded data removed]",
      "text/plain": [
       "<Figure size 432x288 with 2 Axes>"
      ]
     },
     "metadata": {
      "needs_background": "light"
     },
     "output_type": "display_data"
    },
    {
     "name": "stdout",
     "output_type": "stream",
     "text": [
      "\n",
      " ======================================== \n",
      "\n",
      "Random Forest\n"
     ]
    },
    {
     "data": {
      "image/png": "[encoded data removed]",
      "text/plain": [
       "<Figure size 432x288 with 2 Axes>"
      ]
     },
     "metadata": {
      "needs_background": "light"
     },
     "output_type": "display_data"
    },
    {
     "name": "stdout",
     "output_type": "stream",
     "text": [
      "\n",
      " ======================================== \n",
      "\n",
      "KNN\n"
     ]
    },
    {
     "data": {
      "image/png": "[encoded data removed]",
      "text/plain": [
       "<Figure size 432x288 with 2 Axes>"
      ]
     },
     "metadata": {
      "needs_background": "light"
     },
     "output_type": "display_data"
    },
    {
     "name": "stdout",
     "output_type": "stream",
     "text": [
      "\n",
      " ======================================== \n",
      "\n",
      "SVM\n"
     ]
    },
    {
     "data": {
      "image/png": "[encoded data removed]",
      "text/plain": [
       "<Figure size 432x288 with 2 Axes>"
      ]
     },
     "metadata": {
      "needs_background": "light"
     },
     "output_type": "display_data"
    },
    {
     "name": "stdout",
     "output_type": "stream",
     "text": [
      "\n",
      " ======================================== \n",
      "\n",
      "XGB\n"
     ]
    },
    {
     "data": {
      "image/png": "[encoded data removed]",
      "text/plain": [
       "<Figure size 432x288 with 2 Axes>"
      ]
     },
     "metadata": {
      "needs_background": "light"
     },
     "output_type": "display_data"
    }
   ],
   "source": [
    "#Plotting Confusion Matrix for all models\n",
    "mm = ['Decision Tree', 'Random Forest', 'KNN', 'SVM', 'XGB']\n",
    "dd = [dt_mod2 ,rf_mod2, knn_mod2, svm_mod2, xgb_mod2]\n",
    "\n",
    "print('Confusion Matrix for all models')\n",
    "\n",
    "for i,j in zip(dd, mm):\n",
    "    print('\\n','========================================', '\\n')\n",
    "    print(j)\n",
    "    plot_confusion_matrix(i, X_test_res, y_test_res, display_labels= ['Not Churn', 'Churn'])   \n",
    "    plt.show()"
   ]
  },
  {
   "cell_type": "code",
   "execution_count": 60,
   "id": "0d6cb4e3-370a-484d-bdd5-0434c24bd3a1",
   "metadata": {
    "scrolled": false
   },
   "outputs": [
    {
     "name": "stdout",
     "output_type": "stream",
     "text": [
      "======================================================\n",
      "Decision Tree \n",
      "               precision    recall  f1-score   support\n",
      "\n",
      "           0       0.78      0.77      0.77      1804\n",
      "           1       0.77      0.78      0.78      1804\n",
      "\n",
      "    accuracy                           0.78      3608\n",
      "   macro avg       0.78      0.78      0.78      3608\n",
      "weighted avg       0.78      0.78      0.78      3608\n",
      "\n",
      "====================================================== \n",
      "\n",
      "======================================================\n",
      "Random Forest \n",
      "               precision    recall  f1-score   support\n",
      "\n",
      "           0       0.84      0.84      0.84      1804\n",
      "           1       0.84      0.84      0.84      1804\n",
      "\n",
      "    accuracy                           0.84      3608\n",
      "   macro avg       0.84      0.84      0.84      3608\n",
      "weighted avg       0.84      0.84      0.84      3608\n",
      "\n",
      "====================================================== \n",
      "\n",
      "======================================================\n",
      "KNN \n",
      "               precision    recall  f1-score   support\n",
      "\n",
      "           0       0.79      0.74      0.76      1804\n",
      "           1       0.75      0.81      0.78      1804\n",
      "\n",
      "    accuracy                           0.77      3608\n",
      "   macro avg       0.77      0.77      0.77      3608\n",
      "weighted avg       0.77      0.77      0.77      3608\n",
      "\n",
      "====================================================== \n",
      "\n",
      "======================================================\n",
      "SVM \n",
      "               precision    recall  f1-score   support\n",
      "\n",
      "           0       0.64      0.71      0.67      1804\n",
      "           1       0.67      0.59      0.63      1804\n",
      "\n",
      "    accuracy                           0.65      3608\n",
      "   macro avg       0.66      0.65      0.65      3608\n",
      "weighted avg       0.66      0.65      0.65      3608\n",
      "\n",
      "====================================================== \n",
      "\n",
      "======================================================\n",
      "XGB \n",
      "               precision    recall  f1-score   support\n",
      "\n",
      "           0       0.84      0.84      0.84      1804\n",
      "           1       0.84      0.84      0.84      1804\n",
      "\n",
      "    accuracy                           0.84      3608\n",
      "   macro avg       0.84      0.84      0.84      3608\n",
      "weighted avg       0.84      0.84      0.84      3608\n",
      "\n",
      "====================================================== \n",
      "\n"
     ]
    }
   ],
   "source": [
    "#Classification Report for all models\n",
    "cc = [y_pred_dt2, y_pred_rf2, y_pred_knn2, y_pred_svm2, y_pred_xgb2]\n",
    "mm = ['Decision Tree', 'Random Forest', 'KNN', 'SVM', 'XGB']\n",
    "\n",
    "for i,j in zip(cc, mm):\n",
    "    print('======================================================')\n",
    "    print(j, '\\n', classification_report(y_test_res, i))\n",
    "    print('======================================================', '\\n')"
   ]
  },
  {
   "cell_type": "code",
   "execution_count": 61,
   "id": "8f548090-d728-40f6-9b01-3009a41ca220",
   "metadata": {
    "scrolled": true
   },
   "outputs": [
    {
     "data": {
      "text/html": [
       "<div>\n",
       "<style scoped>\n",
       "    .dataframe tbody tr th:only-of-type {\n",
       "        vertical-align: middle;\n",
       "    }\n",
       "\n",
       "    .dataframe tbody tr th {\n",
       "        vertical-align: top;\n",
       "    }\n",
       "\n",
       "    .dataframe thead th {\n",
       "        text-align: right;\n",
       "    }\n",
       "</style>\n",
       "<table border=\"1\" class=\"dataframe\">\n",
       "  <thead>\n",
       "    <tr style=\"text-align: right;\">\n",
       "      <th></th>\n",
       "      <th>Model1</th>\n",
       "      <th>Model2</th>\n",
       "      <th>%Change in Accuracy</th>\n",
       "    </tr>\n",
       "  </thead>\n",
       "  <tbody>\n",
       "    <tr>\n",
       "      <th>Random Forest</th>\n",
       "      <td>0.69</td>\n",
       "      <td>0.84</td>\n",
       "      <td>0.15</td>\n",
       "    </tr>\n",
       "    <tr>\n",
       "      <th>XGB</th>\n",
       "      <td>0.70</td>\n",
       "      <td>0.84</td>\n",
       "      <td>0.14</td>\n",
       "    </tr>\n",
       "    <tr>\n",
       "      <th>Decision Tree</th>\n",
       "      <td>0.65</td>\n",
       "      <td>0.78</td>\n",
       "      <td>0.13</td>\n",
       "    </tr>\n",
       "    <tr>\n",
       "      <th>KNN</th>\n",
       "      <td>0.67</td>\n",
       "      <td>0.77</td>\n",
       "      <td>0.10</td>\n",
       "    </tr>\n",
       "    <tr>\n",
       "      <th>SVM</th>\n",
       "      <td>0.50</td>\n",
       "      <td>0.65</td>\n",
       "      <td>0.15</td>\n",
       "    </tr>\n",
       "  </tbody>\n",
       "</table>\n",
       "</div>"
      ],
      "text/plain": [
       "               Model1  Model2  %Change in Accuracy\n",
       "Random Forest    0.69    0.84                 0.15\n",
       "XGB              0.70    0.84                 0.14\n",
       "Decision Tree    0.65    0.78                 0.13\n",
       "KNN              0.67    0.77                 0.10\n",
       "SVM              0.50    0.65                 0.15"
      ]
     },
     "execution_count": 61,
     "metadata": {},
     "output_type": "execute_result"
    }
   ],
   "source": [
    "#Comparing the models imbalance & model smote_balance data with balanced accuracy score\n",
    "mod_comp = pd.DataFrame(index=mm, columns=['Model1', 'Model2'], data={'Model1': [balanced_accuracy_score(y_test ,y_pred_dt).round(2), balanced_accuracy_score(y_test ,y_pred_rf).round(2), balanced_accuracy_score(y_test ,y_pred_knn).round(2), balanced_accuracy_score(y_test ,y_pred_svm).round(2), balanced_accuracy_score(y_test ,y_pred_xgb).round(2)], \n",
    "                                                                      'Model2': [balanced_accuracy_score(y_test_res ,y_pred_dt2).round(2), balanced_accuracy_score(y_test_res ,y_pred_rf2).round(2), balanced_accuracy_score(y_test_res ,y_pred_knn2).round(2), balanced_accuracy_score(y_test_res ,y_pred_svm2).round(2), balanced_accuracy_score(y_test_res ,y_pred_xgb2).round(2)]\n",
    "                                                                       })\n",
    "mod_comp['%Change in Accuracy'] = mod_comp['Model2'] - mod_comp['Model1']\n",
    "mod_comp.sort_values(by='Model2', ascending=False)"
   ]
  },
  {
   "cell_type": "markdown",
   "id": "1a5f74b3",
   "metadata": {},
   "source": [
    "#### From above analysis,\n",
    "* We can say that after applying the sampling method - smote technique to our data, the accuracy has improved by more than 10%.\n",
    "* Also, the recall class 1 has been reduced and improved.\n",
    "* But, smote has simply oversampled minority class (\"NO\" in our case). "
   ]
  },
  {
   "cell_type": "markdown",
   "id": "200ba9a1",
   "metadata": {},
   "source": [
    "### Adaptive Synthetic Sampling (ADASYN)\n",
    "* It involves generating synthetic samples inversely proportional to the density of the examples in the minority class. That is, generate more synthetic examples in regions of the feature space where the density of minority examples is low, and fewer or none where the density is high."
   ]
  },
  {
   "cell_type": "code",
   "execution_count": 62,
   "id": "9a8499ff",
   "metadata": {},
   "outputs": [],
   "source": [
    "#Object Instantiation\n",
    "ad = ADASYN(random_state=0)"
   ]
  },
  {
   "cell_type": "code",
   "execution_count": 63,
   "id": "628684d9",
   "metadata": {},
   "outputs": [],
   "source": [
    "#Resampling the dataset with adasyn\n",
    "X_ad, y_ad = ad.fit_resample(X, y)"
   ]
  },
  {
   "cell_type": "code",
   "execution_count": 64,
   "id": "d55940e0",
   "metadata": {},
   "outputs": [
    {
     "name": "stdout",
     "output_type": "stream",
     "text": [
      "X_res after resampling shape :  (10357, 18)\n",
      "y_res after resampling shape :  (10357, 1) \n",
      "\n",
      "Churn\n",
      "1        5204\n",
      "0        5153\n",
      "dtype: int64\n"
     ]
    }
   ],
   "source": [
    "#Rechecking the count of target variable after adasyn\n",
    "print('X_res after resampling shape : ' , X_ad.shape)\n",
    "print('y_res after resampling shape : ' , y_ad.shape, '\\n')\n",
    "print(y_ad.value_counts())"
   ]
  },
  {
   "cell_type": "markdown",
   "id": "8879ac14",
   "metadata": {},
   "source": [
    "#### Building models with balanced data (ADASYN)"
   ]
  },
  {
   "cell_type": "code",
   "execution_count": 65,
   "id": "e83fa76b",
   "metadata": {},
   "outputs": [],
   "source": [
    "#Splitting data into training and testing dataset with 80:20 ratio\n",
    "X_train_ad, X_test_ad, y_train_ad, y_test_ad = train_test_split(X_ad, y_ad, random_state=0, test_size=0.35, stratify=y_ad)"
   ]
  },
  {
   "cell_type": "code",
   "execution_count": 66,
   "id": "3680b82f",
   "metadata": {},
   "outputs": [
    {
     "data": {
      "text/plain": [
       "((6732, 18), (3625, 18))"
      ]
     },
     "execution_count": 66,
     "metadata": {},
     "output_type": "execute_result"
    }
   ],
   "source": [
    "#Checking the size of features\n",
    "X_train_ad.shape, X_test_ad.shape"
   ]
  },
  {
   "cell_type": "markdown",
   "id": "968e06fe",
   "metadata": {},
   "source": [
    "#### Model Building with default parameters & smote_resampled data"
   ]
  },
  {
   "cell_type": "code",
   "execution_count": 67,
   "id": "fce644be",
   "metadata": {},
   "outputs": [],
   "source": [
    "dt_mod3  = DecisionTreeClassifier(criterion='gini', max_depth=None, random_state=0)\n",
    "rf_mod3  = RandomForestClassifier(n_estimators=100, criterion='gini', max_depth=None, random_state=0)\n",
    "knn_mod3 = KNeighborsClassifier(n_neighbors=5, metric='minkowski')\n",
    "svm_mod3 = SVC(C=1.0, random_state=0)\n",
    "xgb_mod3 = XGBClassifier(n_estimators=100, random_state=0)"
   ]
  },
  {
   "cell_type": "markdown",
   "id": "24d82006",
   "metadata": {},
   "source": [
    "#### Model Training"
   ]
  },
  {
   "cell_type": "code",
   "execution_count": 68,
   "id": "6352316e",
   "metadata": {},
   "outputs": [
    {
     "name": "stdout",
     "output_type": "stream",
     "text": [
      "CPU times: total: 7.27 s\n",
      "Wall time: 4.68 s\n"
     ]
    },
    {
     "data": {
      "text/html": [
       "<style>#sk-container-id-3 {color: black;background-color: white;}#sk-container-id-3 pre{padding: 0;}#sk-container-id-3 div.sk-toggleable {background-color: white;}#sk-container-id-3 label.sk-toggleable__label {cursor: pointer;display: block;width: 100%;margin-bottom: 0;padding: 0.3em;box-sizing: border-box;text-align: center;}#sk-container-id-3 label.sk-toggleable__label-arrow:before {content: \"▸\";float: left;margin-right: 0.25em;color: #696969;}#sk-container-id-3 label.sk-toggleable__label-arrow:hover:before {color: black;}#sk-container-id-3 div.sk-estimator:hover label.sk-toggleable__label-arrow:before {color: black;}#sk-container-id-3 div.sk-toggleable__content {max-height: 0;max-width: 0;overflow: hidden;text-align: left;background-color: #f0f8ff;}#sk-container-id-3 div.sk-toggleable__content pre {margin: 0.2em;color: black;border-radius: 0.25em;background-color: #f0f8ff;}#sk-container-id-3 input.sk-toggleable__control:checked~div.sk-toggleable__content {max-height: 200px;max-width: 100%;overflow: auto;}#sk-container-id-3 input.sk-toggleable__control:checked~label.sk-toggleable__label-arrow:before {content: \"▾\";}#sk-container-id-3 div.sk-estimator input.sk-toggleable__control:checked~label.sk-toggleable__label {background-color: #d4ebff;}#sk-container-id-3 div.sk-label input.sk-toggleable__control:checked~label.sk-toggleable__label {background-color: #d4ebff;}#sk-container-id-3 input.sk-hidden--visually {border: 0;clip: rect(1px 1px 1px 1px);clip: rect(1px, 1px, 1px, 1px);height: 1px;margin: -1px;overflow: hidden;padding: 0;position: absolute;width: 1px;}#sk-container-id-3 div.sk-estimator {font-family: monospace;background-color: #f0f8ff;border: 1px dotted black;border-radius: 0.25em;box-sizing: border-box;margin-bottom: 0.5em;}#sk-container-id-3 div.sk-estimator:hover {background-color: #d4ebff;}#sk-container-id-3 div.sk-parallel-item::after {content: \"\";width: 100%;border-bottom: 1px solid gray;flex-grow: 1;}#sk-container-id-3 div.sk-label:hover label.sk-toggleable__label {background-color: #d4ebff;}#sk-container-id-3 div.sk-serial::before {content: \"\";position: absolute;border-left: 1px solid gray;box-sizing: border-box;top: 0;bottom: 0;left: 50%;z-index: 0;}#sk-container-id-3 div.sk-serial {display: flex;flex-direction: column;align-items: center;background-color: white;padding-right: 0.2em;padding-left: 0.2em;position: relative;}#sk-container-id-3 div.sk-item {position: relative;z-index: 1;}#sk-container-id-3 div.sk-parallel {display: flex;align-items: stretch;justify-content: center;background-color: white;position: relative;}#sk-container-id-3 div.sk-item::before, #sk-container-id-3 div.sk-parallel-item::before {content: \"\";position: absolute;border-left: 1px solid gray;box-sizing: border-box;top: 0;bottom: 0;left: 50%;z-index: -1;}#sk-container-id-3 div.sk-parallel-item {display: flex;flex-direction: column;z-index: 1;position: relative;background-color: white;}#sk-container-id-3 div.sk-parallel-item:first-child::after {align-self: flex-end;width: 50%;}#sk-container-id-3 div.sk-parallel-item:last-child::after {align-self: flex-start;width: 50%;}#sk-container-id-3 div.sk-parallel-item:only-child::after {width: 0;}#sk-container-id-3 div.sk-dashed-wrapped {border: 1px dashed gray;margin: 0 0.4em 0.5em 0.4em;box-sizing: border-box;padding-bottom: 0.4em;background-color: white;}#sk-container-id-3 div.sk-label label {font-family: monospace;font-weight: bold;display: inline-block;line-height: 1.2em;}#sk-container-id-3 div.sk-label-container {text-align: center;}#sk-container-id-3 div.sk-container {/* jupyter's `normalize.less` sets `[hidden] { display: none; }` but bootstrap.min.css set `[hidden] { display: none !important; }` so we also need the `!important` here to be able to override the default hidden behavior on the sphinx rendered scikit-learn.org. See: https://github.com/scikit-learn/scikit-learn/issues/21755 */display: inline-block !important;position: relative;}#sk-container-id-3 div.sk-text-repr-fallback {display: none;}</style><div id=\"sk-container-id-3\" class=\"sk-top-container\"><div class=\"sk-text-repr-fallback\"><pre>XGBClassifier(base_score=0.5, booster=&#x27;gbtree&#x27;, callbacks=None,\n",
       "              colsample_bylevel=1, colsample_bynode=1, colsample_bytree=1,\n",
       "              early_stopping_rounds=None, enable_categorical=False,\n",
       "              eval_metric=None, gamma=0, gpu_id=-1, grow_policy=&#x27;depthwise&#x27;,\n",
       "              importance_type=None, interaction_constraints=&#x27;&#x27;,\n",
       "              learning_rate=0.300000012, max_bin=256, max_cat_to_onehot=4,\n",
       "              max_delta_step=0, max_depth=6, max_leaves=0, min_child_weight=1,\n",
       "              missing=nan, monotone_constraints=&#x27;()&#x27;, n_estimators=100,\n",
       "              n_jobs=0, num_parallel_tree=1, predictor=&#x27;auto&#x27;, random_state=0,\n",
       "              reg_alpha=0, reg_lambda=1, ...)</pre><b>In a Jupyter environment, please rerun this cell to show the HTML representation or trust the notebook. <br />On GitHub, the HTML representation is unable to render, please try loading this page with nbviewer.org.</b></div><div class=\"sk-container\" hidden><div class=\"sk-item\"><div class=\"sk-estimator sk-toggleable\"><input class=\"sk-toggleable__control sk-hidden--visually\" id=\"sk-estimator-id-3\" type=\"checkbox\" checked><label for=\"sk-estimator-id-3\" class=\"sk-toggleable__label sk-toggleable__label-arrow\">XGBClassifier</label><div class=\"sk-toggleable__content\"><pre>XGBClassifier(base_score=0.5, booster=&#x27;gbtree&#x27;, callbacks=None,\n",
       "              colsample_bylevel=1, colsample_bynode=1, colsample_bytree=1,\n",
       "              early_stopping_rounds=None, enable_categorical=False,\n",
       "              eval_metric=None, gamma=0, gpu_id=-1, grow_policy=&#x27;depthwise&#x27;,\n",
       "              importance_type=None, interaction_constraints=&#x27;&#x27;,\n",
       "              learning_rate=0.300000012, max_bin=256, max_cat_to_onehot=4,\n",
       "              max_delta_step=0, max_depth=6, max_leaves=0, min_child_weight=1,\n",
       "              missing=nan, monotone_constraints=&#x27;()&#x27;, n_estimators=100,\n",
       "              n_jobs=0, num_parallel_tree=1, predictor=&#x27;auto&#x27;, random_state=0,\n",
       "              reg_alpha=0, reg_lambda=1, ...)</pre></div></div></div></div></div>"
      ],
      "text/plain": [
       "XGBClassifier(base_score=0.5, booster='gbtree', callbacks=None,\n",
       "              colsample_bylevel=1, colsample_bynode=1, colsample_bytree=1,\n",
       "              early_stopping_rounds=None, enable_categorical=False,\n",
       "              eval_metric=None, gamma=0, gpu_id=-1, grow_policy='depthwise',\n",
       "              importance_type=None, interaction_constraints='',\n",
       "              learning_rate=0.300000012, max_bin=256, max_cat_to_onehot=4,\n",
       "              max_delta_step=0, max_depth=6, max_leaves=0, min_child_weight=1,\n",
       "              missing=nan, monotone_constraints='()', n_estimators=100,\n",
       "              n_jobs=0, num_parallel_tree=1, predictor='auto', random_state=0,\n",
       "              reg_alpha=0, reg_lambda=1, ...)"
      ]
     },
     "execution_count": 68,
     "metadata": {},
     "output_type": "execute_result"
    }
   ],
   "source": [
    "%%time\n",
    "dt_mod3.fit(X_train_ad, y_train_ad)\n",
    "rf_mod3.fit(X_train_ad, y_train_ad)\n",
    "knn_mod3.fit(X_train_ad, y_train_ad)\n",
    "svm_mod3.fit(X_train_ad, y_train_ad)\n",
    "xgb_mod3.fit(X_train_ad, y_train_ad)"
   ]
  },
  {
   "cell_type": "markdown",
   "id": "e57ce547",
   "metadata": {},
   "source": [
    "#### Model Testing & Evaluation"
   ]
  },
  {
   "cell_type": "code",
   "execution_count": 69,
   "id": "70d0666d",
   "metadata": {},
   "outputs": [
    {
     "name": "stdout",
     "output_type": "stream",
     "text": [
      "CPU times: total: 3.47 s\n",
      "Wall time: 2.86 s\n"
     ]
    }
   ],
   "source": [
    "%%time\n",
    "y_pred_dt3  = dt_mod3.predict(X_test_ad)\n",
    "y_pred_rf3  = rf_mod3.predict(X_test_ad)\n",
    "y_pred_knn3 = knn_mod3.predict(X_test_ad)\n",
    "y_pred_svm3 = svm_mod3.predict(X_test_ad)\n",
    "y_pred_xgb3 = xgb_mod3.predict(X_test_ad)"
   ]
  },
  {
   "cell_type": "code",
   "execution_count": 70,
   "id": "58a5c117",
   "metadata": {},
   "outputs": [
    {
     "name": "stdout",
     "output_type": "stream",
     "text": [
      "ROC-AUC score for all models\n",
      "\n",
      "====================================\n",
      "Decision Tree : 0.79\n",
      "==================================== \n",
      "\n",
      "\n",
      "====================================\n",
      "Random Forest : 0.84\n",
      "==================================== \n",
      "\n",
      "\n",
      "====================================\n",
      "KNN : 0.75\n",
      "==================================== \n",
      "\n",
      "\n",
      "====================================\n",
      "SVM : 0.61\n",
      "==================================== \n",
      "\n",
      "\n",
      "====================================\n",
      "XGB : 0.85\n",
      "==================================== \n",
      "\n"
     ]
    }
   ],
   "source": [
    "#Testing the roc-auc score for all models\n",
    "cc = [y_pred_dt3, y_pred_rf3, y_pred_knn3, y_pred_svm3, y_pred_xgb3]\n",
    "mm = ['Decision Tree', 'Random Forest', 'KNN', 'SVM', 'XGB']\n",
    "\n",
    "print('ROC-AUC score for all models')\n",
    "\n",
    "for i,j in zip(cc, mm):\n",
    "    print('\\n====================================')\n",
    "    print(j, ':', roc_auc_score(y_test_ad, i).round(2))\n",
    "    print('====================================', '\\n')"
   ]
  },
  {
   "cell_type": "code",
   "execution_count": 71,
   "id": "633f1b10",
   "metadata": {
    "scrolled": false
   },
   "outputs": [
    {
     "name": "stdout",
     "output_type": "stream",
     "text": [
      "Confusion Matrix for all models\n",
      "\n",
      " ======================================== \n",
      "\n",
      "Decision Tree\n"
     ]
    },
    {
     "data": {
      "image/png": "[encoded data removed]",
      "text/plain": [
       "<Figure size 432x288 with 2 Axes>"
      ]
     },
     "metadata": {
      "needs_background": "light"
     },
     "output_type": "display_data"
    },
    {
     "name": "stdout",
     "output_type": "stream",
     "text": [
      "\n",
      " ======================================== \n",
      "\n",
      "Random Forest\n"
     ]
    },
    {
     "data": {
      "image/png": "[encoded data removed]",
      "text/plain": [
       "<Figure size 432x288 with 2 Axes>"
      ]
     },
     "metadata": {
      "needs_background": "light"
     },
     "output_type": "display_data"
    },
    {
     "name": "stdout",
     "output_type": "stream",
     "text": [
      "\n",
      " ======================================== \n",
      "\n",
      "KNN\n"
     ]
    },
    {
     "data": {
      "image/png": "[encoded data removed]",
      "text/plain": [
       "<Figure size 432x288 with 2 Axes>"
      ]
     },
     "metadata": {
      "needs_background": "light"
     },
     "output_type": "display_data"
    },
    {
     "name": "stdout",
     "output_type": "stream",
     "text": [
      "\n",
      " ======================================== \n",
      "\n",
      "SVM\n"
     ]
    },
    {
     "data": {
      "image/png": "[encoded data removed]",
      "text/plain": [
       "<Figure size 432x288 with 2 Axes>"
      ]
     },
     "metadata": {
      "needs_background": "light"
     },
     "output_type": "display_data"
    },
    {
     "name": "stdout",
     "output_type": "stream",
     "text": [
      "\n",
      " ======================================== \n",
      "\n",
      "XGB\n"
     ]
    },
    {
     "data": {
      "image/png": "[encoded data removed]",
      "text/plain": [
       "<Figure size 432x288 with 2 Axes>"
      ]
     },
     "metadata": {
      "needs_background": "light"
     },
     "output_type": "display_data"
    }
   ],
   "source": [
    "#Plotting Confusion Matrix for all models\n",
    "mm = ['Decision Tree', 'Random Forest', 'KNN', 'SVM', 'XGB']\n",
    "dd = [dt_mod3, rf_mod3, knn_mod3, svm_mod3, xgb_mod3]\n",
    "\n",
    "print('Confusion Matrix for all models')\n",
    "\n",
    "for i,j in zip(dd, mm):\n",
    "    print('\\n','========================================', '\\n')\n",
    "    print(j)\n",
    "    plot_confusion_matrix(i, X_test_ad, y_test_ad, display_labels= ['Not Churn', 'Churn'])   \n",
    "    plt.show()"
   ]
  },
  {
   "cell_type": "code",
   "execution_count": 72,
   "id": "f7335f87",
   "metadata": {
    "scrolled": false
   },
   "outputs": [
    {
     "name": "stdout",
     "output_type": "stream",
     "text": [
      "======================================================\n",
      "Decision Tree \n",
      "               precision    recall  f1-score   support\n",
      "\n",
      "           0       0.79      0.78      0.79      1804\n",
      "           1       0.79      0.80      0.79      1821\n",
      "\n",
      "    accuracy                           0.79      3625\n",
      "   macro avg       0.79      0.79      0.79      3625\n",
      "weighted avg       0.79      0.79      0.79      3625\n",
      "\n",
      "====================================================== \n",
      "\n",
      "======================================================\n",
      "Random Forest \n",
      "               precision    recall  f1-score   support\n",
      "\n",
      "           0       0.84      0.83      0.84      1804\n",
      "           1       0.84      0.85      0.84      1821\n",
      "\n",
      "    accuracy                           0.84      3625\n",
      "   macro avg       0.84      0.84      0.84      3625\n",
      "weighted avg       0.84      0.84      0.84      3625\n",
      "\n",
      "====================================================== \n",
      "\n",
      "======================================================\n",
      "KNN \n",
      "               precision    recall  f1-score   support\n",
      "\n",
      "           0       0.80      0.66      0.72      1804\n",
      "           1       0.71      0.83      0.77      1821\n",
      "\n",
      "    accuracy                           0.75      3625\n",
      "   macro avg       0.76      0.75      0.75      3625\n",
      "weighted avg       0.76      0.75      0.75      3625\n",
      "\n",
      "====================================================== \n",
      "\n",
      "======================================================\n",
      "SVM \n",
      "               precision    recall  f1-score   support\n",
      "\n",
      "           0       0.59      0.73      0.65      1804\n",
      "           1       0.65      0.49      0.56      1821\n",
      "\n",
      "    accuracy                           0.61      3625\n",
      "   macro avg       0.62      0.61      0.60      3625\n",
      "weighted avg       0.62      0.61      0.60      3625\n",
      "\n",
      "====================================================== \n",
      "\n",
      "======================================================\n",
      "XGB \n",
      "               precision    recall  f1-score   support\n",
      "\n",
      "           0       0.85      0.84      0.85      1804\n",
      "           1       0.84      0.85      0.85      1821\n",
      "\n",
      "    accuracy                           0.85      3625\n",
      "   macro avg       0.85      0.85      0.85      3625\n",
      "weighted avg       0.85      0.85      0.85      3625\n",
      "\n",
      "====================================================== \n",
      "\n"
     ]
    }
   ],
   "source": [
    "#Classification Report for all models\n",
    "cc = [y_pred_dt3, y_pred_rf3, y_pred_knn3, y_pred_svm3, y_pred_xgb3]\n",
    "mm = ['Decision Tree', 'Random Forest', 'KNN', 'SVM', 'XGB']\n",
    "\n",
    "for i,j in zip(cc, mm):\n",
    "    print('======================================================')\n",
    "    print(j, '\\n', classification_report(y_test_ad, i))\n",
    "    print('======================================================', '\\n')"
   ]
  },
  {
   "cell_type": "code",
   "execution_count": 73,
   "id": "42b89bf0",
   "metadata": {},
   "outputs": [
    {
     "data": {
      "text/html": [
       "<div>\n",
       "<style scoped>\n",
       "    .dataframe tbody tr th:only-of-type {\n",
       "        vertical-align: middle;\n",
       "    }\n",
       "\n",
       "    .dataframe tbody tr th {\n",
       "        vertical-align: top;\n",
       "    }\n",
       "\n",
       "    .dataframe thead th {\n",
       "        text-align: right;\n",
       "    }\n",
       "</style>\n",
       "<table border=\"1\" class=\"dataframe\">\n",
       "  <thead>\n",
       "    <tr style=\"text-align: right;\">\n",
       "      <th></th>\n",
       "      <th>Model1</th>\n",
       "      <th>Model2</th>\n",
       "      <th>%Change in Accuracy</th>\n",
       "    </tr>\n",
       "  </thead>\n",
       "  <tbody>\n",
       "    <tr>\n",
       "      <th>XGB</th>\n",
       "      <td>0.70</td>\n",
       "      <td>0.85</td>\n",
       "      <td>0.15</td>\n",
       "    </tr>\n",
       "    <tr>\n",
       "      <th>Random Forest</th>\n",
       "      <td>0.69</td>\n",
       "      <td>0.84</td>\n",
       "      <td>0.15</td>\n",
       "    </tr>\n",
       "    <tr>\n",
       "      <th>Decision Tree</th>\n",
       "      <td>0.65</td>\n",
       "      <td>0.79</td>\n",
       "      <td>0.14</td>\n",
       "    </tr>\n",
       "    <tr>\n",
       "      <th>KNN</th>\n",
       "      <td>0.67</td>\n",
       "      <td>0.75</td>\n",
       "      <td>0.08</td>\n",
       "    </tr>\n",
       "    <tr>\n",
       "      <th>SVM</th>\n",
       "      <td>0.50</td>\n",
       "      <td>0.61</td>\n",
       "      <td>0.11</td>\n",
       "    </tr>\n",
       "  </tbody>\n",
       "</table>\n",
       "</div>"
      ],
      "text/plain": [
       "               Model1  Model2  %Change in Accuracy\n",
       "XGB              0.70    0.85                 0.15\n",
       "Random Forest    0.69    0.84                 0.15\n",
       "Decision Tree    0.65    0.79                 0.14\n",
       "KNN              0.67    0.75                 0.08\n",
       "SVM              0.50    0.61                 0.11"
      ]
     },
     "execution_count": 73,
     "metadata": {},
     "output_type": "execute_result"
    }
   ],
   "source": [
    "#Comparing the models imbalance & model smote_balance data with balanced accuracy score\n",
    "mod_comp = pd.DataFrame(index=mm, columns=['Model1', 'Model2'], data={'Model1': [balanced_accuracy_score(y_test ,y_pred_dt).round(2), balanced_accuracy_score(y_test ,y_pred_rf).round(2), balanced_accuracy_score(y_test ,y_pred_knn).round(2), balanced_accuracy_score(y_test ,y_pred_svm).round(2), balanced_accuracy_score(y_test ,y_pred_xgb).round(2)], \n",
    "                                                                      'Model2': [balanced_accuracy_score(y_test_ad ,y_pred_dt3).round(2), balanced_accuracy_score(y_test_ad ,y_pred_rf3).round(2), balanced_accuracy_score(y_test_ad ,y_pred_knn3).round(2), balanced_accuracy_score(y_test_ad ,y_pred_svm3).round(2), balanced_accuracy_score(y_test_ad ,y_pred_xgb3).round(2)]\n",
    "                                                                       })\n",
    "mod_comp['%Change in Accuracy'] = mod_comp['Model2'] - mod_comp['Model1']\n",
    "mod_comp.sort_values(by='Model2', ascending=False)"
   ]
  },
  {
   "cell_type": "markdown",
   "id": "dd72d73c",
   "metadata": {},
   "source": [
    "#### From above analysis,\n",
    "* There's an improvement in minority class compared to smote technique, even though the accuracy remained the same more or less. "
   ]
  },
  {
   "cell_type": "markdown",
   "id": "3c763ef2",
   "metadata": {},
   "source": [
    "### SMOTE + TOMEK\n",
    "* This is a hybrid method which combines the SMOTE ability to generate synthetic data for minority class and Tomek Links ability to remove the data that are identified as Tomek links from the majority class (that is, samples of data from the majority class that is closest with the minority class data)"
   ]
  },
  {
   "cell_type": "code",
   "execution_count": 74,
   "id": "7ec349ca",
   "metadata": {},
   "outputs": [],
   "source": [
    "#Object Instantiation\n",
    "st = SMOTETomek(random_state=0)"
   ]
  },
  {
   "cell_type": "code",
   "execution_count": 75,
   "id": "a0da9096",
   "metadata": {},
   "outputs": [],
   "source": [
    "#Resampling the dataset with smote-tomek\n",
    "X_st, y_st = st.fit_resample(X, y)"
   ]
  },
  {
   "cell_type": "code",
   "execution_count": 76,
   "id": "14d70730",
   "metadata": {},
   "outputs": [
    {
     "name": "stdout",
     "output_type": "stream",
     "text": [
      "X_res after resampling shape :  (9494, 18)\n",
      "y_res after resampling shape :  (9494, 1) \n",
      "\n",
      "Churn\n",
      "0        4747\n",
      "1        4747\n",
      "dtype: int64\n"
     ]
    }
   ],
   "source": [
    "##Rechecking the count of target variable after smote-tomek\n",
    "print('X_res after resampling shape : ' , X_st.shape)\n",
    "print('y_res after resampling shape : ' , y_st.shape, '\\n')\n",
    "print(y_st.value_counts())"
   ]
  },
  {
   "cell_type": "markdown",
   "id": "31bbbd99",
   "metadata": {},
   "source": [
    "#### Building models with balanced data (SMOTE + TOMEK)"
   ]
  },
  {
   "cell_type": "code",
   "execution_count": 77,
   "id": "ee44da33",
   "metadata": {},
   "outputs": [],
   "source": [
    "#Splitting data into training and testing dataset with 80:20 ratio\n",
    "X_train_st, X_test_st, y_train_st, y_test_st = train_test_split(X_st, y_st, random_state=0, test_size=0.35, stratify=y_st)"
   ]
  },
  {
   "cell_type": "code",
   "execution_count": 78,
   "id": "92865fe5",
   "metadata": {},
   "outputs": [
    {
     "data": {
      "text/plain": [
       "((6171, 18), (3323, 18))"
      ]
     },
     "execution_count": 78,
     "metadata": {},
     "output_type": "execute_result"
    }
   ],
   "source": [
    "#Checking the size of features\n",
    "X_train_st.shape, X_test_st.shape"
   ]
  },
  {
   "cell_type": "markdown",
   "id": "44570f39",
   "metadata": {},
   "source": [
    "#### Model Building with default parameters & smote-tomek_resampled data"
   ]
  },
  {
   "cell_type": "code",
   "execution_count": 79,
   "id": "20548fb3",
   "metadata": {},
   "outputs": [],
   "source": [
    "dt_mod4  = DecisionTreeClassifier(criterion='gini', max_depth=None, random_state=0)\n",
    "rf_mod4  = RandomForestClassifier(n_estimators=100, criterion='gini', max_depth=None, random_state=0)\n",
    "knn_mod4 = KNeighborsClassifier(n_neighbors=5, metric='minkowski')\n",
    "svm_mod4 = SVC(C=1.0, random_state=0)\n",
    "xgb_mod4 = XGBClassifier(n_estimators=100, random_state=0)"
   ]
  },
  {
   "cell_type": "markdown",
   "id": "2b156334",
   "metadata": {},
   "source": [
    "#### Model Training"
   ]
  },
  {
   "cell_type": "code",
   "execution_count": 80,
   "id": "617576d7",
   "metadata": {},
   "outputs": [
    {
     "name": "stdout",
     "output_type": "stream",
     "text": [
      "CPU times: total: 5.2 s\n",
      "Wall time: 2.91 s\n"
     ]
    },
    {
     "data": {
      "text/html": [
       "<style>#sk-container-id-4 {color: black;background-color: white;}#sk-container-id-4 pre{padding: 0;}#sk-container-id-4 div.sk-toggleable {background-color: white;}#sk-container-id-4 label.sk-toggleable__label {cursor: pointer;display: block;width: 100%;margin-bottom: 0;padding: 0.3em;box-sizing: border-box;text-align: center;}#sk-container-id-4 label.sk-toggleable__label-arrow:before {content: \"▸\";float: left;margin-right: 0.25em;color: #696969;}#sk-container-id-4 label.sk-toggleable__label-arrow:hover:before {color: black;}#sk-container-id-4 div.sk-estimator:hover label.sk-toggleable__label-arrow:before {color: black;}#sk-container-id-4 div.sk-toggleable__content {max-height: 0;max-width: 0;overflow: hidden;text-align: left;background-color: #f0f8ff;}#sk-container-id-4 div.sk-toggleable__content pre {margin: 0.2em;color: black;border-radius: 0.25em;background-color: #f0f8ff;}#sk-container-id-4 input.sk-toggleable__control:checked~div.sk-toggleable__content {max-height: 200px;max-width: 100%;overflow: auto;}#sk-container-id-4 input.sk-toggleable__control:checked~label.sk-toggleable__label-arrow:before {content: \"▾\";}#sk-container-id-4 div.sk-estimator input.sk-toggleable__control:checked~label.sk-toggleable__label {background-color: #d4ebff;}#sk-container-id-4 div.sk-label input.sk-toggleable__control:checked~label.sk-toggleable__label {background-color: #d4ebff;}#sk-container-id-4 input.sk-hidden--visually {border: 0;clip: rect(1px 1px 1px 1px);clip: rect(1px, 1px, 1px, 1px);height: 1px;margin: -1px;overflow: hidden;padding: 0;position: absolute;width: 1px;}#sk-container-id-4 div.sk-estimator {font-family: monospace;background-color: #f0f8ff;border: 1px dotted black;border-radius: 0.25em;box-sizing: border-box;margin-bottom: 0.5em;}#sk-container-id-4 div.sk-estimator:hover {background-color: #d4ebff;}#sk-container-id-4 div.sk-parallel-item::after {content: \"\";width: 100%;border-bottom: 1px solid gray;flex-grow: 1;}#sk-container-id-4 div.sk-label:hover label.sk-toggleable__label {background-color: #d4ebff;}#sk-container-id-4 div.sk-serial::before {content: \"\";position: absolute;border-left: 1px solid gray;box-sizing: border-box;top: 0;bottom: 0;left: 50%;z-index: 0;}#sk-container-id-4 div.sk-serial {display: flex;flex-direction: column;align-items: center;background-color: white;padding-right: 0.2em;padding-left: 0.2em;position: relative;}#sk-container-id-4 div.sk-item {position: relative;z-index: 1;}#sk-container-id-4 div.sk-parallel {display: flex;align-items: stretch;justify-content: center;background-color: white;position: relative;}#sk-container-id-4 div.sk-item::before, #sk-container-id-4 div.sk-parallel-item::before {content: \"\";position: absolute;border-left: 1px solid gray;box-sizing: border-box;top: 0;bottom: 0;left: 50%;z-index: -1;}#sk-container-id-4 div.sk-parallel-item {display: flex;flex-direction: column;z-index: 1;position: relative;background-color: white;}#sk-container-id-4 div.sk-parallel-item:first-child::after {align-self: flex-end;width: 50%;}#sk-container-id-4 div.sk-parallel-item:last-child::after {align-self: flex-start;width: 50%;}#sk-container-id-4 div.sk-parallel-item:only-child::after {width: 0;}#sk-container-id-4 div.sk-dashed-wrapped {border: 1px dashed gray;margin: 0 0.4em 0.5em 0.4em;box-sizing: border-box;padding-bottom: 0.4em;background-color: white;}#sk-container-id-4 div.sk-label label {font-family: monospace;font-weight: bold;display: inline-block;line-height: 1.2em;}#sk-container-id-4 div.sk-label-container {text-align: center;}#sk-container-id-4 div.sk-container {/* jupyter's `normalize.less` sets `[hidden] { display: none; }` but bootstrap.min.css set `[hidden] { display: none !important; }` so we also need the `!important` here to be able to override the default hidden behavior on the sphinx rendered scikit-learn.org. See: https://github.com/scikit-learn/scikit-learn/issues/21755 */display: inline-block !important;position: relative;}#sk-container-id-4 div.sk-text-repr-fallback {display: none;}</style><div id=\"sk-container-id-4\" class=\"sk-top-container\"><div class=\"sk-text-repr-fallback\"><pre>XGBClassifier(base_score=0.5, booster=&#x27;gbtree&#x27;, callbacks=None,\n",
       "              colsample_bylevel=1, colsample_bynode=1, colsample_bytree=1,\n",
       "              early_stopping_rounds=None, enable_categorical=False,\n",
       "              eval_metric=None, gamma=0, gpu_id=-1, grow_policy=&#x27;depthwise&#x27;,\n",
       "              importance_type=None, interaction_constraints=&#x27;&#x27;,\n",
       "              learning_rate=0.300000012, max_bin=256, max_cat_to_onehot=4,\n",
       "              max_delta_step=0, max_depth=6, max_leaves=0, min_child_weight=1,\n",
       "              missing=nan, monotone_constraints=&#x27;()&#x27;, n_estimators=100,\n",
       "              n_jobs=0, num_parallel_tree=1, predictor=&#x27;auto&#x27;, random_state=0,\n",
       "              reg_alpha=0, reg_lambda=1, ...)</pre><b>In a Jupyter environment, please rerun this cell to show the HTML representation or trust the notebook. <br />On GitHub, the HTML representation is unable to render, please try loading this page with nbviewer.org.</b></div><div class=\"sk-container\" hidden><div class=\"sk-item\"><div class=\"sk-estimator sk-toggleable\"><input class=\"sk-toggleable__control sk-hidden--visually\" id=\"sk-estimator-id-4\" type=\"checkbox\" checked><label for=\"sk-estimator-id-4\" class=\"sk-toggleable__label sk-toggleable__label-arrow\">XGBClassifier</label><div class=\"sk-toggleable__content\"><pre>XGBClassifier(base_score=0.5, booster=&#x27;gbtree&#x27;, callbacks=None,\n",
       "              colsample_bylevel=1, colsample_bynode=1, colsample_bytree=1,\n",
       "              early_stopping_rounds=None, enable_categorical=False,\n",
       "              eval_metric=None, gamma=0, gpu_id=-1, grow_policy=&#x27;depthwise&#x27;,\n",
       "              importance_type=None, interaction_constraints=&#x27;&#x27;,\n",
       "              learning_rate=0.300000012, max_bin=256, max_cat_to_onehot=4,\n",
       "              max_delta_step=0, max_depth=6, max_leaves=0, min_child_weight=1,\n",
       "              missing=nan, monotone_constraints=&#x27;()&#x27;, n_estimators=100,\n",
       "              n_jobs=0, num_parallel_tree=1, predictor=&#x27;auto&#x27;, random_state=0,\n",
       "              reg_alpha=0, reg_lambda=1, ...)</pre></div></div></div></div></div>"
      ],
      "text/plain": [
       "XGBClassifier(base_score=0.5, booster='gbtree', callbacks=None,\n",
       "              colsample_bylevel=1, colsample_bynode=1, colsample_bytree=1,\n",
       "              early_stopping_rounds=None, enable_categorical=False,\n",
       "              eval_metric=None, gamma=0, gpu_id=-1, grow_policy='depthwise',\n",
       "              importance_type=None, interaction_constraints='',\n",
       "              learning_rate=0.300000012, max_bin=256, max_cat_to_onehot=4,\n",
       "              max_delta_step=0, max_depth=6, max_leaves=0, min_child_weight=1,\n",
       "              missing=nan, monotone_constraints='()', n_estimators=100,\n",
       "              n_jobs=0, num_parallel_tree=1, predictor='auto', random_state=0,\n",
       "              reg_alpha=0, reg_lambda=1, ...)"
      ]
     },
     "execution_count": 80,
     "metadata": {},
     "output_type": "execute_result"
    }
   ],
   "source": [
    "%%time\n",
    "dt_mod4.fit(X_train_st, y_train_st)\n",
    "rf_mod4.fit(X_train_st, y_train_st)\n",
    "knn_mod4.fit(X_train_st, y_train_st)\n",
    "svm_mod4.fit(X_train_st, y_train_st)\n",
    "xgb_mod4.fit(X_train_st, y_train_st)"
   ]
  },
  {
   "cell_type": "markdown",
   "id": "072fceed",
   "metadata": {},
   "source": [
    "#### Model Testing & Evaluation"
   ]
  },
  {
   "cell_type": "code",
   "execution_count": 81,
   "id": "6da17455",
   "metadata": {},
   "outputs": [
    {
     "name": "stdout",
     "output_type": "stream",
     "text": [
      "CPU times: total: 3.41 s\n",
      "Wall time: 2.16 s\n"
     ]
    }
   ],
   "source": [
    "%%time\n",
    "y_pred_dt4  = dt_mod4.predict(X_test_st)\n",
    "y_pred_rf4  = rf_mod4.predict(X_test_st)\n",
    "y_pred_knn4 = knn_mod4.predict(X_test_st)\n",
    "y_pred_svm4 = svm_mod4.predict(X_test_st)\n",
    "y_pred_xgb4 = xgb_mod4.predict(X_test_st)"
   ]
  },
  {
   "cell_type": "code",
   "execution_count": 82,
   "id": "12c878da",
   "metadata": {},
   "outputs": [
    {
     "name": "stdout",
     "output_type": "stream",
     "text": [
      "ROC-AUC score for all models\n",
      "\n",
      "====================================\n",
      "Decision Tree : 0.79\n",
      "==================================== \n",
      "\n",
      "\n",
      "====================================\n",
      "Random Forest : 0.85\n",
      "==================================== \n",
      "\n",
      "\n",
      "====================================\n",
      "KNN : 0.8\n",
      "==================================== \n",
      "\n",
      "\n",
      "====================================\n",
      "SVM : 0.67\n",
      "==================================== \n",
      "\n",
      "\n",
      "====================================\n",
      "XGB : 0.84\n",
      "==================================== \n",
      "\n"
     ]
    }
   ],
   "source": [
    "#Testing the roc-auc score for all models\n",
    "cc = [y_pred_dt4, y_pred_rf4, y_pred_knn4, y_pred_svm4, y_pred_xgb4]\n",
    "mm = ['Decision Tree', 'Random Forest', 'KNN', 'SVM', 'XGB']\n",
    "\n",
    "print('ROC-AUC score for all models')\n",
    "\n",
    "for i,j in zip(cc, mm):\n",
    "    print('\\n====================================')\n",
    "    print(j, ':', roc_auc_score(y_test_st, i).round(2))\n",
    "    print('====================================', '\\n')"
   ]
  },
  {
   "cell_type": "code",
   "execution_count": 83,
   "id": "c42a699e",
   "metadata": {
    "scrolled": false
   },
   "outputs": [
    {
     "name": "stdout",
     "output_type": "stream",
     "text": [
      "Confusion Matrix for all models\n",
      "\n",
      " ======================================== \n",
      "\n",
      "Decision Tree\n"
     ]
    },
    {
     "data": {
      "image/png": "[encoded data removed]",
      "text/plain": [
       "<Figure size 432x288 with 2 Axes>"
      ]
     },
     "metadata": {
      "needs_background": "light"
     },
     "output_type": "display_data"
    },
    {
     "name": "stdout",
     "output_type": "stream",
     "text": [
      "\n",
      " ======================================== \n",
      "\n",
      "Random Forest\n"
     ]
    },
    {
     "data": {
      "image/png": "[encoded data removed]",
      "text/plain": [
       "<Figure size 432x288 with 2 Axes>"
      ]
     },
     "metadata": {
      "needs_background": "light"
     },
     "output_type": "display_data"
    },
    {
     "name": "stdout",
     "output_type": "stream",
     "text": [
      "\n",
      " ======================================== \n",
      "\n",
      "KNN\n"
     ]
    },
    {
     "data": {
      "image/png": "[encoded data removed]",
      "text/plain": [
       "<Figure size 432x288 with 2 Axes>"
      ]
     },
     "metadata": {
      "needs_background": "light"
     },
     "output_type": "display_data"
    },
    {
     "name": "stdout",
     "output_type": "stream",
     "text": [
      "\n",
      " ======================================== \n",
      "\n",
      "SVM\n"
     ]
    },
    {
     "data": {
      "image/png": "[encoded data removed]",
      "text/plain": [
       "<Figure size 432x288 with 2 Axes>"
      ]
     },
     "metadata": {
      "needs_background": "light"
     },
     "output_type": "display_data"
    },
    {
     "name": "stdout",
     "output_type": "stream",
     "text": [
      "\n",
      " ======================================== \n",
      "\n",
      "XGB\n"
     ]
    },
    {
     "data": {
      "image/png": "[encoded data removed]",
      "text/plain": [
       "<Figure size 432x288 with 2 Axes>"
      ]
     },
     "metadata": {
      "needs_background": "light"
     },
     "output_type": "display_data"
    }
   ],
   "source": [
    "#Plotting Confusion Matrix for all models\n",
    "mm = ['Decision Tree', 'Random Forest', 'KNN', 'SVM', 'XGB']\n",
    "dd = [dt_mod4, rf_mod4, knn_mod4, svm_mod4, xgb_mod4]\n",
    "\n",
    "print('Confusion Matrix for all models')\n",
    "\n",
    "for i,j in zip(dd, mm):\n",
    "    print('\\n','========================================', '\\n')\n",
    "    print(j)\n",
    "    plot_confusion_matrix(i, X_test_st, y_test_st, display_labels= ['Not Churn', 'Churn'])   \n",
    "    plt.show()"
   ]
  },
  {
   "cell_type": "code",
   "execution_count": 84,
   "id": "1b886236",
   "metadata": {
    "scrolled": false
   },
   "outputs": [
    {
     "name": "stdout",
     "output_type": "stream",
     "text": [
      "======================================================\n",
      "Decision Tree \n",
      "               precision    recall  f1-score   support\n",
      "\n",
      "           0       0.80      0.78      0.79      1662\n",
      "           1       0.79      0.81      0.80      1661\n",
      "\n",
      "    accuracy                           0.79      3323\n",
      "   macro avg       0.79      0.79      0.79      3323\n",
      "weighted avg       0.79      0.79      0.79      3323\n",
      "\n",
      "====================================================== \n",
      "\n",
      "======================================================\n",
      "Random Forest \n",
      "               precision    recall  f1-score   support\n",
      "\n",
      "           0       0.86      0.85      0.85      1662\n",
      "           1       0.85      0.86      0.85      1661\n",
      "\n",
      "    accuracy                           0.85      3323\n",
      "   macro avg       0.85      0.85      0.85      3323\n",
      "weighted avg       0.85      0.85      0.85      3323\n",
      "\n",
      "====================================================== \n",
      "\n",
      "======================================================\n",
      "KNN \n",
      "               precision    recall  f1-score   support\n",
      "\n",
      "           0       0.84      0.73      0.78      1662\n",
      "           1       0.76      0.86      0.81      1661\n",
      "\n",
      "    accuracy                           0.80      3323\n",
      "   macro avg       0.80      0.80      0.80      3323\n",
      "weighted avg       0.80      0.80      0.80      3323\n",
      "\n",
      "====================================================== \n",
      "\n",
      "======================================================\n",
      "SVM \n",
      "               precision    recall  f1-score   support\n",
      "\n",
      "           0       0.66      0.71      0.68      1662\n",
      "           1       0.68      0.64      0.66      1661\n",
      "\n",
      "    accuracy                           0.67      3323\n",
      "   macro avg       0.67      0.67      0.67      3323\n",
      "weighted avg       0.67      0.67      0.67      3323\n",
      "\n",
      "====================================================== \n",
      "\n",
      "======================================================\n",
      "XGB \n",
      "               precision    recall  f1-score   support\n",
      "\n",
      "           0       0.85      0.83      0.84      1662\n",
      "           1       0.84      0.85      0.84      1661\n",
      "\n",
      "    accuracy                           0.84      3323\n",
      "   macro avg       0.84      0.84      0.84      3323\n",
      "weighted avg       0.84      0.84      0.84      3323\n",
      "\n",
      "====================================================== \n",
      "\n"
     ]
    }
   ],
   "source": [
    "#Classification Report for all models\n",
    "cc = [y_pred_dt4, y_pred_rf4, y_pred_knn4, y_pred_svm4, y_pred_xgb4]\n",
    "mm = ['Decision Tree', 'Random Forest', 'KNN', 'SVM', 'XGB']\n",
    "\n",
    "for i,j in zip(cc, mm):\n",
    "    print('======================================================')\n",
    "    print(j, '\\n', classification_report(y_test_st, i))\n",
    "    print('======================================================', '\\n')"
   ]
  },
  {
   "cell_type": "code",
   "execution_count": 85,
   "id": "8c9d550e",
   "metadata": {},
   "outputs": [
    {
     "data": {
      "text/html": [
       "<div>\n",
       "<style scoped>\n",
       "    .dataframe tbody tr th:only-of-type {\n",
       "        vertical-align: middle;\n",
       "    }\n",
       "\n",
       "    .dataframe tbody tr th {\n",
       "        vertical-align: top;\n",
       "    }\n",
       "\n",
       "    .dataframe thead th {\n",
       "        text-align: right;\n",
       "    }\n",
       "</style>\n",
       "<table border=\"1\" class=\"dataframe\">\n",
       "  <thead>\n",
       "    <tr style=\"text-align: right;\">\n",
       "      <th></th>\n",
       "      <th>Model1</th>\n",
       "      <th>Model2</th>\n",
       "      <th>%Change in Accuracy</th>\n",
       "    </tr>\n",
       "  </thead>\n",
       "  <tbody>\n",
       "    <tr>\n",
       "      <th>Random Forest</th>\n",
       "      <td>0.69</td>\n",
       "      <td>0.85</td>\n",
       "      <td>0.16</td>\n",
       "    </tr>\n",
       "    <tr>\n",
       "      <th>XGB</th>\n",
       "      <td>0.70</td>\n",
       "      <td>0.84</td>\n",
       "      <td>0.14</td>\n",
       "    </tr>\n",
       "    <tr>\n",
       "      <th>KNN</th>\n",
       "      <td>0.67</td>\n",
       "      <td>0.80</td>\n",
       "      <td>0.13</td>\n",
       "    </tr>\n",
       "    <tr>\n",
       "      <th>Decision Tree</th>\n",
       "      <td>0.65</td>\n",
       "      <td>0.79</td>\n",
       "      <td>0.14</td>\n",
       "    </tr>\n",
       "    <tr>\n",
       "      <th>SVM</th>\n",
       "      <td>0.50</td>\n",
       "      <td>0.67</td>\n",
       "      <td>0.17</td>\n",
       "    </tr>\n",
       "  </tbody>\n",
       "</table>\n",
       "</div>"
      ],
      "text/plain": [
       "               Model1  Model2  %Change in Accuracy\n",
       "Random Forest    0.69    0.85                 0.16\n",
       "XGB              0.70    0.84                 0.14\n",
       "KNN              0.67    0.80                 0.13\n",
       "Decision Tree    0.65    0.79                 0.14\n",
       "SVM              0.50    0.67                 0.17"
      ]
     },
     "execution_count": 85,
     "metadata": {},
     "output_type": "execute_result"
    }
   ],
   "source": [
    "#Comparing the models imbalance & model smote_balance data with balanced accuracy score\n",
    "mod_comp = pd.DataFrame(index=mm, columns=['Model1', 'Model2'], data={'Model1': [balanced_accuracy_score(y_test ,y_pred_dt).round(2), balanced_accuracy_score(y_test ,y_pred_rf).round(2), balanced_accuracy_score(y_test ,y_pred_knn).round(2), balanced_accuracy_score(y_test ,y_pred_svm).round(2), balanced_accuracy_score(y_test ,y_pred_xgb).round(2)], \n",
    "                                                                      'Model2': [balanced_accuracy_score(y_test_st ,y_pred_dt4).round(2), balanced_accuracy_score(y_test_st ,y_pred_rf4).round(2), balanced_accuracy_score(y_test_st ,y_pred_knn4).round(2), balanced_accuracy_score(y_test_st ,y_pred_svm4).round(2), balanced_accuracy_score(y_test_st ,y_pred_xgb4).round(2)]\n",
    "                                                                       })\n",
    "mod_comp['%Change in Accuracy'] = mod_comp['Model2'] - mod_comp['Model1']\n",
    "mod_comp.sort_values(by='Model2', ascending=False)"
   ]
  },
  {
   "cell_type": "markdown",
   "id": "ebe0d4d5",
   "metadata": {},
   "source": [
    "#### From above analysis,\n",
    "* We can see there's a big jump in recall class 1, for Random forest & XGB model have really outperformed compared to other models.\n",
    "* Both, these models have managed to reduce the minority class misclassifications upto a good extent. "
   ]
  },
  {
   "cell_type": "markdown",
   "id": "ed1ce873",
   "metadata": {},
   "source": [
    "### We build above models with all features taken into consideration to predict whether customer will churn or not. Let's try building models considering only significant features to predict the churned customer. "
   ]
  },
  {
   "cell_type": "markdown",
   "id": "b5920b3b",
   "metadata": {},
   "source": [
    "## Feature Engineering\n",
    "*To determine the important features for the model*\n",
    "* Correlation Analysis\n",
    "* Recursive Feature Elimination (RFE)\n",
    "* Decision tree feature importance\n",
    "* Select from Model (SFM)"
   ]
  },
  {
   "cell_type": "markdown",
   "id": "6f04a7e1-0948-42c9-98b4-0476da9823db",
   "metadata": {},
   "source": [
    "### Correlation Analysis"
   ]
  },
  {
   "cell_type": "code",
   "execution_count": 86,
   "id": "51b10a53",
   "metadata": {},
   "outputs": [
    {
     "data": {
      "text/html": [
       "<div>\n",
       "<style scoped>\n",
       "    .dataframe tbody tr th:only-of-type {\n",
       "        vertical-align: middle;\n",
       "    }\n",
       "\n",
       "    .dataframe tbody tr th {\n",
       "        vertical-align: top;\n",
       "    }\n",
       "\n",
       "    .dataframe thead th {\n",
       "        text-align: right;\n",
       "    }\n",
       "</style>\n",
       "<table border=\"1\" class=\"dataframe\">\n",
       "  <thead>\n",
       "    <tr style=\"text-align: right;\">\n",
       "      <th></th>\n",
       "      <th>gender</th>\n",
       "      <th>SeniorCitizen</th>\n",
       "      <th>Partner</th>\n",
       "      <th>Dependents</th>\n",
       "      <th>tenure</th>\n",
       "      <th>PhoneService</th>\n",
       "      <th>MultipleLines</th>\n",
       "      <th>InternetService</th>\n",
       "      <th>OnlineSecurity</th>\n",
       "      <th>OnlineBackup</th>\n",
       "      <th>DeviceProtection</th>\n",
       "      <th>TechSupport</th>\n",
       "      <th>StreamingTV</th>\n",
       "      <th>Contract</th>\n",
       "      <th>PaperlessBilling</th>\n",
       "      <th>PaymentMethod</th>\n",
       "      <th>MonthlyCharges</th>\n",
       "      <th>TotalCharges</th>\n",
       "      <th>Churn</th>\n",
       "    </tr>\n",
       "  </thead>\n",
       "  <tbody>\n",
       "    <tr>\n",
       "      <th>gender</th>\n",
       "      <td>1.00</td>\n",
       "      <td>-0.00</td>\n",
       "      <td>-0.00</td>\n",
       "      <td>0.01</td>\n",
       "      <td>0.01</td>\n",
       "      <td>-0.01</td>\n",
       "      <td>-0.01</td>\n",
       "      <td>-0.00</td>\n",
       "      <td>-0.02</td>\n",
       "      <td>-0.01</td>\n",
       "      <td>0.00</td>\n",
       "      <td>-0.01</td>\n",
       "      <td>-0.01</td>\n",
       "      <td>0.00</td>\n",
       "      <td>-0.01</td>\n",
       "      <td>0.02</td>\n",
       "      <td>-0.01</td>\n",
       "      <td>0.00</td>\n",
       "      <td>-0.01</td>\n",
       "    </tr>\n",
       "    <tr>\n",
       "      <th>SeniorCitizen</th>\n",
       "      <td>-0.00</td>\n",
       "      <td>1.00</td>\n",
       "      <td>0.02</td>\n",
       "      <td>-0.21</td>\n",
       "      <td>0.01</td>\n",
       "      <td>0.01</td>\n",
       "      <td>0.15</td>\n",
       "      <td>-0.03</td>\n",
       "      <td>-0.13</td>\n",
       "      <td>-0.01</td>\n",
       "      <td>-0.02</td>\n",
       "      <td>-0.15</td>\n",
       "      <td>0.03</td>\n",
       "      <td>-0.14</td>\n",
       "      <td>0.16</td>\n",
       "      <td>-0.04</td>\n",
       "      <td>0.22</td>\n",
       "      <td>0.10</td>\n",
       "      <td>0.15</td>\n",
       "    </tr>\n",
       "    <tr>\n",
       "      <th>Partner</th>\n",
       "      <td>-0.00</td>\n",
       "      <td>0.02</td>\n",
       "      <td>1.00</td>\n",
       "      <td>0.45</td>\n",
       "      <td>0.38</td>\n",
       "      <td>0.02</td>\n",
       "      <td>0.14</td>\n",
       "      <td>0.00</td>\n",
       "      <td>0.15</td>\n",
       "      <td>0.15</td>\n",
       "      <td>0.17</td>\n",
       "      <td>0.13</td>\n",
       "      <td>0.14</td>\n",
       "      <td>0.29</td>\n",
       "      <td>-0.01</td>\n",
       "      <td>-0.15</td>\n",
       "      <td>0.10</td>\n",
       "      <td>0.32</td>\n",
       "      <td>-0.15</td>\n",
       "    </tr>\n",
       "    <tr>\n",
       "      <th>Dependents</th>\n",
       "      <td>0.01</td>\n",
       "      <td>-0.21</td>\n",
       "      <td>0.45</td>\n",
       "      <td>1.00</td>\n",
       "      <td>0.16</td>\n",
       "      <td>-0.00</td>\n",
       "      <td>-0.03</td>\n",
       "      <td>0.05</td>\n",
       "      <td>0.15</td>\n",
       "      <td>0.09</td>\n",
       "      <td>0.08</td>\n",
       "      <td>0.13</td>\n",
       "      <td>0.05</td>\n",
       "      <td>0.24</td>\n",
       "      <td>-0.11</td>\n",
       "      <td>-0.04</td>\n",
       "      <td>-0.11</td>\n",
       "      <td>0.06</td>\n",
       "      <td>-0.16</td>\n",
       "    </tr>\n",
       "    <tr>\n",
       "      <th>tenure</th>\n",
       "      <td>0.01</td>\n",
       "      <td>0.01</td>\n",
       "      <td>0.38</td>\n",
       "      <td>0.16</td>\n",
       "      <td>1.00</td>\n",
       "      <td>0.01</td>\n",
       "      <td>0.34</td>\n",
       "      <td>-0.03</td>\n",
       "      <td>0.33</td>\n",
       "      <td>0.37</td>\n",
       "      <td>0.37</td>\n",
       "      <td>0.32</td>\n",
       "      <td>0.29</td>\n",
       "      <td>0.68</td>\n",
       "      <td>0.00</td>\n",
       "      <td>-0.37</td>\n",
       "      <td>0.24</td>\n",
       "      <td>0.83</td>\n",
       "      <td>-0.35</td>\n",
       "    </tr>\n",
       "    <tr>\n",
       "      <th>PhoneService</th>\n",
       "      <td>-0.01</td>\n",
       "      <td>0.01</td>\n",
       "      <td>0.02</td>\n",
       "      <td>-0.00</td>\n",
       "      <td>0.01</td>\n",
       "      <td>1.00</td>\n",
       "      <td>-0.02</td>\n",
       "      <td>0.39</td>\n",
       "      <td>-0.01</td>\n",
       "      <td>0.02</td>\n",
       "      <td>0.01</td>\n",
       "      <td>-0.02</td>\n",
       "      <td>0.06</td>\n",
       "      <td>0.00</td>\n",
       "      <td>0.02</td>\n",
       "      <td>-0.01</td>\n",
       "      <td>0.25</td>\n",
       "      <td>0.11</td>\n",
       "      <td>0.01</td>\n",
       "    </tr>\n",
       "    <tr>\n",
       "      <th>MultipleLines</th>\n",
       "      <td>-0.01</td>\n",
       "      <td>0.15</td>\n",
       "      <td>0.14</td>\n",
       "      <td>-0.03</td>\n",
       "      <td>0.34</td>\n",
       "      <td>-0.02</td>\n",
       "      <td>1.00</td>\n",
       "      <td>-0.11</td>\n",
       "      <td>0.01</td>\n",
       "      <td>0.12</td>\n",
       "      <td>0.12</td>\n",
       "      <td>0.01</td>\n",
       "      <td>0.17</td>\n",
       "      <td>0.11</td>\n",
       "      <td>0.16</td>\n",
       "      <td>-0.17</td>\n",
       "      <td>0.43</td>\n",
       "      <td>0.45</td>\n",
       "      <td>0.04</td>\n",
       "    </tr>\n",
       "    <tr>\n",
       "      <th>InternetService</th>\n",
       "      <td>-0.00</td>\n",
       "      <td>-0.03</td>\n",
       "      <td>0.00</td>\n",
       "      <td>0.05</td>\n",
       "      <td>-0.03</td>\n",
       "      <td>0.39</td>\n",
       "      <td>-0.11</td>\n",
       "      <td>1.00</td>\n",
       "      <td>-0.03</td>\n",
       "      <td>0.04</td>\n",
       "      <td>0.05</td>\n",
       "      <td>-0.03</td>\n",
       "      <td>0.11</td>\n",
       "      <td>0.10</td>\n",
       "      <td>-0.14</td>\n",
       "      <td>0.08</td>\n",
       "      <td>-0.32</td>\n",
       "      <td>-0.17</td>\n",
       "      <td>-0.05</td>\n",
       "    </tr>\n",
       "    <tr>\n",
       "      <th>OnlineSecurity</th>\n",
       "      <td>-0.02</td>\n",
       "      <td>-0.13</td>\n",
       "      <td>0.15</td>\n",
       "      <td>0.15</td>\n",
       "      <td>0.33</td>\n",
       "      <td>-0.01</td>\n",
       "      <td>0.01</td>\n",
       "      <td>-0.03</td>\n",
       "      <td>1.00</td>\n",
       "      <td>0.18</td>\n",
       "      <td>0.17</td>\n",
       "      <td>0.28</td>\n",
       "      <td>0.04</td>\n",
       "      <td>0.37</td>\n",
       "      <td>-0.16</td>\n",
       "      <td>-0.10</td>\n",
       "      <td>-0.05</td>\n",
       "      <td>0.25</td>\n",
       "      <td>-0.29</td>\n",
       "    </tr>\n",
       "    <tr>\n",
       "      <th>OnlineBackup</th>\n",
       "      <td>-0.01</td>\n",
       "      <td>-0.01</td>\n",
       "      <td>0.15</td>\n",
       "      <td>0.09</td>\n",
       "      <td>0.37</td>\n",
       "      <td>0.02</td>\n",
       "      <td>0.12</td>\n",
       "      <td>0.04</td>\n",
       "      <td>0.18</td>\n",
       "      <td>1.00</td>\n",
       "      <td>0.19</td>\n",
       "      <td>0.19</td>\n",
       "      <td>0.15</td>\n",
       "      <td>0.28</td>\n",
       "      <td>-0.01</td>\n",
       "      <td>-0.13</td>\n",
       "      <td>0.12</td>\n",
       "      <td>0.38</td>\n",
       "      <td>-0.19</td>\n",
       "    </tr>\n",
       "    <tr>\n",
       "      <th>DeviceProtection</th>\n",
       "      <td>0.00</td>\n",
       "      <td>-0.02</td>\n",
       "      <td>0.17</td>\n",
       "      <td>0.08</td>\n",
       "      <td>0.37</td>\n",
       "      <td>0.01</td>\n",
       "      <td>0.12</td>\n",
       "      <td>0.05</td>\n",
       "      <td>0.17</td>\n",
       "      <td>0.19</td>\n",
       "      <td>1.00</td>\n",
       "      <td>0.24</td>\n",
       "      <td>0.28</td>\n",
       "      <td>0.35</td>\n",
       "      <td>-0.04</td>\n",
       "      <td>-0.14</td>\n",
       "      <td>0.16</td>\n",
       "      <td>0.39</td>\n",
       "      <td>-0.18</td>\n",
       "    </tr>\n",
       "    <tr>\n",
       "      <th>TechSupport</th>\n",
       "      <td>-0.01</td>\n",
       "      <td>-0.15</td>\n",
       "      <td>0.13</td>\n",
       "      <td>0.13</td>\n",
       "      <td>0.32</td>\n",
       "      <td>-0.02</td>\n",
       "      <td>0.01</td>\n",
       "      <td>-0.03</td>\n",
       "      <td>0.28</td>\n",
       "      <td>0.19</td>\n",
       "      <td>0.24</td>\n",
       "      <td>1.00</td>\n",
       "      <td>0.16</td>\n",
       "      <td>0.43</td>\n",
       "      <td>-0.11</td>\n",
       "      <td>-0.10</td>\n",
       "      <td>-0.01</td>\n",
       "      <td>0.28</td>\n",
       "      <td>-0.28</td>\n",
       "    </tr>\n",
       "    <tr>\n",
       "      <th>StreamingTV</th>\n",
       "      <td>-0.01</td>\n",
       "      <td>0.03</td>\n",
       "      <td>0.14</td>\n",
       "      <td>0.05</td>\n",
       "      <td>0.29</td>\n",
       "      <td>0.06</td>\n",
       "      <td>0.17</td>\n",
       "      <td>0.11</td>\n",
       "      <td>0.04</td>\n",
       "      <td>0.15</td>\n",
       "      <td>0.28</td>\n",
       "      <td>0.16</td>\n",
       "      <td>1.00</td>\n",
       "      <td>0.23</td>\n",
       "      <td>0.10</td>\n",
       "      <td>-0.10</td>\n",
       "      <td>0.34</td>\n",
       "      <td>0.39</td>\n",
       "      <td>-0.03</td>\n",
       "    </tr>\n",
       "    <tr>\n",
       "      <th>Contract</th>\n",
       "      <td>0.00</td>\n",
       "      <td>-0.14</td>\n",
       "      <td>0.29</td>\n",
       "      <td>0.24</td>\n",
       "      <td>0.68</td>\n",
       "      <td>0.00</td>\n",
       "      <td>0.11</td>\n",
       "      <td>0.10</td>\n",
       "      <td>0.37</td>\n",
       "      <td>0.28</td>\n",
       "      <td>0.35</td>\n",
       "      <td>0.43</td>\n",
       "      <td>0.23</td>\n",
       "      <td>1.00</td>\n",
       "      <td>-0.18</td>\n",
       "      <td>-0.23</td>\n",
       "      <td>-0.08</td>\n",
       "      <td>0.45</td>\n",
       "      <td>-0.40</td>\n",
       "    </tr>\n",
       "    <tr>\n",
       "      <th>PaperlessBilling</th>\n",
       "      <td>-0.01</td>\n",
       "      <td>0.16</td>\n",
       "      <td>-0.01</td>\n",
       "      <td>-0.11</td>\n",
       "      <td>0.00</td>\n",
       "      <td>0.02</td>\n",
       "      <td>0.16</td>\n",
       "      <td>-0.14</td>\n",
       "      <td>-0.16</td>\n",
       "      <td>-0.01</td>\n",
       "      <td>-0.04</td>\n",
       "      <td>-0.11</td>\n",
       "      <td>0.10</td>\n",
       "      <td>-0.18</td>\n",
       "      <td>1.00</td>\n",
       "      <td>-0.06</td>\n",
       "      <td>0.35</td>\n",
       "      <td>0.16</td>\n",
       "      <td>0.19</td>\n",
       "    </tr>\n",
       "    <tr>\n",
       "      <th>PaymentMethod</th>\n",
       "      <td>0.02</td>\n",
       "      <td>-0.04</td>\n",
       "      <td>-0.15</td>\n",
       "      <td>-0.04</td>\n",
       "      <td>-0.37</td>\n",
       "      <td>-0.01</td>\n",
       "      <td>-0.17</td>\n",
       "      <td>0.08</td>\n",
       "      <td>-0.10</td>\n",
       "      <td>-0.13</td>\n",
       "      <td>-0.14</td>\n",
       "      <td>-0.10</td>\n",
       "      <td>-0.10</td>\n",
       "      <td>-0.23</td>\n",
       "      <td>-0.06</td>\n",
       "      <td>1.00</td>\n",
       "      <td>-0.19</td>\n",
       "      <td>-0.33</td>\n",
       "      <td>0.11</td>\n",
       "    </tr>\n",
       "    <tr>\n",
       "      <th>MonthlyCharges</th>\n",
       "      <td>-0.01</td>\n",
       "      <td>0.22</td>\n",
       "      <td>0.10</td>\n",
       "      <td>-0.11</td>\n",
       "      <td>0.24</td>\n",
       "      <td>0.25</td>\n",
       "      <td>0.43</td>\n",
       "      <td>-0.32</td>\n",
       "      <td>-0.05</td>\n",
       "      <td>0.12</td>\n",
       "      <td>0.16</td>\n",
       "      <td>-0.01</td>\n",
       "      <td>0.34</td>\n",
       "      <td>-0.08</td>\n",
       "      <td>0.35</td>\n",
       "      <td>-0.19</td>\n",
       "      <td>1.00</td>\n",
       "      <td>0.65</td>\n",
       "      <td>0.19</td>\n",
       "    </tr>\n",
       "    <tr>\n",
       "      <th>TotalCharges</th>\n",
       "      <td>0.00</td>\n",
       "      <td>0.10</td>\n",
       "      <td>0.32</td>\n",
       "      <td>0.06</td>\n",
       "      <td>0.83</td>\n",
       "      <td>0.11</td>\n",
       "      <td>0.45</td>\n",
       "      <td>-0.17</td>\n",
       "      <td>0.25</td>\n",
       "      <td>0.38</td>\n",
       "      <td>0.39</td>\n",
       "      <td>0.28</td>\n",
       "      <td>0.39</td>\n",
       "      <td>0.45</td>\n",
       "      <td>0.16</td>\n",
       "      <td>-0.33</td>\n",
       "      <td>0.65</td>\n",
       "      <td>1.00</td>\n",
       "      <td>-0.20</td>\n",
       "    </tr>\n",
       "    <tr>\n",
       "      <th>Churn</th>\n",
       "      <td>-0.01</td>\n",
       "      <td>0.15</td>\n",
       "      <td>-0.15</td>\n",
       "      <td>-0.16</td>\n",
       "      <td>-0.35</td>\n",
       "      <td>0.01</td>\n",
       "      <td>0.04</td>\n",
       "      <td>-0.05</td>\n",
       "      <td>-0.29</td>\n",
       "      <td>-0.19</td>\n",
       "      <td>-0.18</td>\n",
       "      <td>-0.28</td>\n",
       "      <td>-0.03</td>\n",
       "      <td>-0.40</td>\n",
       "      <td>0.19</td>\n",
       "      <td>0.11</td>\n",
       "      <td>0.19</td>\n",
       "      <td>-0.20</td>\n",
       "      <td>1.00</td>\n",
       "    </tr>\n",
       "  </tbody>\n",
       "</table>\n",
       "</div>"
      ],
      "text/plain": [
       "                  gender  SeniorCitizen  Partner  Dependents  tenure  \\\n",
       "gender              1.00          -0.00    -0.00        0.01    0.01   \n",
       "SeniorCitizen      -0.00           1.00     0.02       -0.21    0.01   \n",
       "Partner            -0.00           0.02     1.00        0.45    0.38   \n",
       "Dependents          0.01          -0.21     0.45        1.00    0.16   \n",
       "tenure              0.01           0.01     0.38        0.16    1.00   \n",
       "PhoneService       -0.01           0.01     0.02       -0.00    0.01   \n",
       "MultipleLines      -0.01           0.15     0.14       -0.03    0.34   \n",
       "InternetService    -0.00          -0.03     0.00        0.05   -0.03   \n",
       "OnlineSecurity     -0.02          -0.13     0.15        0.15    0.33   \n",
       "OnlineBackup       -0.01          -0.01     0.15        0.09    0.37   \n",
       "DeviceProtection    0.00          -0.02     0.17        0.08    0.37   \n",
       "TechSupport        -0.01          -0.15     0.13        0.13    0.32   \n",
       "StreamingTV        -0.01           0.03     0.14        0.05    0.29   \n",
       "Contract            0.00          -0.14     0.29        0.24    0.68   \n",
       "PaperlessBilling   -0.01           0.16    -0.01       -0.11    0.00   \n",
       "PaymentMethod       0.02          -0.04    -0.15       -0.04   -0.37   \n",
       "MonthlyCharges     -0.01           0.22     0.10       -0.11    0.24   \n",
       "TotalCharges        0.00           0.10     0.32        0.06    0.83   \n",
       "Churn              -0.01           0.15    -0.15       -0.16   -0.35   \n",
       "\n",
       "                  PhoneService  MultipleLines  InternetService  \\\n",
       "gender                   -0.01          -0.01            -0.00   \n",
       "SeniorCitizen             0.01           0.15            -0.03   \n",
       "Partner                   0.02           0.14             0.00   \n",
       "Dependents               -0.00          -0.03             0.05   \n",
       "tenure                    0.01           0.34            -0.03   \n",
       "PhoneService              1.00          -0.02             0.39   \n",
       "MultipleLines            -0.02           1.00            -0.11   \n",
       "InternetService           0.39          -0.11             1.00   \n",
       "OnlineSecurity           -0.01           0.01            -0.03   \n",
       "OnlineBackup              0.02           0.12             0.04   \n",
       "DeviceProtection          0.01           0.12             0.05   \n",
       "TechSupport              -0.02           0.01            -0.03   \n",
       "StreamingTV               0.06           0.17             0.11   \n",
       "Contract                  0.00           0.11             0.10   \n",
       "PaperlessBilling          0.02           0.16            -0.14   \n",
       "PaymentMethod            -0.01          -0.17             0.08   \n",
       "MonthlyCharges            0.25           0.43            -0.32   \n",
       "TotalCharges              0.11           0.45            -0.17   \n",
       "Churn                     0.01           0.04            -0.05   \n",
       "\n",
       "                  OnlineSecurity  OnlineBackup  DeviceProtection  TechSupport  \\\n",
       "gender                     -0.02         -0.01              0.00        -0.01   \n",
       "SeniorCitizen              -0.13         -0.01             -0.02        -0.15   \n",
       "Partner                     0.15          0.15              0.17         0.13   \n",
       "Dependents                  0.15          0.09              0.08         0.13   \n",
       "tenure                      0.33          0.37              0.37         0.32   \n",
       "PhoneService               -0.01          0.02              0.01        -0.02   \n",
       "MultipleLines               0.01          0.12              0.12         0.01   \n",
       "InternetService            -0.03          0.04              0.05        -0.03   \n",
       "OnlineSecurity              1.00          0.18              0.17         0.28   \n",
       "OnlineBackup                0.18          1.00              0.19         0.19   \n",
       "DeviceProtection            0.17          0.19              1.00         0.24   \n",
       "TechSupport                 0.28          0.19              0.24         1.00   \n",
       "StreamingTV                 0.04          0.15              0.28         0.16   \n",
       "Contract                    0.37          0.28              0.35         0.43   \n",
       "PaperlessBilling           -0.16         -0.01             -0.04        -0.11   \n",
       "PaymentMethod              -0.10         -0.13             -0.14        -0.10   \n",
       "MonthlyCharges             -0.05          0.12              0.16        -0.01   \n",
       "TotalCharges                0.25          0.38              0.39         0.28   \n",
       "Churn                      -0.29         -0.19             -0.18        -0.28   \n",
       "\n",
       "                  StreamingTV  Contract  PaperlessBilling  PaymentMethod  \\\n",
       "gender                  -0.01      0.00             -0.01           0.02   \n",
       "SeniorCitizen            0.03     -0.14              0.16          -0.04   \n",
       "Partner                  0.14      0.29             -0.01          -0.15   \n",
       "Dependents               0.05      0.24             -0.11          -0.04   \n",
       "tenure                   0.29      0.68              0.00          -0.37   \n",
       "PhoneService             0.06      0.00              0.02          -0.01   \n",
       "MultipleLines            0.17      0.11              0.16          -0.17   \n",
       "InternetService          0.11      0.10             -0.14           0.08   \n",
       "OnlineSecurity           0.04      0.37             -0.16          -0.10   \n",
       "OnlineBackup             0.15      0.28             -0.01          -0.13   \n",
       "DeviceProtection         0.28      0.35             -0.04          -0.14   \n",
       "TechSupport              0.16      0.43             -0.11          -0.10   \n",
       "StreamingTV              1.00      0.23              0.10          -0.10   \n",
       "Contract                 0.23      1.00             -0.18          -0.23   \n",
       "PaperlessBilling         0.10     -0.18              1.00          -0.06   \n",
       "PaymentMethod           -0.10     -0.23             -0.06           1.00   \n",
       "MonthlyCharges           0.34     -0.08              0.35          -0.19   \n",
       "TotalCharges             0.39      0.45              0.16          -0.33   \n",
       "Churn                   -0.03     -0.40              0.19           0.11   \n",
       "\n",
       "                  MonthlyCharges  TotalCharges  Churn  \n",
       "gender                     -0.01          0.00  -0.01  \n",
       "SeniorCitizen               0.22          0.10   0.15  \n",
       "Partner                     0.10          0.32  -0.15  \n",
       "Dependents                 -0.11          0.06  -0.16  \n",
       "tenure                      0.24          0.83  -0.35  \n",
       "PhoneService                0.25          0.11   0.01  \n",
       "MultipleLines               0.43          0.45   0.04  \n",
       "InternetService            -0.32         -0.17  -0.05  \n",
       "OnlineSecurity             -0.05          0.25  -0.29  \n",
       "OnlineBackup                0.12          0.38  -0.19  \n",
       "DeviceProtection            0.16          0.39  -0.18  \n",
       "TechSupport                -0.01          0.28  -0.28  \n",
       "StreamingTV                 0.34          0.39  -0.03  \n",
       "Contract                   -0.08          0.45  -0.40  \n",
       "PaperlessBilling            0.35          0.16   0.19  \n",
       "PaymentMethod              -0.19         -0.33   0.11  \n",
       "MonthlyCharges              1.00          0.65   0.19  \n",
       "TotalCharges                0.65          1.00  -0.20  \n",
       "Churn                       0.19         -0.20   1.00  "
      ]
     },
     "execution_count": 86,
     "metadata": {},
     "output_type": "execute_result"
    }
   ],
   "source": [
    "#Correlation Analysis in tabular form\n",
    "data1.corr().round(2)"
   ]
  },
  {
   "cell_type": "code",
   "execution_count": 87,
   "id": "e01e6e21",
   "metadata": {},
   "outputs": [
    {
     "data": {
      "image/png": "[encoded data removed]",
      "text/plain": [
       "<Figure size 1008x576 with 2 Axes>"
      ]
     },
     "metadata": {
      "needs_background": "light"
     },
     "output_type": "display_data"
    }
   ],
   "source": [
    "##Correlation Analysis in visual form\n",
    "plt.figure(figsize=(14,8))\n",
    "sns.heatmap(data1.corr().round(2), annot=True)\n",
    "plt.title('Correlation between variables')\n",
    "plt.show()"
   ]
  },
  {
   "cell_type": "code",
   "execution_count": 88,
   "id": "75c4e880",
   "metadata": {},
   "outputs": [
    {
     "data": {
      "text/plain": [
       "Contract           -0.40\n",
       "tenure             -0.35\n",
       "OnlineSecurity     -0.29\n",
       "TechSupport        -0.28\n",
       "TotalCharges       -0.20\n",
       "OnlineBackup       -0.19\n",
       "DeviceProtection   -0.18\n",
       "Dependents         -0.16\n",
       "Partner            -0.15\n",
       "InternetService    -0.05\n",
       "StreamingTV        -0.03\n",
       "gender             -0.01\n",
       "PhoneService        0.01\n",
       "MultipleLines       0.04\n",
       "PaymentMethod       0.11\n",
       "SeniorCitizen       0.15\n",
       "PaperlessBilling    0.19\n",
       "MonthlyCharges      0.19\n",
       "Churn               1.00\n",
       "Name: Churn, dtype: float64"
      ]
     },
     "execution_count": 88,
     "metadata": {},
     "output_type": "execute_result"
    }
   ],
   "source": [
    "#Analysis of correlation between target & feature variables \n",
    "data1.corr()['Churn'].sort_values().round(2)"
   ]
  },
  {
   "cell_type": "markdown",
   "id": "403e785b",
   "metadata": {},
   "source": [
    "#### From correlational analysis,\n",
    "* Streaming TV, gender, Phone-service, Multiple-lines, Payment method & Internet-service is having low-correlation w.r.t Churn.\n",
    "\n",
    "* Contract, tenure, Online security, tech-support & total charges are top 5 features having high correlation w.r.t churn.\n",
    "\n",
    "* Rest all features have a good correlation w.r.t Churn."
   ]
  },
  {
   "cell_type": "markdown",
   "id": "b784d077-f2dd-49d9-9936-6a0f32fb1dd9",
   "metadata": {},
   "source": [
    "### Recursive Feature Elimination (RFE)"
   ]
  },
  {
   "cell_type": "code",
   "execution_count": 89,
   "id": "b017ebe8",
   "metadata": {},
   "outputs": [],
   "source": [
    "#Drawing Important features from Random Forest model using RFE\n",
    "rfe_rf  = RFE(rf_mod4, n_features_to_select=12)"
   ]
  },
  {
   "cell_type": "code",
   "execution_count": 90,
   "id": "318b9aeb",
   "metadata": {},
   "outputs": [
    {
     "data": {
      "text/html": [
       "<style>#sk-container-id-5 {color: black;background-color: white;}#sk-container-id-5 pre{padding: 0;}#sk-container-id-5 div.sk-toggleable {background-color: white;}#sk-container-id-5 label.sk-toggleable__label {cursor: pointer;display: block;width: 100%;margin-bottom: 0;padding: 0.3em;box-sizing: border-box;text-align: center;}#sk-container-id-5 label.sk-toggleable__label-arrow:before {content: \"▸\";float: left;margin-right: 0.25em;color: #696969;}#sk-container-id-5 label.sk-toggleable__label-arrow:hover:before {color: black;}#sk-container-id-5 div.sk-estimator:hover label.sk-toggleable__label-arrow:before {color: black;}#sk-container-id-5 div.sk-toggleable__content {max-height: 0;max-width: 0;overflow: hidden;text-align: left;background-color: #f0f8ff;}#sk-container-id-5 div.sk-toggleable__content pre {margin: 0.2em;color: black;border-radius: 0.25em;background-color: #f0f8ff;}#sk-container-id-5 input.sk-toggleable__control:checked~div.sk-toggleable__content {max-height: 200px;max-width: 100%;overflow: auto;}#sk-container-id-5 input.sk-toggleable__control:checked~label.sk-toggleable__label-arrow:before {content: \"▾\";}#sk-container-id-5 div.sk-estimator input.sk-toggleable__control:checked~label.sk-toggleable__label {background-color: #d4ebff;}#sk-container-id-5 div.sk-label input.sk-toggleable__control:checked~label.sk-toggleable__label {background-color: #d4ebff;}#sk-container-id-5 input.sk-hidden--visually {border: 0;clip: rect(1px 1px 1px 1px);clip: rect(1px, 1px, 1px, 1px);height: 1px;margin: -1px;overflow: hidden;padding: 0;position: absolute;width: 1px;}#sk-container-id-5 div.sk-estimator {font-family: monospace;background-color: #f0f8ff;border: 1px dotted black;border-radius: 0.25em;box-sizing: border-box;margin-bottom: 0.5em;}#sk-container-id-5 div.sk-estimator:hover {background-color: #d4ebff;}#sk-container-id-5 div.sk-parallel-item::after {content: \"\";width: 100%;border-bottom: 1px solid gray;flex-grow: 1;}#sk-container-id-5 div.sk-label:hover label.sk-toggleable__label {background-color: #d4ebff;}#sk-container-id-5 div.sk-serial::before {content: \"\";position: absolute;border-left: 1px solid gray;box-sizing: border-box;top: 0;bottom: 0;left: 50%;z-index: 0;}#sk-container-id-5 div.sk-serial {display: flex;flex-direction: column;align-items: center;background-color: white;padding-right: 0.2em;padding-left: 0.2em;position: relative;}#sk-container-id-5 div.sk-item {position: relative;z-index: 1;}#sk-container-id-5 div.sk-parallel {display: flex;align-items: stretch;justify-content: center;background-color: white;position: relative;}#sk-container-id-5 div.sk-item::before, #sk-container-id-5 div.sk-parallel-item::before {content: \"\";position: absolute;border-left: 1px solid gray;box-sizing: border-box;top: 0;bottom: 0;left: 50%;z-index: -1;}#sk-container-id-5 div.sk-parallel-item {display: flex;flex-direction: column;z-index: 1;position: relative;background-color: white;}#sk-container-id-5 div.sk-parallel-item:first-child::after {align-self: flex-end;width: 50%;}#sk-container-id-5 div.sk-parallel-item:last-child::after {align-self: flex-start;width: 50%;}#sk-container-id-5 div.sk-parallel-item:only-child::after {width: 0;}#sk-container-id-5 div.sk-dashed-wrapped {border: 1px dashed gray;margin: 0 0.4em 0.5em 0.4em;box-sizing: border-box;padding-bottom: 0.4em;background-color: white;}#sk-container-id-5 div.sk-label label {font-family: monospace;font-weight: bold;display: inline-block;line-height: 1.2em;}#sk-container-id-5 div.sk-label-container {text-align: center;}#sk-container-id-5 div.sk-container {/* jupyter's `normalize.less` sets `[hidden] { display: none; }` but bootstrap.min.css set `[hidden] { display: none !important; }` so we also need the `!important` here to be able to override the default hidden behavior on the sphinx rendered scikit-learn.org. See: https://github.com/scikit-learn/scikit-learn/issues/21755 */display: inline-block !important;position: relative;}#sk-container-id-5 div.sk-text-repr-fallback {display: none;}</style><div id=\"sk-container-id-5\" class=\"sk-top-container\"><div class=\"sk-text-repr-fallback\"><pre>RFE(estimator=RandomForestClassifier(random_state=0), n_features_to_select=12)</pre><b>In a Jupyter environment, please rerun this cell to show the HTML representation or trust the notebook. <br />On GitHub, the HTML representation is unable to render, please try loading this page with nbviewer.org.</b></div><div class=\"sk-container\" hidden><div class=\"sk-item sk-dashed-wrapped\"><div class=\"sk-label-container\"><div class=\"sk-label sk-toggleable\"><input class=\"sk-toggleable__control sk-hidden--visually\" id=\"sk-estimator-id-5\" type=\"checkbox\" ><label for=\"sk-estimator-id-5\" class=\"sk-toggleable__label sk-toggleable__label-arrow\">RFE</label><div class=\"sk-toggleable__content\"><pre>RFE(estimator=RandomForestClassifier(random_state=0), n_features_to_select=12)</pre></div></div></div><div class=\"sk-parallel\"><div class=\"sk-parallel-item\"><div class=\"sk-item\"><div class=\"sk-label-container\"><div class=\"sk-label sk-toggleable\"><input class=\"sk-toggleable__control sk-hidden--visually\" id=\"sk-estimator-id-6\" type=\"checkbox\" ><label for=\"sk-estimator-id-6\" class=\"sk-toggleable__label sk-toggleable__label-arrow\">estimator: RandomForestClassifier</label><div class=\"sk-toggleable__content\"><pre>RandomForestClassifier(random_state=0)</pre></div></div></div><div class=\"sk-serial\"><div class=\"sk-item\"><div class=\"sk-estimator sk-toggleable\"><input class=\"sk-toggleable__control sk-hidden--visually\" id=\"sk-estimator-id-7\" type=\"checkbox\" ><label for=\"sk-estimator-id-7\" class=\"sk-toggleable__label sk-toggleable__label-arrow\">RandomForestClassifier</label><div class=\"sk-toggleable__content\"><pre>RandomForestClassifier(random_state=0)</pre></div></div></div></div></div></div></div></div></div></div>"
      ],
      "text/plain": [
       "RFE(estimator=RandomForestClassifier(random_state=0), n_features_to_select=12)"
      ]
     },
     "execution_count": 90,
     "metadata": {},
     "output_type": "execute_result"
    }
   ],
   "source": [
    "rfe_rf.fit(X_st, y_st)"
   ]
  },
  {
   "cell_type": "code",
   "execution_count": 91,
   "id": "a8f5c2ff",
   "metadata": {},
   "outputs": [
    {
     "data": {
      "text/plain": [
       "array(['Partner', 'Dependents', 'tenure', 'InternetService',\n",
       "       'OnlineSecurity', 'OnlineBackup', 'DeviceProtection',\n",
       "       'TechSupport', 'Contract', 'PaymentMethod', 'MonthlyCharges',\n",
       "       'TotalCharges'], dtype=object)"
      ]
     },
     "execution_count": 91,
     "metadata": {},
     "output_type": "execute_result"
    }
   ],
   "source": [
    "#Important features as per random forest model\n",
    "rfe_rf.get_feature_names_out(data.columns[0:18])"
   ]
  },
  {
   "cell_type": "code",
   "execution_count": 92,
   "id": "76914f3e",
   "metadata": {},
   "outputs": [],
   "source": [
    "#Drawing Important features from Extreme Gradient Boosting model using RFE\n",
    "rfe_xgb = RFE(xgb_mod4, n_features_to_select=12)"
   ]
  },
  {
   "cell_type": "code",
   "execution_count": 93,
   "id": "96f72718",
   "metadata": {},
   "outputs": [
    {
     "data": {
      "text/html": [
       "<style>#sk-container-id-6 {color: black;background-color: white;}#sk-container-id-6 pre{padding: 0;}#sk-container-id-6 div.sk-toggleable {background-color: white;}#sk-container-id-6 label.sk-toggleable__label {cursor: pointer;display: block;width: 100%;margin-bottom: 0;padding: 0.3em;box-sizing: border-box;text-align: center;}#sk-container-id-6 label.sk-toggleable__label-arrow:before {content: \"▸\";float: left;margin-right: 0.25em;color: #696969;}#sk-container-id-6 label.sk-toggleable__label-arrow:hover:before {color: black;}#sk-container-id-6 div.sk-estimator:hover label.sk-toggleable__label-arrow:before {color: black;}#sk-container-id-6 div.sk-toggleable__content {max-height: 0;max-width: 0;overflow: hidden;text-align: left;background-color: #f0f8ff;}#sk-container-id-6 div.sk-toggleable__content pre {margin: 0.2em;color: black;border-radius: 0.25em;background-color: #f0f8ff;}#sk-container-id-6 input.sk-toggleable__control:checked~div.sk-toggleable__content {max-height: 200px;max-width: 100%;overflow: auto;}#sk-container-id-6 input.sk-toggleable__control:checked~label.sk-toggleable__label-arrow:before {content: \"▾\";}#sk-container-id-6 div.sk-estimator input.sk-toggleable__control:checked~label.sk-toggleable__label {background-color: #d4ebff;}#sk-container-id-6 div.sk-label input.sk-toggleable__control:checked~label.sk-toggleable__label {background-color: #d4ebff;}#sk-container-id-6 input.sk-hidden--visually {border: 0;clip: rect(1px 1px 1px 1px);clip: rect(1px, 1px, 1px, 1px);height: 1px;margin: -1px;overflow: hidden;padding: 0;position: absolute;width: 1px;}#sk-container-id-6 div.sk-estimator {font-family: monospace;background-color: #f0f8ff;border: 1px dotted black;border-radius: 0.25em;box-sizing: border-box;margin-bottom: 0.5em;}#sk-container-id-6 div.sk-estimator:hover {background-color: #d4ebff;}#sk-container-id-6 div.sk-parallel-item::after {content: \"\";width: 100%;border-bottom: 1px solid gray;flex-grow: 1;}#sk-container-id-6 div.sk-label:hover label.sk-toggleable__label {background-color: #d4ebff;}#sk-container-id-6 div.sk-serial::before {content: \"\";position: absolute;border-left: 1px solid gray;box-sizing: border-box;top: 0;bottom: 0;left: 50%;z-index: 0;}#sk-container-id-6 div.sk-serial {display: flex;flex-direction: column;align-items: center;background-color: white;padding-right: 0.2em;padding-left: 0.2em;position: relative;}#sk-container-id-6 div.sk-item {position: relative;z-index: 1;}#sk-container-id-6 div.sk-parallel {display: flex;align-items: stretch;justify-content: center;background-color: white;position: relative;}#sk-container-id-6 div.sk-item::before, #sk-container-id-6 div.sk-parallel-item::before {content: \"\";position: absolute;border-left: 1px solid gray;box-sizing: border-box;top: 0;bottom: 0;left: 50%;z-index: -1;}#sk-container-id-6 div.sk-parallel-item {display: flex;flex-direction: column;z-index: 1;position: relative;background-color: white;}#sk-container-id-6 div.sk-parallel-item:first-child::after {align-self: flex-end;width: 50%;}#sk-container-id-6 div.sk-parallel-item:last-child::after {align-self: flex-start;width: 50%;}#sk-container-id-6 div.sk-parallel-item:only-child::after {width: 0;}#sk-container-id-6 div.sk-dashed-wrapped {border: 1px dashed gray;margin: 0 0.4em 0.5em 0.4em;box-sizing: border-box;padding-bottom: 0.4em;background-color: white;}#sk-container-id-6 div.sk-label label {font-family: monospace;font-weight: bold;display: inline-block;line-height: 1.2em;}#sk-container-id-6 div.sk-label-container {text-align: center;}#sk-container-id-6 div.sk-container {/* jupyter's `normalize.less` sets `[hidden] { display: none; }` but bootstrap.min.css set `[hidden] { display: none !important; }` so we also need the `!important` here to be able to override the default hidden behavior on the sphinx rendered scikit-learn.org. See: https://github.com/scikit-learn/scikit-learn/issues/21755 */display: inline-block !important;position: relative;}#sk-container-id-6 div.sk-text-repr-fallback {display: none;}</style><div id=\"sk-container-id-6\" class=\"sk-top-container\"><div class=\"sk-text-repr-fallback\"><pre>RFE(estimator=XGBClassifier(base_score=0.5, booster=&#x27;gbtree&#x27;, callbacks=None,\n",
       "                            colsample_bylevel=1, colsample_bynode=1,\n",
       "                            colsample_bytree=1, early_stopping_rounds=None,\n",
       "                            enable_categorical=False, eval_metric=None, gamma=0,\n",
       "                            gpu_id=-1, grow_policy=&#x27;depthwise&#x27;,\n",
       "                            importance_type=None, interaction_constraints=&#x27;&#x27;,\n",
       "                            learning_rate=0.300000012, max_bin=256,\n",
       "                            max_cat_to_onehot=4, max_delta_step=0, max_depth=6,\n",
       "                            max_leaves=0, min_child_weight=1, missing=nan,\n",
       "                            monotone_constraints=&#x27;()&#x27;, n_estimators=100,\n",
       "                            n_jobs=0, num_parallel_tree=1, predictor=&#x27;auto&#x27;,\n",
       "                            random_state=0, reg_alpha=0, reg_lambda=1, ...),\n",
       "    n_features_to_select=12)</pre><b>In a Jupyter environment, please rerun this cell to show the HTML representation or trust the notebook. <br />On GitHub, the HTML representation is unable to render, please try loading this page with nbviewer.org.</b></div><div class=\"sk-container\" hidden><div class=\"sk-item sk-dashed-wrapped\"><div class=\"sk-label-container\"><div class=\"sk-label sk-toggleable\"><input class=\"sk-toggleable__control sk-hidden--visually\" id=\"sk-estimator-id-8\" type=\"checkbox\" ><label for=\"sk-estimator-id-8\" class=\"sk-toggleable__label sk-toggleable__label-arrow\">RFE</label><div class=\"sk-toggleable__content\"><pre>RFE(estimator=XGBClassifier(base_score=0.5, booster=&#x27;gbtree&#x27;, callbacks=None,\n",
       "                            colsample_bylevel=1, colsample_bynode=1,\n",
       "                            colsample_bytree=1, early_stopping_rounds=None,\n",
       "                            enable_categorical=False, eval_metric=None, gamma=0,\n",
       "                            gpu_id=-1, grow_policy=&#x27;depthwise&#x27;,\n",
       "                            importance_type=None, interaction_constraints=&#x27;&#x27;,\n",
       "                            learning_rate=0.300000012, max_bin=256,\n",
       "                            max_cat_to_onehot=4, max_delta_step=0, max_depth=6,\n",
       "                            max_leaves=0, min_child_weight=1, missing=nan,\n",
       "                            monotone_constraints=&#x27;()&#x27;, n_estimators=100,\n",
       "                            n_jobs=0, num_parallel_tree=1, predictor=&#x27;auto&#x27;,\n",
       "                            random_state=0, reg_alpha=0, reg_lambda=1, ...),\n",
       "    n_features_to_select=12)</pre></div></div></div><div class=\"sk-parallel\"><div class=\"sk-parallel-item\"><div class=\"sk-item\"><div class=\"sk-label-container\"><div class=\"sk-label sk-toggleable\"><input class=\"sk-toggleable__control sk-hidden--visually\" id=\"sk-estimator-id-9\" type=\"checkbox\" ><label for=\"sk-estimator-id-9\" class=\"sk-toggleable__label sk-toggleable__label-arrow\">estimator: XGBClassifier</label><div class=\"sk-toggleable__content\"><pre>XGBClassifier(base_score=0.5, booster=&#x27;gbtree&#x27;, callbacks=None,\n",
       "              colsample_bylevel=1, colsample_bynode=1, colsample_bytree=1,\n",
       "              early_stopping_rounds=None, enable_categorical=False,\n",
       "              eval_metric=None, gamma=0, gpu_id=-1, grow_policy=&#x27;depthwise&#x27;,\n",
       "              importance_type=None, interaction_constraints=&#x27;&#x27;,\n",
       "              learning_rate=0.300000012, max_bin=256, max_cat_to_onehot=4,\n",
       "              max_delta_step=0, max_depth=6, max_leaves=0, min_child_weight=1,\n",
       "              missing=nan, monotone_constraints=&#x27;()&#x27;, n_estimators=100,\n",
       "              n_jobs=0, num_parallel_tree=1, predictor=&#x27;auto&#x27;, random_state=0,\n",
       "              reg_alpha=0, reg_lambda=1, ...)</pre></div></div></div><div class=\"sk-serial\"><div class=\"sk-item\"><div class=\"sk-estimator sk-toggleable\"><input class=\"sk-toggleable__control sk-hidden--visually\" id=\"sk-estimator-id-10\" type=\"checkbox\" ><label for=\"sk-estimator-id-10\" class=\"sk-toggleable__label sk-toggleable__label-arrow\">XGBClassifier</label><div class=\"sk-toggleable__content\"><pre>XGBClassifier(base_score=0.5, booster=&#x27;gbtree&#x27;, callbacks=None,\n",
       "              colsample_bylevel=1, colsample_bynode=1, colsample_bytree=1,\n",
       "              early_stopping_rounds=None, enable_categorical=False,\n",
       "              eval_metric=None, gamma=0, gpu_id=-1, grow_policy=&#x27;depthwise&#x27;,\n",
       "              importance_type=None, interaction_constraints=&#x27;&#x27;,\n",
       "              learning_rate=0.300000012, max_bin=256, max_cat_to_onehot=4,\n",
       "              max_delta_step=0, max_depth=6, max_leaves=0, min_child_weight=1,\n",
       "              missing=nan, monotone_constraints=&#x27;()&#x27;, n_estimators=100,\n",
       "              n_jobs=0, num_parallel_tree=1, predictor=&#x27;auto&#x27;, random_state=0,\n",
       "              reg_alpha=0, reg_lambda=1, ...)</pre></div></div></div></div></div></div></div></div></div></div>"
      ],
      "text/plain": [
       "RFE(estimator=XGBClassifier(base_score=0.5, booster='gbtree', callbacks=None,\n",
       "                            colsample_bylevel=1, colsample_bynode=1,\n",
       "                            colsample_bytree=1, early_stopping_rounds=None,\n",
       "                            enable_categorical=False, eval_metric=None, gamma=0,\n",
       "                            gpu_id=-1, grow_policy='depthwise',\n",
       "                            importance_type=None, interaction_constraints='',\n",
       "                            learning_rate=0.300000012, max_bin=256,\n",
       "                            max_cat_to_onehot=4, max_delta_step=0, max_depth=6,\n",
       "                            max_leaves=0, min_child_weight=1, missing=nan,\n",
       "                            monotone_constraints='()', n_estimators=100,\n",
       "                            n_jobs=0, num_parallel_tree=1, predictor='auto',\n",
       "                            random_state=0, reg_alpha=0, reg_lambda=1, ...),\n",
       "    n_features_to_select=12)"
      ]
     },
     "execution_count": 93,
     "metadata": {},
     "output_type": "execute_result"
    }
   ],
   "source": [
    "rfe_xgb.fit(X_st, y_st)"
   ]
  },
  {
   "cell_type": "code",
   "execution_count": 94,
   "id": "3c8b3236",
   "metadata": {},
   "outputs": [
    {
     "data": {
      "text/plain": [
       "array(['gender', 'Partner', 'Dependents', 'tenure', 'InternetService',\n",
       "       'OnlineSecurity', 'OnlineBackup', 'DeviceProtection',\n",
       "       'TechSupport', 'StreamingTV', 'Contract', 'PaymentMethod'],\n",
       "      dtype=object)"
      ]
     },
     "execution_count": 94,
     "metadata": {},
     "output_type": "execute_result"
    }
   ],
   "source": [
    "#Important features as per extreme gradient boost model\n",
    "rfe_xgb.get_feature_names_out(data.columns[0:18])"
   ]
  },
  {
   "cell_type": "code",
   "execution_count": 95,
   "id": "f791c1ec",
   "metadata": {},
   "outputs": [
    {
     "data": {
      "text/plain": [
       "Index(['gender', 'SeniorCitizen', 'Partner', 'Dependents', 'tenure',\n",
       "       'PhoneService', 'MultipleLines', 'InternetService', 'OnlineSecurity',\n",
       "       'OnlineBackup', 'DeviceProtection', 'TechSupport', 'StreamingTV',\n",
       "       'Contract', 'PaperlessBilling', 'PaymentMethod', 'MonthlyCharges',\n",
       "       'TotalCharges'],\n",
       "      dtype='object')"
      ]
     },
     "execution_count": 95,
     "metadata": {},
     "output_type": "execute_result"
    }
   ],
   "source": [
    "data.columns[0:18]"
   ]
  },
  {
   "cell_type": "code",
   "execution_count": 96,
   "id": "34284f72",
   "metadata": {
    "scrolled": false
   },
   "outputs": [
    {
     "data": {
      "text/html": [
       "<div>\n",
       "<style scoped>\n",
       "    .dataframe tbody tr th:only-of-type {\n",
       "        vertical-align: middle;\n",
       "    }\n",
       "\n",
       "    .dataframe tbody tr th {\n",
       "        vertical-align: top;\n",
       "    }\n",
       "\n",
       "    .dataframe thead th {\n",
       "        text-align: right;\n",
       "    }\n",
       "</style>\n",
       "<table border=\"1\" class=\"dataframe\">\n",
       "  <thead>\n",
       "    <tr style=\"text-align: right;\">\n",
       "      <th></th>\n",
       "      <th>Random Forest</th>\n",
       "      <th>Extreme Gradient Boost</th>\n",
       "    </tr>\n",
       "  </thead>\n",
       "  <tbody>\n",
       "    <tr>\n",
       "      <th>0</th>\n",
       "      <td>Partner</td>\n",
       "      <td>gender</td>\n",
       "    </tr>\n",
       "    <tr>\n",
       "      <th>1</th>\n",
       "      <td>Dependents</td>\n",
       "      <td>Partner</td>\n",
       "    </tr>\n",
       "    <tr>\n",
       "      <th>2</th>\n",
       "      <td>tenure</td>\n",
       "      <td>Dependents</td>\n",
       "    </tr>\n",
       "    <tr>\n",
       "      <th>3</th>\n",
       "      <td>InternetService</td>\n",
       "      <td>tenure</td>\n",
       "    </tr>\n",
       "    <tr>\n",
       "      <th>4</th>\n",
       "      <td>OnlineSecurity</td>\n",
       "      <td>InternetService</td>\n",
       "    </tr>\n",
       "    <tr>\n",
       "      <th>5</th>\n",
       "      <td>OnlineBackup</td>\n",
       "      <td>OnlineSecurity</td>\n",
       "    </tr>\n",
       "    <tr>\n",
       "      <th>6</th>\n",
       "      <td>DeviceProtection</td>\n",
       "      <td>OnlineBackup</td>\n",
       "    </tr>\n",
       "    <tr>\n",
       "      <th>7</th>\n",
       "      <td>TechSupport</td>\n",
       "      <td>DeviceProtection</td>\n",
       "    </tr>\n",
       "    <tr>\n",
       "      <th>8</th>\n",
       "      <td>Contract</td>\n",
       "      <td>TechSupport</td>\n",
       "    </tr>\n",
       "    <tr>\n",
       "      <th>9</th>\n",
       "      <td>PaymentMethod</td>\n",
       "      <td>StreamingTV</td>\n",
       "    </tr>\n",
       "    <tr>\n",
       "      <th>10</th>\n",
       "      <td>MonthlyCharges</td>\n",
       "      <td>Contract</td>\n",
       "    </tr>\n",
       "    <tr>\n",
       "      <th>11</th>\n",
       "      <td>TotalCharges</td>\n",
       "      <td>PaymentMethod</td>\n",
       "    </tr>\n",
       "  </tbody>\n",
       "</table>\n",
       "</div>"
      ],
      "text/plain": [
       "       Random Forest Extreme Gradient Boost\n",
       "0            Partner                 gender\n",
       "1         Dependents                Partner\n",
       "2             tenure             Dependents\n",
       "3    InternetService                 tenure\n",
       "4     OnlineSecurity        InternetService\n",
       "5       OnlineBackup         OnlineSecurity\n",
       "6   DeviceProtection           OnlineBackup\n",
       "7        TechSupport       DeviceProtection\n",
       "8           Contract            TechSupport\n",
       "9      PaymentMethod            StreamingTV\n",
       "10    MonthlyCharges               Contract\n",
       "11      TotalCharges          PaymentMethod"
      ]
     },
     "execution_count": 96,
     "metadata": {},
     "output_type": "execute_result"
    }
   ],
   "source": [
    "#Comparing all the features from 3 models in a DataFrame\n",
    "rfe_df = pd.DataFrame({'Random Forest' : rfe_rf.get_feature_names_out(data.columns[0:18]),\n",
    "                       'Extreme Gradient Boost' : rfe_xgb.get_feature_names_out(data.columns[0:18])})\n",
    "rfe_df"
   ]
  },
  {
   "cell_type": "markdown",
   "id": "ac627e64",
   "metadata": {},
   "source": [
    "#### From above RFE analysis,\n",
    "* 'Partner', 'Dependents', 'tenure', 'InternetService', 'OnlineSecurity', 'OnlineBackup',  'DeviceProtection', 'TechSupport', 'Contract' & 'PaymentMethod' are common significant features for Random Forest & Extreme Gradient models."
   ]
  },
  {
   "cell_type": "markdown",
   "id": "212a8143",
   "metadata": {},
   "source": [
    "### Decision Tree Feature Importance"
   ]
  },
  {
   "cell_type": "code",
   "execution_count": 97,
   "id": "cd3962c5",
   "metadata": {},
   "outputs": [],
   "source": [
    "#Drawing Important features from Decision tree model\n",
    "dt_feat = dt_mod4.feature_importances_"
   ]
  },
  {
   "cell_type": "code",
   "execution_count": 98,
   "id": "69ae6810",
   "metadata": {},
   "outputs": [
    {
     "data": {
      "text/html": [
       "<div>\n",
       "<style scoped>\n",
       "    .dataframe tbody tr th:only-of-type {\n",
       "        vertical-align: middle;\n",
       "    }\n",
       "\n",
       "    .dataframe tbody tr th {\n",
       "        vertical-align: top;\n",
       "    }\n",
       "\n",
       "    .dataframe thead th {\n",
       "        text-align: right;\n",
       "    }\n",
       "</style>\n",
       "<table border=\"1\" class=\"dataframe\">\n",
       "  <thead>\n",
       "    <tr style=\"text-align: right;\">\n",
       "      <th></th>\n",
       "      <th>Features</th>\n",
       "      <th>Values</th>\n",
       "    </tr>\n",
       "  </thead>\n",
       "  <tbody>\n",
       "    <tr>\n",
       "      <th>0</th>\n",
       "      <td>Contract</td>\n",
       "      <td>0.310224</td>\n",
       "    </tr>\n",
       "    <tr>\n",
       "      <th>1</th>\n",
       "      <td>MonthlyCharges</td>\n",
       "      <td>0.175067</td>\n",
       "    </tr>\n",
       "    <tr>\n",
       "      <th>2</th>\n",
       "      <td>TotalCharges</td>\n",
       "      <td>0.133983</td>\n",
       "    </tr>\n",
       "    <tr>\n",
       "      <th>3</th>\n",
       "      <td>tenure</td>\n",
       "      <td>0.089753</td>\n",
       "    </tr>\n",
       "    <tr>\n",
       "      <th>4</th>\n",
       "      <td>TechSupport</td>\n",
       "      <td>0.045298</td>\n",
       "    </tr>\n",
       "    <tr>\n",
       "      <th>5</th>\n",
       "      <td>OnlineSecurity</td>\n",
       "      <td>0.037283</td>\n",
       "    </tr>\n",
       "    <tr>\n",
       "      <th>6</th>\n",
       "      <td>PaymentMethod</td>\n",
       "      <td>0.036028</td>\n",
       "    </tr>\n",
       "    <tr>\n",
       "      <th>7</th>\n",
       "      <td>gender</td>\n",
       "      <td>0.023224</td>\n",
       "    </tr>\n",
       "    <tr>\n",
       "      <th>8</th>\n",
       "      <td>OnlineBackup</td>\n",
       "      <td>0.021580</td>\n",
       "    </tr>\n",
       "    <tr>\n",
       "      <th>9</th>\n",
       "      <td>Dependents</td>\n",
       "      <td>0.020761</td>\n",
       "    </tr>\n",
       "    <tr>\n",
       "      <th>10</th>\n",
       "      <td>StreamingTV</td>\n",
       "      <td>0.019063</td>\n",
       "    </tr>\n",
       "    <tr>\n",
       "      <th>11</th>\n",
       "      <td>Partner</td>\n",
       "      <td>0.017629</td>\n",
       "    </tr>\n",
       "    <tr>\n",
       "      <th>12</th>\n",
       "      <td>SeniorCitizen</td>\n",
       "      <td>0.016894</td>\n",
       "    </tr>\n",
       "    <tr>\n",
       "      <th>13</th>\n",
       "      <td>MultipleLines</td>\n",
       "      <td>0.015896</td>\n",
       "    </tr>\n",
       "    <tr>\n",
       "      <th>14</th>\n",
       "      <td>DeviceProtection</td>\n",
       "      <td>0.015661</td>\n",
       "    </tr>\n",
       "    <tr>\n",
       "      <th>15</th>\n",
       "      <td>PaperlessBilling</td>\n",
       "      <td>0.012228</td>\n",
       "    </tr>\n",
       "    <tr>\n",
       "      <th>16</th>\n",
       "      <td>PhoneService</td>\n",
       "      <td>0.007099</td>\n",
       "    </tr>\n",
       "    <tr>\n",
       "      <th>17</th>\n",
       "      <td>InternetService</td>\n",
       "      <td>0.002329</td>\n",
       "    </tr>\n",
       "  </tbody>\n",
       "</table>\n",
       "</div>"
      ],
      "text/plain": [
       "            Features    Values\n",
       "0           Contract  0.310224\n",
       "1     MonthlyCharges  0.175067\n",
       "2       TotalCharges  0.133983\n",
       "3             tenure  0.089753\n",
       "4        TechSupport  0.045298\n",
       "5     OnlineSecurity  0.037283\n",
       "6      PaymentMethod  0.036028\n",
       "7             gender  0.023224\n",
       "8       OnlineBackup  0.021580\n",
       "9         Dependents  0.020761\n",
       "10       StreamingTV  0.019063\n",
       "11           Partner  0.017629\n",
       "12     SeniorCitizen  0.016894\n",
       "13     MultipleLines  0.015896\n",
       "14  DeviceProtection  0.015661\n",
       "15  PaperlessBilling  0.012228\n",
       "16      PhoneService  0.007099\n",
       "17   InternetService  0.002329"
      ]
     },
     "execution_count": 98,
     "metadata": {},
     "output_type": "execute_result"
    }
   ],
   "source": [
    "dfi = pd.DataFrame({'Features' :  data1.columns[0:18], \n",
    "                    'Values'   :  dt_feat})\n",
    "dfi.sort_values(by = 'Values', ascending = False, ignore_index = True)"
   ]
  },
  {
   "cell_type": "markdown",
   "id": "c77f4957",
   "metadata": {},
   "source": [
    "#### From above analysis,\n",
    "* Contract, Total-charges & Monthly-charges are the significant features as per decision tree feature importance."
   ]
  },
  {
   "cell_type": "markdown",
   "id": "54a94c8c",
   "metadata": {},
   "source": [
    "### Select from Model (SFM)"
   ]
  },
  {
   "cell_type": "code",
   "execution_count": 99,
   "id": "4de189c4",
   "metadata": {},
   "outputs": [],
   "source": [
    "#Choosing a model\n",
    "rf1 = RandomForestClassifier(random_state=0)"
   ]
  },
  {
   "cell_type": "code",
   "execution_count": 100,
   "id": "45c56eb3",
   "metadata": {},
   "outputs": [],
   "source": [
    "#Drawing Important features from Select from model method\n",
    "sfm = SelectFromModel(rf1, max_features=None)"
   ]
  },
  {
   "cell_type": "code",
   "execution_count": 101,
   "id": "e966b8be",
   "metadata": {},
   "outputs": [
    {
     "data": {
      "text/html": [
       "<style>#sk-container-id-7 {color: black;background-color: white;}#sk-container-id-7 pre{padding: 0;}#sk-container-id-7 div.sk-toggleable {background-color: white;}#sk-container-id-7 label.sk-toggleable__label {cursor: pointer;display: block;width: 100%;margin-bottom: 0;padding: 0.3em;box-sizing: border-box;text-align: center;}#sk-container-id-7 label.sk-toggleable__label-arrow:before {content: \"▸\";float: left;margin-right: 0.25em;color: #696969;}#sk-container-id-7 label.sk-toggleable__label-arrow:hover:before {color: black;}#sk-container-id-7 div.sk-estimator:hover label.sk-toggleable__label-arrow:before {color: black;}#sk-container-id-7 div.sk-toggleable__content {max-height: 0;max-width: 0;overflow: hidden;text-align: left;background-color: #f0f8ff;}#sk-container-id-7 div.sk-toggleable__content pre {margin: 0.2em;color: black;border-radius: 0.25em;background-color: #f0f8ff;}#sk-container-id-7 input.sk-toggleable__control:checked~div.sk-toggleable__content {max-height: 200px;max-width: 100%;overflow: auto;}#sk-container-id-7 input.sk-toggleable__control:checked~label.sk-toggleable__label-arrow:before {content: \"▾\";}#sk-container-id-7 div.sk-estimator input.sk-toggleable__control:checked~label.sk-toggleable__label {background-color: #d4ebff;}#sk-container-id-7 div.sk-label input.sk-toggleable__control:checked~label.sk-toggleable__label {background-color: #d4ebff;}#sk-container-id-7 input.sk-hidden--visually {border: 0;clip: rect(1px 1px 1px 1px);clip: rect(1px, 1px, 1px, 1px);height: 1px;margin: -1px;overflow: hidden;padding: 0;position: absolute;width: 1px;}#sk-container-id-7 div.sk-estimator {font-family: monospace;background-color: #f0f8ff;border: 1px dotted black;border-radius: 0.25em;box-sizing: border-box;margin-bottom: 0.5em;}#sk-container-id-7 div.sk-estimator:hover {background-color: #d4ebff;}#sk-container-id-7 div.sk-parallel-item::after {content: \"\";width: 100%;border-bottom: 1px solid gray;flex-grow: 1;}#sk-container-id-7 div.sk-label:hover label.sk-toggleable__label {background-color: #d4ebff;}#sk-container-id-7 div.sk-serial::before {content: \"\";position: absolute;border-left: 1px solid gray;box-sizing: border-box;top: 0;bottom: 0;left: 50%;z-index: 0;}#sk-container-id-7 div.sk-serial {display: flex;flex-direction: column;align-items: center;background-color: white;padding-right: 0.2em;padding-left: 0.2em;position: relative;}#sk-container-id-7 div.sk-item {position: relative;z-index: 1;}#sk-container-id-7 div.sk-parallel {display: flex;align-items: stretch;justify-content: center;background-color: white;position: relative;}#sk-container-id-7 div.sk-item::before, #sk-container-id-7 div.sk-parallel-item::before {content: \"\";position: absolute;border-left: 1px solid gray;box-sizing: border-box;top: 0;bottom: 0;left: 50%;z-index: -1;}#sk-container-id-7 div.sk-parallel-item {display: flex;flex-direction: column;z-index: 1;position: relative;background-color: white;}#sk-container-id-7 div.sk-parallel-item:first-child::after {align-self: flex-end;width: 50%;}#sk-container-id-7 div.sk-parallel-item:last-child::after {align-self: flex-start;width: 50%;}#sk-container-id-7 div.sk-parallel-item:only-child::after {width: 0;}#sk-container-id-7 div.sk-dashed-wrapped {border: 1px dashed gray;margin: 0 0.4em 0.5em 0.4em;box-sizing: border-box;padding-bottom: 0.4em;background-color: white;}#sk-container-id-7 div.sk-label label {font-family: monospace;font-weight: bold;display: inline-block;line-height: 1.2em;}#sk-container-id-7 div.sk-label-container {text-align: center;}#sk-container-id-7 div.sk-container {/* jupyter's `normalize.less` sets `[hidden] { display: none; }` but bootstrap.min.css set `[hidden] { display: none !important; }` so we also need the `!important` here to be able to override the default hidden behavior on the sphinx rendered scikit-learn.org. See: https://github.com/scikit-learn/scikit-learn/issues/21755 */display: inline-block !important;position: relative;}#sk-container-id-7 div.sk-text-repr-fallback {display: none;}</style><div id=\"sk-container-id-7\" class=\"sk-top-container\"><div class=\"sk-text-repr-fallback\"><pre>SelectFromModel(estimator=RandomForestClassifier(random_state=0))</pre><b>In a Jupyter environment, please rerun this cell to show the HTML representation or trust the notebook. <br />On GitHub, the HTML representation is unable to render, please try loading this page with nbviewer.org.</b></div><div class=\"sk-container\" hidden><div class=\"sk-item sk-dashed-wrapped\"><div class=\"sk-label-container\"><div class=\"sk-label sk-toggleable\"><input class=\"sk-toggleable__control sk-hidden--visually\" id=\"sk-estimator-id-11\" type=\"checkbox\" ><label for=\"sk-estimator-id-11\" class=\"sk-toggleable__label sk-toggleable__label-arrow\">SelectFromModel</label><div class=\"sk-toggleable__content\"><pre>SelectFromModel(estimator=RandomForestClassifier(random_state=0))</pre></div></div></div><div class=\"sk-parallel\"><div class=\"sk-parallel-item\"><div class=\"sk-item\"><div class=\"sk-label-container\"><div class=\"sk-label sk-toggleable\"><input class=\"sk-toggleable__control sk-hidden--visually\" id=\"sk-estimator-id-12\" type=\"checkbox\" ><label for=\"sk-estimator-id-12\" class=\"sk-toggleable__label sk-toggleable__label-arrow\">estimator: RandomForestClassifier</label><div class=\"sk-toggleable__content\"><pre>RandomForestClassifier(random_state=0)</pre></div></div></div><div class=\"sk-serial\"><div class=\"sk-item\"><div class=\"sk-estimator sk-toggleable\"><input class=\"sk-toggleable__control sk-hidden--visually\" id=\"sk-estimator-id-13\" type=\"checkbox\" ><label for=\"sk-estimator-id-13\" class=\"sk-toggleable__label sk-toggleable__label-arrow\">RandomForestClassifier</label><div class=\"sk-toggleable__content\"><pre>RandomForestClassifier(random_state=0)</pre></div></div></div></div></div></div></div></div></div></div>"
      ],
      "text/plain": [
       "SelectFromModel(estimator=RandomForestClassifier(random_state=0))"
      ]
     },
     "execution_count": 101,
     "metadata": {},
     "output_type": "execute_result"
    }
   ],
   "source": [
    "sfm.fit(X_st, y_st)"
   ]
  },
  {
   "cell_type": "code",
   "execution_count": 102,
   "id": "81525881",
   "metadata": {},
   "outputs": [
    {
     "data": {
      "text/plain": [
       "array(['tenure', 'OnlineSecurity', 'TechSupport', 'Contract',\n",
       "       'MonthlyCharges', 'TotalCharges'], dtype=object)"
      ]
     },
     "execution_count": 102,
     "metadata": {},
     "output_type": "execute_result"
    }
   ],
   "source": [
    "sfm.get_feature_names_out(input_features=data.columns[0:18])"
   ]
  },
  {
   "cell_type": "markdown",
   "id": "ac948ba1",
   "metadata": {},
   "source": [
    "#### From above analysis,\n",
    "* 'tenure', 'OnlineSecurity', 'TechSupport', 'Contract', 'MonthlyCharges', and 'TotalCharges' are the important features for random forest model as per SFM method."
   ]
  },
  {
   "cell_type": "code",
   "execution_count": 103,
   "id": "3054793d",
   "metadata": {},
   "outputs": [],
   "source": [
    "#Choosing a model\n",
    "xgb1 = XGBClassifier(random_state=0)"
   ]
  },
  {
   "cell_type": "code",
   "execution_count": 104,
   "id": "850f66bd",
   "metadata": {},
   "outputs": [],
   "source": [
    "#Drawing Important features from Select from model method\n",
    "sfm = SelectFromModel(xgb1, max_features=None)"
   ]
  },
  {
   "cell_type": "code",
   "execution_count": 105,
   "id": "bea65b3f",
   "metadata": {},
   "outputs": [
    {
     "data": {
      "text/html": [
       "<style>#sk-container-id-8 {color: black;background-color: white;}#sk-container-id-8 pre{padding: 0;}#sk-container-id-8 div.sk-toggleable {background-color: white;}#sk-container-id-8 label.sk-toggleable__label {cursor: pointer;display: block;width: 100%;margin-bottom: 0;padding: 0.3em;box-sizing: border-box;text-align: center;}#sk-container-id-8 label.sk-toggleable__label-arrow:before {content: \"▸\";float: left;margin-right: 0.25em;color: #696969;}#sk-container-id-8 label.sk-toggleable__label-arrow:hover:before {color: black;}#sk-container-id-8 div.sk-estimator:hover label.sk-toggleable__label-arrow:before {color: black;}#sk-container-id-8 div.sk-toggleable__content {max-height: 0;max-width: 0;overflow: hidden;text-align: left;background-color: #f0f8ff;}#sk-container-id-8 div.sk-toggleable__content pre {margin: 0.2em;color: black;border-radius: 0.25em;background-color: #f0f8ff;}#sk-container-id-8 input.sk-toggleable__control:checked~div.sk-toggleable__content {max-height: 200px;max-width: 100%;overflow: auto;}#sk-container-id-8 input.sk-toggleable__control:checked~label.sk-toggleable__label-arrow:before {content: \"▾\";}#sk-container-id-8 div.sk-estimator input.sk-toggleable__control:checked~label.sk-toggleable__label {background-color: #d4ebff;}#sk-container-id-8 div.sk-label input.sk-toggleable__control:checked~label.sk-toggleable__label {background-color: #d4ebff;}#sk-container-id-8 input.sk-hidden--visually {border: 0;clip: rect(1px 1px 1px 1px);clip: rect(1px, 1px, 1px, 1px);height: 1px;margin: -1px;overflow: hidden;padding: 0;position: absolute;width: 1px;}#sk-container-id-8 div.sk-estimator {font-family: monospace;background-color: #f0f8ff;border: 1px dotted black;border-radius: 0.25em;box-sizing: border-box;margin-bottom: 0.5em;}#sk-container-id-8 div.sk-estimator:hover {background-color: #d4ebff;}#sk-container-id-8 div.sk-parallel-item::after {content: \"\";width: 100%;border-bottom: 1px solid gray;flex-grow: 1;}#sk-container-id-8 div.sk-label:hover label.sk-toggleable__label {background-color: #d4ebff;}#sk-container-id-8 div.sk-serial::before {content: \"\";position: absolute;border-left: 1px solid gray;box-sizing: border-box;top: 0;bottom: 0;left: 50%;z-index: 0;}#sk-container-id-8 div.sk-serial {display: flex;flex-direction: column;align-items: center;background-color: white;padding-right: 0.2em;padding-left: 0.2em;position: relative;}#sk-container-id-8 div.sk-item {position: relative;z-index: 1;}#sk-container-id-8 div.sk-parallel {display: flex;align-items: stretch;justify-content: center;background-color: white;position: relative;}#sk-container-id-8 div.sk-item::before, #sk-container-id-8 div.sk-parallel-item::before {content: \"\";position: absolute;border-left: 1px solid gray;box-sizing: border-box;top: 0;bottom: 0;left: 50%;z-index: -1;}#sk-container-id-8 div.sk-parallel-item {display: flex;flex-direction: column;z-index: 1;position: relative;background-color: white;}#sk-container-id-8 div.sk-parallel-item:first-child::after {align-self: flex-end;width: 50%;}#sk-container-id-8 div.sk-parallel-item:last-child::after {align-self: flex-start;width: 50%;}#sk-container-id-8 div.sk-parallel-item:only-child::after {width: 0;}#sk-container-id-8 div.sk-dashed-wrapped {border: 1px dashed gray;margin: 0 0.4em 0.5em 0.4em;box-sizing: border-box;padding-bottom: 0.4em;background-color: white;}#sk-container-id-8 div.sk-label label {font-family: monospace;font-weight: bold;display: inline-block;line-height: 1.2em;}#sk-container-id-8 div.sk-label-container {text-align: center;}#sk-container-id-8 div.sk-container {/* jupyter's `normalize.less` sets `[hidden] { display: none; }` but bootstrap.min.css set `[hidden] { display: none !important; }` so we also need the `!important` here to be able to override the default hidden behavior on the sphinx rendered scikit-learn.org. See: https://github.com/scikit-learn/scikit-learn/issues/21755 */display: inline-block !important;position: relative;}#sk-container-id-8 div.sk-text-repr-fallback {display: none;}</style><div id=\"sk-container-id-8\" class=\"sk-top-container\"><div class=\"sk-text-repr-fallback\"><pre>SelectFromModel(estimator=XGBClassifier(base_score=None, booster=None,\n",
       "                                        callbacks=None, colsample_bylevel=None,\n",
       "                                        colsample_bynode=None,\n",
       "                                        colsample_bytree=None,\n",
       "                                        early_stopping_rounds=None,\n",
       "                                        enable_categorical=False,\n",
       "                                        eval_metric=None, gamma=None,\n",
       "                                        gpu_id=None, grow_policy=None,\n",
       "                                        importance_type=None,\n",
       "                                        interaction_constraints=None,\n",
       "                                        learning_rate=None, max_bin=None,\n",
       "                                        max_cat_to_onehot=None,\n",
       "                                        max_delta_step=None, max_depth=None,\n",
       "                                        max_leaves=None, min_child_weight=None,\n",
       "                                        missing=nan, monotone_constraints=None,\n",
       "                                        n_estimators=100, n_jobs=None,\n",
       "                                        num_parallel_tree=None, predictor=None,\n",
       "                                        random_state=0, reg_alpha=None,\n",
       "                                        reg_lambda=None, ...))</pre><b>In a Jupyter environment, please rerun this cell to show the HTML representation or trust the notebook. <br />On GitHub, the HTML representation is unable to render, please try loading this page with nbviewer.org.</b></div><div class=\"sk-container\" hidden><div class=\"sk-item sk-dashed-wrapped\"><div class=\"sk-label-container\"><div class=\"sk-label sk-toggleable\"><input class=\"sk-toggleable__control sk-hidden--visually\" id=\"sk-estimator-id-14\" type=\"checkbox\" ><label for=\"sk-estimator-id-14\" class=\"sk-toggleable__label sk-toggleable__label-arrow\">SelectFromModel</label><div class=\"sk-toggleable__content\"><pre>SelectFromModel(estimator=XGBClassifier(base_score=None, booster=None,\n",
       "                                        callbacks=None, colsample_bylevel=None,\n",
       "                                        colsample_bynode=None,\n",
       "                                        colsample_bytree=None,\n",
       "                                        early_stopping_rounds=None,\n",
       "                                        enable_categorical=False,\n",
       "                                        eval_metric=None, gamma=None,\n",
       "                                        gpu_id=None, grow_policy=None,\n",
       "                                        importance_type=None,\n",
       "                                        interaction_constraints=None,\n",
       "                                        learning_rate=None, max_bin=None,\n",
       "                                        max_cat_to_onehot=None,\n",
       "                                        max_delta_step=None, max_depth=None,\n",
       "                                        max_leaves=None, min_child_weight=None,\n",
       "                                        missing=nan, monotone_constraints=None,\n",
       "                                        n_estimators=100, n_jobs=None,\n",
       "                                        num_parallel_tree=None, predictor=None,\n",
       "                                        random_state=0, reg_alpha=None,\n",
       "                                        reg_lambda=None, ...))</pre></div></div></div><div class=\"sk-parallel\"><div class=\"sk-parallel-item\"><div class=\"sk-item\"><div class=\"sk-label-container\"><div class=\"sk-label sk-toggleable\"><input class=\"sk-toggleable__control sk-hidden--visually\" id=\"sk-estimator-id-15\" type=\"checkbox\" ><label for=\"sk-estimator-id-15\" class=\"sk-toggleable__label sk-toggleable__label-arrow\">estimator: XGBClassifier</label><div class=\"sk-toggleable__content\"><pre>XGBClassifier(base_score=None, booster=None, callbacks=None,\n",
       "              colsample_bylevel=None, colsample_bynode=None,\n",
       "              colsample_bytree=None, early_stopping_rounds=None,\n",
       "              enable_categorical=False, eval_metric=None, gamma=None,\n",
       "              gpu_id=None, grow_policy=None, importance_type=None,\n",
       "              interaction_constraints=None, learning_rate=None, max_bin=None,\n",
       "              max_cat_to_onehot=None, max_delta_step=None, max_depth=None,\n",
       "              max_leaves=None, min_child_weight=None, missing=nan,\n",
       "              monotone_constraints=None, n_estimators=100, n_jobs=None,\n",
       "              num_parallel_tree=None, predictor=None, random_state=0,\n",
       "              reg_alpha=None, reg_lambda=None, ...)</pre></div></div></div><div class=\"sk-serial\"><div class=\"sk-item\"><div class=\"sk-estimator sk-toggleable\"><input class=\"sk-toggleable__control sk-hidden--visually\" id=\"sk-estimator-id-16\" type=\"checkbox\" ><label for=\"sk-estimator-id-16\" class=\"sk-toggleable__label sk-toggleable__label-arrow\">XGBClassifier</label><div class=\"sk-toggleable__content\"><pre>XGBClassifier(base_score=None, booster=None, callbacks=None,\n",
       "              colsample_bylevel=None, colsample_bynode=None,\n",
       "              colsample_bytree=None, early_stopping_rounds=None,\n",
       "              enable_categorical=False, eval_metric=None, gamma=None,\n",
       "              gpu_id=None, grow_policy=None, importance_type=None,\n",
       "              interaction_constraints=None, learning_rate=None, max_bin=None,\n",
       "              max_cat_to_onehot=None, max_delta_step=None, max_depth=None,\n",
       "              max_leaves=None, min_child_weight=None, missing=nan,\n",
       "              monotone_constraints=None, n_estimators=100, n_jobs=None,\n",
       "              num_parallel_tree=None, predictor=None, random_state=0,\n",
       "              reg_alpha=None, reg_lambda=None, ...)</pre></div></div></div></div></div></div></div></div></div></div>"
      ],
      "text/plain": [
       "SelectFromModel(estimator=XGBClassifier(base_score=None, booster=None,\n",
       "                                        callbacks=None, colsample_bylevel=None,\n",
       "                                        colsample_bynode=None,\n",
       "                                        colsample_bytree=None,\n",
       "                                        early_stopping_rounds=None,\n",
       "                                        enable_categorical=False,\n",
       "                                        eval_metric=None, gamma=None,\n",
       "                                        gpu_id=None, grow_policy=None,\n",
       "                                        importance_type=None,\n",
       "                                        interaction_constraints=None,\n",
       "                                        learning_rate=None, max_bin=None,\n",
       "                                        max_cat_to_onehot=None,\n",
       "                                        max_delta_step=None, max_depth=None,\n",
       "                                        max_leaves=None, min_child_weight=None,\n",
       "                                        missing=nan, monotone_constraints=None,\n",
       "                                        n_estimators=100, n_jobs=None,\n",
       "                                        num_parallel_tree=None, predictor=None,\n",
       "                                        random_state=0, reg_alpha=None,\n",
       "                                        reg_lambda=None, ...))"
      ]
     },
     "execution_count": 105,
     "metadata": {},
     "output_type": "execute_result"
    }
   ],
   "source": [
    "sfm.fit(X_st, y_st)"
   ]
  },
  {
   "cell_type": "code",
   "execution_count": 106,
   "id": "53afea4f",
   "metadata": {},
   "outputs": [
    {
     "data": {
      "text/plain": [
       "array(['InternetService', 'OnlineSecurity', 'Contract'], dtype=object)"
      ]
     },
     "execution_count": 106,
     "metadata": {},
     "output_type": "execute_result"
    }
   ],
   "source": [
    "sfm.get_feature_names_out(input_features=data.columns[0:18])"
   ]
  },
  {
   "cell_type": "markdown",
   "id": "b418ba47",
   "metadata": {},
   "source": [
    "#### From above analysis,\n",
    "* 'InternetService', 'OnlineSecurity', 'Contract' are the important features for Extreme Gradient model as per SFM method."
   ]
  },
  {
   "cell_type": "markdown",
   "id": "e3219254",
   "metadata": {},
   "source": [
    "### Note: Feature Engineering\n",
    "* We can include 9 features, collectively from from RFE, decision tree importance, correlational analysis and SFM methods.\n",
    "* Features viz 'Contract', 'InternetService', 'MultipleLines', 'TotalCharges', 'tenure', OnineBackup', 'TechSupport', 'DeviceProtection', 'PhoneService'.\n",
    "\n",
    "\n",
    "* Let's try building model based on above features & analyse the model performance & accuracy."
   ]
  },
  {
   "cell_type": "markdown",
   "id": "7a37d9d7",
   "metadata": {},
   "source": [
    "## Building Model based on 9 significant features & smote-tomek balanced sampled data"
   ]
  },
  {
   "cell_type": "code",
   "execution_count": 107,
   "id": "a8f30d87",
   "metadata": {},
   "outputs": [],
   "source": [
    "data2 = pd.DataFrame(data = X_train_st, columns = data1.columns[0:18])\n",
    "data3 = pd.DataFrame(data = X_test_st, columns = data1.columns[0:18])"
   ]
  },
  {
   "cell_type": "code",
   "execution_count": 108,
   "id": "a3eb4e6c",
   "metadata": {},
   "outputs": [],
   "source": [
    "#Selecting only 9 significant features for training\n",
    "X_train_fi = data2.loc[:, ['Contract', 'InternetService', 'MultipleLines', 'TotalCharges',\n",
    "       'tenure', 'OnlineBackup', 'TechSupport', 'DeviceProtection',\n",
    "       'PhoneService']]"
   ]
  },
  {
   "cell_type": "code",
   "execution_count": 109,
   "id": "498b3fe9",
   "metadata": {},
   "outputs": [],
   "source": [
    "#Selecting only 9 significant features for tetsing\n",
    "X_test_fi = data3.loc[:, ['Contract', 'InternetService', 'MultipleLines', 'TotalCharges',\n",
    "       'tenure', 'OnlineBackup', 'TechSupport', 'DeviceProtection',\n",
    "       'PhoneService']]"
   ]
  },
  {
   "cell_type": "code",
   "execution_count": 110,
   "id": "90c3f290",
   "metadata": {},
   "outputs": [
    {
     "data": {
      "text/plain": [
       "((6171, 9), (6171, 1))"
      ]
     },
     "execution_count": 110,
     "metadata": {},
     "output_type": "execute_result"
    }
   ],
   "source": [
    "#Size of train data\n",
    "X_train_fi.shape, y_train_st.shape"
   ]
  },
  {
   "cell_type": "code",
   "execution_count": 111,
   "id": "3fa70253",
   "metadata": {},
   "outputs": [
    {
     "data": {
      "text/plain": [
       "((3323, 9), (3323, 1))"
      ]
     },
     "execution_count": 111,
     "metadata": {},
     "output_type": "execute_result"
    }
   ],
   "source": [
    "#Size of test data\n",
    "X_test_fi.shape, y_test_st.shape"
   ]
  },
  {
   "cell_type": "code",
   "execution_count": 112,
   "id": "cd8016e1",
   "metadata": {},
   "outputs": [],
   "source": [
    "dt_mod6  = DecisionTreeClassifier(criterion='gini', max_depth=None, random_state=0)\n",
    "rf_mod6  = RandomForestClassifier(n_estimators=100, criterion='gini', max_depth=None, random_state=0)\n",
    "knn_mod6 = KNeighborsClassifier(n_neighbors=5, metric='minkowski')\n",
    "svm_mod6 = SVC(C=1.0, random_state=0)\n",
    "xgb_mod6 = XGBClassifier(n_estimators=100, random_state=0)"
   ]
  },
  {
   "cell_type": "markdown",
   "id": "605d38e6",
   "metadata": {},
   "source": [
    "### Model Training"
   ]
  },
  {
   "cell_type": "code",
   "execution_count": 113,
   "id": "619ecc2b",
   "metadata": {},
   "outputs": [
    {
     "name": "stdout",
     "output_type": "stream",
     "text": [
      "CPU times: total: 4.66 s\n",
      "Wall time: 2.67 s\n"
     ]
    },
    {
     "data": {
      "text/html": [
       "<style>#sk-container-id-9 {color: black;background-color: white;}#sk-container-id-9 pre{padding: 0;}#sk-container-id-9 div.sk-toggleable {background-color: white;}#sk-container-id-9 label.sk-toggleable__label {cursor: pointer;display: block;width: 100%;margin-bottom: 0;padding: 0.3em;box-sizing: border-box;text-align: center;}#sk-container-id-9 label.sk-toggleable__label-arrow:before {content: \"▸\";float: left;margin-right: 0.25em;color: #696969;}#sk-container-id-9 label.sk-toggleable__label-arrow:hover:before {color: black;}#sk-container-id-9 div.sk-estimator:hover label.sk-toggleable__label-arrow:before {color: black;}#sk-container-id-9 div.sk-toggleable__content {max-height: 0;max-width: 0;overflow: hidden;text-align: left;background-color: #f0f8ff;}#sk-container-id-9 div.sk-toggleable__content pre {margin: 0.2em;color: black;border-radius: 0.25em;background-color: #f0f8ff;}#sk-container-id-9 input.sk-toggleable__control:checked~div.sk-toggleable__content {max-height: 200px;max-width: 100%;overflow: auto;}#sk-container-id-9 input.sk-toggleable__control:checked~label.sk-toggleable__label-arrow:before {content: \"▾\";}#sk-container-id-9 div.sk-estimator input.sk-toggleable__control:checked~label.sk-toggleable__label {background-color: #d4ebff;}#sk-container-id-9 div.sk-label input.sk-toggleable__control:checked~label.sk-toggleable__label {background-color: #d4ebff;}#sk-container-id-9 input.sk-hidden--visually {border: 0;clip: rect(1px 1px 1px 1px);clip: rect(1px, 1px, 1px, 1px);height: 1px;margin: -1px;overflow: hidden;padding: 0;position: absolute;width: 1px;}#sk-container-id-9 div.sk-estimator {font-family: monospace;background-color: #f0f8ff;border: 1px dotted black;border-radius: 0.25em;box-sizing: border-box;margin-bottom: 0.5em;}#sk-container-id-9 div.sk-estimator:hover {background-color: #d4ebff;}#sk-container-id-9 div.sk-parallel-item::after {content: \"\";width: 100%;border-bottom: 1px solid gray;flex-grow: 1;}#sk-container-id-9 div.sk-label:hover label.sk-toggleable__label {background-color: #d4ebff;}#sk-container-id-9 div.sk-serial::before {content: \"\";position: absolute;border-left: 1px solid gray;box-sizing: border-box;top: 0;bottom: 0;left: 50%;z-index: 0;}#sk-container-id-9 div.sk-serial {display: flex;flex-direction: column;align-items: center;background-color: white;padding-right: 0.2em;padding-left: 0.2em;position: relative;}#sk-container-id-9 div.sk-item {position: relative;z-index: 1;}#sk-container-id-9 div.sk-parallel {display: flex;align-items: stretch;justify-content: center;background-color: white;position: relative;}#sk-container-id-9 div.sk-item::before, #sk-container-id-9 div.sk-parallel-item::before {content: \"\";position: absolute;border-left: 1px solid gray;box-sizing: border-box;top: 0;bottom: 0;left: 50%;z-index: -1;}#sk-container-id-9 div.sk-parallel-item {display: flex;flex-direction: column;z-index: 1;position: relative;background-color: white;}#sk-container-id-9 div.sk-parallel-item:first-child::after {align-self: flex-end;width: 50%;}#sk-container-id-9 div.sk-parallel-item:last-child::after {align-self: flex-start;width: 50%;}#sk-container-id-9 div.sk-parallel-item:only-child::after {width: 0;}#sk-container-id-9 div.sk-dashed-wrapped {border: 1px dashed gray;margin: 0 0.4em 0.5em 0.4em;box-sizing: border-box;padding-bottom: 0.4em;background-color: white;}#sk-container-id-9 div.sk-label label {font-family: monospace;font-weight: bold;display: inline-block;line-height: 1.2em;}#sk-container-id-9 div.sk-label-container {text-align: center;}#sk-container-id-9 div.sk-container {/* jupyter's `normalize.less` sets `[hidden] { display: none; }` but bootstrap.min.css set `[hidden] { display: none !important; }` so we also need the `!important` here to be able to override the default hidden behavior on the sphinx rendered scikit-learn.org. See: https://github.com/scikit-learn/scikit-learn/issues/21755 */display: inline-block !important;position: relative;}#sk-container-id-9 div.sk-text-repr-fallback {display: none;}</style><div id=\"sk-container-id-9\" class=\"sk-top-container\"><div class=\"sk-text-repr-fallback\"><pre>XGBClassifier(base_score=0.5, booster=&#x27;gbtree&#x27;, callbacks=None,\n",
       "              colsample_bylevel=1, colsample_bynode=1, colsample_bytree=1,\n",
       "              early_stopping_rounds=None, enable_categorical=False,\n",
       "              eval_metric=None, gamma=0, gpu_id=-1, grow_policy=&#x27;depthwise&#x27;,\n",
       "              importance_type=None, interaction_constraints=&#x27;&#x27;,\n",
       "              learning_rate=0.300000012, max_bin=256, max_cat_to_onehot=4,\n",
       "              max_delta_step=0, max_depth=6, max_leaves=0, min_child_weight=1,\n",
       "              missing=nan, monotone_constraints=&#x27;()&#x27;, n_estimators=100,\n",
       "              n_jobs=0, num_parallel_tree=1, predictor=&#x27;auto&#x27;, random_state=0,\n",
       "              reg_alpha=0, reg_lambda=1, ...)</pre><b>In a Jupyter environment, please rerun this cell to show the HTML representation or trust the notebook. <br />On GitHub, the HTML representation is unable to render, please try loading this page with nbviewer.org.</b></div><div class=\"sk-container\" hidden><div class=\"sk-item\"><div class=\"sk-estimator sk-toggleable\"><input class=\"sk-toggleable__control sk-hidden--visually\" id=\"sk-estimator-id-17\" type=\"checkbox\" checked><label for=\"sk-estimator-id-17\" class=\"sk-toggleable__label sk-toggleable__label-arrow\">XGBClassifier</label><div class=\"sk-toggleable__content\"><pre>XGBClassifier(base_score=0.5, booster=&#x27;gbtree&#x27;, callbacks=None,\n",
       "              colsample_bylevel=1, colsample_bynode=1, colsample_bytree=1,\n",
       "              early_stopping_rounds=None, enable_categorical=False,\n",
       "              eval_metric=None, gamma=0, gpu_id=-1, grow_policy=&#x27;depthwise&#x27;,\n",
       "              importance_type=None, interaction_constraints=&#x27;&#x27;,\n",
       "              learning_rate=0.300000012, max_bin=256, max_cat_to_onehot=4,\n",
       "              max_delta_step=0, max_depth=6, max_leaves=0, min_child_weight=1,\n",
       "              missing=nan, monotone_constraints=&#x27;()&#x27;, n_estimators=100,\n",
       "              n_jobs=0, num_parallel_tree=1, predictor=&#x27;auto&#x27;, random_state=0,\n",
       "              reg_alpha=0, reg_lambda=1, ...)</pre></div></div></div></div></div>"
      ],
      "text/plain": [
       "XGBClassifier(base_score=0.5, booster='gbtree', callbacks=None,\n",
       "              colsample_bylevel=1, colsample_bynode=1, colsample_bytree=1,\n",
       "              early_stopping_rounds=None, enable_categorical=False,\n",
       "              eval_metric=None, gamma=0, gpu_id=-1, grow_policy='depthwise',\n",
       "              importance_type=None, interaction_constraints='',\n",
       "              learning_rate=0.300000012, max_bin=256, max_cat_to_onehot=4,\n",
       "              max_delta_step=0, max_depth=6, max_leaves=0, min_child_weight=1,\n",
       "              missing=nan, monotone_constraints='()', n_estimators=100,\n",
       "              n_jobs=0, num_parallel_tree=1, predictor='auto', random_state=0,\n",
       "              reg_alpha=0, reg_lambda=1, ...)"
      ]
     },
     "execution_count": 113,
     "metadata": {},
     "output_type": "execute_result"
    }
   ],
   "source": [
    "%%time\n",
    "dt_mod6.fit(X_train_fi, y_train_st)\n",
    "rf_mod6.fit(X_train_fi, y_train_st)\n",
    "knn_mod6.fit(X_train_fi, y_train_st)\n",
    "svm_mod6.fit(X_train_fi, y_train_st)\n",
    "xgb_mod6.fit(X_train_fi, y_train_st)"
   ]
  },
  {
   "cell_type": "markdown",
   "id": "e299b5a2",
   "metadata": {},
   "source": [
    "### Model Testing & Evaluation"
   ]
  },
  {
   "cell_type": "code",
   "execution_count": 114,
   "id": "bc30222d",
   "metadata": {},
   "outputs": [
    {
     "name": "stdout",
     "output_type": "stream",
     "text": [
      "CPU times: total: 2.16 s\n",
      "Wall time: 1.91 s\n"
     ]
    }
   ],
   "source": [
    "%%time\n",
    "y_pred_dt6  = dt_mod6.predict(X_test_fi)\n",
    "y_pred_rf6  = rf_mod6.predict(X_test_fi)\n",
    "y_pred_knn6 = knn_mod6.predict(X_test_fi)\n",
    "y_pred_svm6 = svm_mod6.predict(X_test_fi)\n",
    "y_pred_xgb6 = xgb_mod6.predict(X_test_fi)"
   ]
  },
  {
   "cell_type": "code",
   "execution_count": 115,
   "id": "e09ba662",
   "metadata": {
    "scrolled": false
   },
   "outputs": [
    {
     "name": "stdout",
     "output_type": "stream",
     "text": [
      "ROC-AUC score for all models\n",
      "\n",
      "====================================\n",
      "Decision Tree : 0.8\n",
      "==================================== \n",
      "\n",
      "\n",
      "====================================\n",
      "Random Forest : 0.84\n",
      "==================================== \n",
      "\n",
      "\n",
      "====================================\n",
      "KNN : 0.79\n",
      "==================================== \n",
      "\n",
      "\n",
      "====================================\n",
      "SVM : 0.63\n",
      "==================================== \n",
      "\n",
      "\n",
      "====================================\n",
      "XGB : 0.85\n",
      "==================================== \n",
      "\n"
     ]
    }
   ],
   "source": [
    "#Testing the roc-auc score for all models\n",
    "cc = [y_pred_dt6, y_pred_rf6, y_pred_knn6, y_pred_svm6, y_pred_xgb6]\n",
    "mm = ['Decision Tree', 'Random Forest', 'KNN', 'SVM', 'XGB']\n",
    "\n",
    "print('ROC-AUC score for all models')\n",
    "\n",
    "for i,j in zip(cc, mm):\n",
    "    print('\\n====================================')\n",
    "    print(j, ':', roc_auc_score(y_test_st, i).round(2))\n",
    "    print('====================================', '\\n')"
   ]
  },
  {
   "cell_type": "code",
   "execution_count": 116,
   "id": "1689ba90",
   "metadata": {
    "scrolled": false
   },
   "outputs": [
    {
     "name": "stdout",
     "output_type": "stream",
     "text": [
      "Confusion Matrix for all models\n",
      "\n",
      " ======================================== \n",
      "\n",
      "Decision Tree\n"
     ]
    },
    {
     "data": {
      "image/png": "[encoded data removed]",
      "text/plain": [
       "<Figure size 432x288 with 2 Axes>"
      ]
     },
     "metadata": {
      "needs_background": "light"
     },
     "output_type": "display_data"
    },
    {
     "name": "stdout",
     "output_type": "stream",
     "text": [
      "\n",
      " ======================================== \n",
      "\n",
      "Random Forest\n"
     ]
    },
    {
     "data": {
      "image/png": "[encoded data removed]",
      "text/plain": [
       "<Figure size 432x288 with 2 Axes>"
      ]
     },
     "metadata": {
      "needs_background": "light"
     },
     "output_type": "display_data"
    },
    {
     "name": "stdout",
     "output_type": "stream",
     "text": [
      "\n",
      " ======================================== \n",
      "\n",
      "KNN\n"
     ]
    },
    {
     "data": {
      "image/png": "[encoded data removed]",
      "text/plain": [
       "<Figure size 432x288 with 2 Axes>"
      ]
     },
     "metadata": {
      "needs_background": "light"
     },
     "output_type": "display_data"
    },
    {
     "name": "stdout",
     "output_type": "stream",
     "text": [
      "\n",
      " ======================================== \n",
      "\n",
      "SVM\n"
     ]
    },
    {
     "data": {
      "image/png": "[encoded data removed]",
      "text/plain": [
       "<Figure size 432x288 with 2 Axes>"
      ]
     },
     "metadata": {
      "needs_background": "light"
     },
     "output_type": "display_data"
    },
    {
     "name": "stdout",
     "output_type": "stream",
     "text": [
      "\n",
      " ======================================== \n",
      "\n",
      "XGB\n"
     ]
    },
    {
     "data": {
      "image/png": "[encoded data removed]",
      "text/plain": [
       "<Figure size 432x288 with 2 Axes>"
      ]
     },
     "metadata": {
      "needs_background": "light"
     },
     "output_type": "display_data"
    }
   ],
   "source": [
    "#Plotting Confusion Matrix for all models\n",
    "mm = ['Decision Tree', 'Random Forest', 'KNN', 'SVM', 'XGB']\n",
    "dd = [dt_mod6, rf_mod6, knn_mod6, svm_mod6, xgb_mod6]\n",
    "\n",
    "print('Confusion Matrix for all models')\n",
    "\n",
    "for i,j in zip(dd, mm):\n",
    "    print('\\n','========================================', '\\n')\n",
    "    print(j)\n",
    "    plot_confusion_matrix(i, X_test_fi, y_test_st, display_labels= ['Not Churn', 'Churn'])   \n",
    "    plt.show()"
   ]
  },
  {
   "cell_type": "code",
   "execution_count": 117,
   "id": "593a4f53",
   "metadata": {
    "scrolled": false
   },
   "outputs": [
    {
     "name": "stdout",
     "output_type": "stream",
     "text": [
      "======================================================\n",
      "Decision Tree \n",
      "               precision    recall  f1-score   support\n",
      "\n",
      "           0       0.81      0.79      0.80      1662\n",
      "           1       0.79      0.82      0.81      1661\n",
      "\n",
      "    accuracy                           0.80      3323\n",
      "   macro avg       0.80      0.80      0.80      3323\n",
      "weighted avg       0.80      0.80      0.80      3323\n",
      "\n",
      "====================================================== \n",
      "\n",
      "======================================================\n",
      "Random Forest \n",
      "               precision    recall  f1-score   support\n",
      "\n",
      "           0       0.84      0.84      0.84      1662\n",
      "           1       0.84      0.84      0.84      1661\n",
      "\n",
      "    accuracy                           0.84      3323\n",
      "   macro avg       0.84      0.84      0.84      3323\n",
      "weighted avg       0.84      0.84      0.84      3323\n",
      "\n",
      "====================================================== \n",
      "\n",
      "======================================================\n",
      "KNN \n",
      "               precision    recall  f1-score   support\n",
      "\n",
      "           0       0.83      0.72      0.77      1662\n",
      "           1       0.75      0.86      0.80      1661\n",
      "\n",
      "    accuracy                           0.79      3323\n",
      "   macro avg       0.79      0.79      0.78      3323\n",
      "weighted avg       0.79      0.79      0.78      3323\n",
      "\n",
      "====================================================== \n",
      "\n",
      "======================================================\n",
      "SVM \n",
      "               precision    recall  f1-score   support\n",
      "\n",
      "           0       0.62      0.69      0.65      1662\n",
      "           1       0.65      0.57      0.61      1661\n",
      "\n",
      "    accuracy                           0.63      3323\n",
      "   macro avg       0.63      0.63      0.63      3323\n",
      "weighted avg       0.63      0.63      0.63      3323\n",
      "\n",
      "====================================================== \n",
      "\n",
      "======================================================\n",
      "XGB \n",
      "               precision    recall  f1-score   support\n",
      "\n",
      "           0       0.86      0.83      0.84      1662\n",
      "           1       0.84      0.86      0.85      1661\n",
      "\n",
      "    accuracy                           0.85      3323\n",
      "   macro avg       0.85      0.85      0.85      3323\n",
      "weighted avg       0.85      0.85      0.85      3323\n",
      "\n",
      "====================================================== \n",
      "\n"
     ]
    }
   ],
   "source": [
    "#Classification Report for all models\n",
    "cc = [y_pred_dt6, y_pred_rf6, y_pred_knn6, y_pred_svm6, y_pred_xgb6]\n",
    "mm = ['Decision Tree', 'Random Forest', 'KNN', 'SVM', 'XGB']\n",
    "\n",
    "for i,j in zip(cc, mm):\n",
    "    print('======================================================')\n",
    "    print(j, '\\n', classification_report(y_test_st, i))\n",
    "    print('======================================================', '\\n')"
   ]
  },
  {
   "cell_type": "code",
   "execution_count": 118,
   "id": "e20339f8",
   "metadata": {},
   "outputs": [
    {
     "data": {
      "text/html": [
       "<div>\n",
       "<style scoped>\n",
       "    .dataframe tbody tr th:only-of-type {\n",
       "        vertical-align: middle;\n",
       "    }\n",
       "\n",
       "    .dataframe tbody tr th {\n",
       "        vertical-align: top;\n",
       "    }\n",
       "\n",
       "    .dataframe thead th {\n",
       "        text-align: right;\n",
       "    }\n",
       "</style>\n",
       "<table border=\"1\" class=\"dataframe\">\n",
       "  <thead>\n",
       "    <tr style=\"text-align: right;\">\n",
       "      <th></th>\n",
       "      <th>All 18 Feat.</th>\n",
       "      <th>10 Feat.</th>\n",
       "      <th>%Change in Accuracy</th>\n",
       "    </tr>\n",
       "  </thead>\n",
       "  <tbody>\n",
       "    <tr>\n",
       "      <th>XGB</th>\n",
       "      <td>0.8432</td>\n",
       "      <td>0.8468</td>\n",
       "      <td>0.0036</td>\n",
       "    </tr>\n",
       "    <tr>\n",
       "      <th>Random Forest</th>\n",
       "      <td>0.8534</td>\n",
       "      <td>0.8372</td>\n",
       "      <td>-0.0162</td>\n",
       "    </tr>\n",
       "    <tr>\n",
       "      <th>Decision Tree</th>\n",
       "      <td>0.7933</td>\n",
       "      <td>0.8023</td>\n",
       "      <td>0.0090</td>\n",
       "    </tr>\n",
       "    <tr>\n",
       "      <th>KNN</th>\n",
       "      <td>0.7981</td>\n",
       "      <td>0.7861</td>\n",
       "      <td>-0.0120</td>\n",
       "    </tr>\n",
       "    <tr>\n",
       "      <th>SVM</th>\n",
       "      <td>0.6714</td>\n",
       "      <td>0.6307</td>\n",
       "      <td>-0.0407</td>\n",
       "    </tr>\n",
       "  </tbody>\n",
       "</table>\n",
       "</div>"
      ],
      "text/plain": [
       "               All 18 Feat.  10 Feat.  %Change in Accuracy\n",
       "XGB                  0.8432    0.8468               0.0036\n",
       "Random Forest        0.8534    0.8372              -0.0162\n",
       "Decision Tree        0.7933    0.8023               0.0090\n",
       "KNN                  0.7981    0.7861              -0.0120\n",
       "SVM                  0.6714    0.6307              -0.0407"
      ]
     },
     "execution_count": 118,
     "metadata": {},
     "output_type": "execute_result"
    }
   ],
   "source": [
    "#Comparing the models imbalance & model smote_balance data with balanced accuracy score\n",
    "mod_comp = pd.DataFrame(index=mm, columns=['All 18 Feat.', '10 Feat.'], data={'All 18 Feat.': [balanced_accuracy_score(y_test_st ,y_pred_dt4).round(4), balanced_accuracy_score(y_test_st ,y_pred_rf4).round(4), balanced_accuracy_score(y_test_st ,y_pred_knn4).round(4), balanced_accuracy_score(y_test_st ,y_pred_svm4).round(4), balanced_accuracy_score(y_test_st ,y_pred_xgb4).round(4)], \n",
    "                                                                      '10 Feat.': [balanced_accuracy_score(y_test_st ,y_pred_dt6).round(4), balanced_accuracy_score(y_test_st ,y_pred_rf6).round(4), balanced_accuracy_score(y_test_st ,y_pred_knn6).round(4), balanced_accuracy_score(y_test_st ,y_pred_svm6).round(4), balanced_accuracy_score(y_test_st ,y_pred_xgb6).round(4)]\n",
    "                                                                       })\n",
    "mod_comp['%Change in Accuracy'] = mod_comp['10 Feat.'] - mod_comp['All 18 Feat.']\n",
    "\n",
    "mod_comp.sort_values(by = '10 Feat.', ascending = False)"
   ]
  },
  {
   "cell_type": "markdown",
   "id": "49b04080",
   "metadata": {},
   "source": [
    "#### From above analysis,\n",
    "* We can finalise Extreme Gradient boost model for our dataset Churn prediction. It has really done a good job in minimising the minority class (False negatives in our case) & improved a lot on recall score as well.\n",
    "* We will try to further enhance the performance with the help of hyper-parameter tuning for our model. "
   ]
  },
  {
   "cell_type": "markdown",
   "id": "73368fb7",
   "metadata": {},
   "source": [
    "### Hyper-Parameter Tuning"
   ]
  },
  {
   "cell_type": "code",
   "execution_count": 119,
   "id": "a93ccf64",
   "metadata": {},
   "outputs": [],
   "source": [
    "Xx = pd.concat([X_train_fi, X_test_fi])"
   ]
  },
  {
   "cell_type": "code",
   "execution_count": 120,
   "id": "e7256898",
   "metadata": {},
   "outputs": [
    {
     "data": {
      "text/plain": [
       "(9494, 9)"
      ]
     },
     "execution_count": 120,
     "metadata": {},
     "output_type": "execute_result"
    }
   ],
   "source": [
    "Xx.shape"
   ]
  },
  {
   "cell_type": "code",
   "execution_count": 121,
   "id": "ec17bed7",
   "metadata": {},
   "outputs": [
    {
     "data": {
      "text/html": [
       "<style>#sk-container-id-10 {color: black;background-color: white;}#sk-container-id-10 pre{padding: 0;}#sk-container-id-10 div.sk-toggleable {background-color: white;}#sk-container-id-10 label.sk-toggleable__label {cursor: pointer;display: block;width: 100%;margin-bottom: 0;padding: 0.3em;box-sizing: border-box;text-align: center;}#sk-container-id-10 label.sk-toggleable__label-arrow:before {content: \"▸\";float: left;margin-right: 0.25em;color: #696969;}#sk-container-id-10 label.sk-toggleable__label-arrow:hover:before {color: black;}#sk-container-id-10 div.sk-estimator:hover label.sk-toggleable__label-arrow:before {color: black;}#sk-container-id-10 div.sk-toggleable__content {max-height: 0;max-width: 0;overflow: hidden;text-align: left;background-color: #f0f8ff;}#sk-container-id-10 div.sk-toggleable__content pre {margin: 0.2em;color: black;border-radius: 0.25em;background-color: #f0f8ff;}#sk-container-id-10 input.sk-toggleable__control:checked~div.sk-toggleable__content {max-height: 200px;max-width: 100%;overflow: auto;}#sk-container-id-10 input.sk-toggleable__control:checked~label.sk-toggleable__label-arrow:before {content: \"▾\";}#sk-container-id-10 div.sk-estimator input.sk-toggleable__control:checked~label.sk-toggleable__label {background-color: #d4ebff;}#sk-container-id-10 div.sk-label input.sk-toggleable__control:checked~label.sk-toggleable__label {background-color: #d4ebff;}#sk-container-id-10 input.sk-hidden--visually {border: 0;clip: rect(1px 1px 1px 1px);clip: rect(1px, 1px, 1px, 1px);height: 1px;margin: -1px;overflow: hidden;padding: 0;position: absolute;width: 1px;}#sk-container-id-10 div.sk-estimator {font-family: monospace;background-color: #f0f8ff;border: 1px dotted black;border-radius: 0.25em;box-sizing: border-box;margin-bottom: 0.5em;}#sk-container-id-10 div.sk-estimator:hover {background-color: #d4ebff;}#sk-container-id-10 div.sk-parallel-item::after {content: \"\";width: 100%;border-bottom: 1px solid gray;flex-grow: 1;}#sk-container-id-10 div.sk-label:hover label.sk-toggleable__label {background-color: #d4ebff;}#sk-container-id-10 div.sk-serial::before {content: \"\";position: absolute;border-left: 1px solid gray;box-sizing: border-box;top: 0;bottom: 0;left: 50%;z-index: 0;}#sk-container-id-10 div.sk-serial {display: flex;flex-direction: column;align-items: center;background-color: white;padding-right: 0.2em;padding-left: 0.2em;position: relative;}#sk-container-id-10 div.sk-item {position: relative;z-index: 1;}#sk-container-id-10 div.sk-parallel {display: flex;align-items: stretch;justify-content: center;background-color: white;position: relative;}#sk-container-id-10 div.sk-item::before, #sk-container-id-10 div.sk-parallel-item::before {content: \"\";position: absolute;border-left: 1px solid gray;box-sizing: border-box;top: 0;bottom: 0;left: 50%;z-index: -1;}#sk-container-id-10 div.sk-parallel-item {display: flex;flex-direction: column;z-index: 1;position: relative;background-color: white;}#sk-container-id-10 div.sk-parallel-item:first-child::after {align-self: flex-end;width: 50%;}#sk-container-id-10 div.sk-parallel-item:last-child::after {align-self: flex-start;width: 50%;}#sk-container-id-10 div.sk-parallel-item:only-child::after {width: 0;}#sk-container-id-10 div.sk-dashed-wrapped {border: 1px dashed gray;margin: 0 0.4em 0.5em 0.4em;box-sizing: border-box;padding-bottom: 0.4em;background-color: white;}#sk-container-id-10 div.sk-label label {font-family: monospace;font-weight: bold;display: inline-block;line-height: 1.2em;}#sk-container-id-10 div.sk-label-container {text-align: center;}#sk-container-id-10 div.sk-container {/* jupyter's `normalize.less` sets `[hidden] { display: none; }` but bootstrap.min.css set `[hidden] { display: none !important; }` so we also need the `!important` here to be able to override the default hidden behavior on the sphinx rendered scikit-learn.org. See: https://github.com/scikit-learn/scikit-learn/issues/21755 */display: inline-block !important;position: relative;}#sk-container-id-10 div.sk-text-repr-fallback {display: none;}</style><div id=\"sk-container-id-10\" class=\"sk-top-container\"><div class=\"sk-text-repr-fallback\"><pre>XGBClassifier(base_score=None, booster=None, callbacks=None,\n",
       "              colsample_bylevel=None, colsample_bynode=None,\n",
       "              colsample_bytree=None, early_stopping_rounds=None,\n",
       "              enable_categorical=False, eval_metric=None, gamma=None,\n",
       "              gpu_id=None, grow_policy=None, importance_type=None,\n",
       "              interaction_constraints=None, learning_rate=None, max_bin=None,\n",
       "              max_cat_to_onehot=None, max_delta_step=None, max_depth=None,\n",
       "              max_leaves=None, min_child_weight=None, missing=nan,\n",
       "              monotone_constraints=None, n_estimators=100, n_jobs=None,\n",
       "              num_parallel_tree=None, predictor=None, random_state=0,\n",
       "              reg_alpha=None, reg_lambda=None, ...)</pre><b>In a Jupyter environment, please rerun this cell to show the HTML representation or trust the notebook. <br />On GitHub, the HTML representation is unable to render, please try loading this page with nbviewer.org.</b></div><div class=\"sk-container\" hidden><div class=\"sk-item\"><div class=\"sk-estimator sk-toggleable\"><input class=\"sk-toggleable__control sk-hidden--visually\" id=\"sk-estimator-id-18\" type=\"checkbox\" checked><label for=\"sk-estimator-id-18\" class=\"sk-toggleable__label sk-toggleable__label-arrow\">XGBClassifier</label><div class=\"sk-toggleable__content\"><pre>XGBClassifier(base_score=None, booster=None, callbacks=None,\n",
       "              colsample_bylevel=None, colsample_bynode=None,\n",
       "              colsample_bytree=None, early_stopping_rounds=None,\n",
       "              enable_categorical=False, eval_metric=None, gamma=None,\n",
       "              gpu_id=None, grow_policy=None, importance_type=None,\n",
       "              interaction_constraints=None, learning_rate=None, max_bin=None,\n",
       "              max_cat_to_onehot=None, max_delta_step=None, max_depth=None,\n",
       "              max_leaves=None, min_child_weight=None, missing=nan,\n",
       "              monotone_constraints=None, n_estimators=100, n_jobs=None,\n",
       "              num_parallel_tree=None, predictor=None, random_state=0,\n",
       "              reg_alpha=None, reg_lambda=None, ...)</pre></div></div></div></div></div>"
      ],
      "text/plain": [
       "XGBClassifier(base_score=None, booster=None, callbacks=None,\n",
       "              colsample_bylevel=None, colsample_bynode=None,\n",
       "              colsample_bytree=None, early_stopping_rounds=None,\n",
       "              enable_categorical=False, eval_metric=None, gamma=None,\n",
       "              gpu_id=None, grow_policy=None, importance_type=None,\n",
       "              interaction_constraints=None, learning_rate=None, max_bin=None,\n",
       "              max_cat_to_onehot=None, max_delta_step=None, max_depth=None,\n",
       "              max_leaves=None, min_child_weight=None, missing=nan,\n",
       "              monotone_constraints=None, n_estimators=100, n_jobs=None,\n",
       "              num_parallel_tree=None, predictor=None, random_state=0,\n",
       "              reg_alpha=None, reg_lambda=None, ...)"
      ]
     },
     "execution_count": 121,
     "metadata": {},
     "output_type": "execute_result"
    }
   ],
   "source": [
    "XGBClassifier(random_state=0)"
   ]
  },
  {
   "cell_type": "code",
   "execution_count": 122,
   "id": "1e4f6ddb",
   "metadata": {},
   "outputs": [
    {
     "name": "stdout",
     "output_type": "stream",
     "text": [
      "{'scale_pos_weight': 1, 'n_estimators': 200, 'max_depth': 8, 'learning_rate': 0.1, 'colsample_bylevel': 0.9, 'base_score': 0.75}\n",
      "\n",
      " 0.8548899118185348 \n",
      "\n",
      "CPU times: total: 12.9 s\n",
      "Wall time: 1min 48s\n"
     ]
    }
   ],
   "source": [
    "%%time\n",
    "\n",
    "ml = XGBClassifier(random_state=0)\n",
    "\n",
    "\n",
    "params = {'n_estimators'      : [125, 150, 175, 200], \n",
    "          'max_depth'         : [5, 8, 9, 12],\n",
    "          'learning_rate'     : [0.001, 0.01, 0.1, 0.2],\n",
    "          'scale_pos_weight'  : [1, 99, 100],\n",
    "          'colsample_bylevel' : [0.5, 0.8, 0.9],\n",
    "          'base_score'        : [0.25, 0.5, 0.75]}\n",
    "\n",
    "\n",
    "\n",
    "rr = RandomizedSearchCV(estimator=ml, n_iter=15, random_state=0, n_jobs=-1, cv=10, \n",
    "                        param_distributions=params)\n",
    "\n",
    "\n",
    "rr.fit(X_st, y_st)\n",
    "\n",
    "\n",
    "print(rr.best_params_)\n",
    "print('\\n',rr.best_score_,'\\n')"
   ]
  },
  {
   "cell_type": "markdown",
   "id": "2ff7ab5b",
   "metadata": {},
   "source": [
    "#### The above score & parameters is the best performance/score of our model after tuning the hyper-parameters."
   ]
  },
  {
   "cell_type": "markdown",
   "id": "cef949b2",
   "metadata": {},
   "source": [
    "## Summarizing the model performance & stability"
   ]
  },
  {
   "cell_type": "code",
   "execution_count": 123,
   "id": "41e0bb00",
   "metadata": {},
   "outputs": [],
   "source": [
    "X_md = pd.concat([X_train_fi, X_test_fi])"
   ]
  },
  {
   "cell_type": "code",
   "execution_count": 124,
   "id": "4d626268",
   "metadata": {},
   "outputs": [],
   "source": [
    "y_md = pd.concat([y_train_st, y_test_st])"
   ]
  },
  {
   "cell_type": "code",
   "execution_count": 125,
   "id": "5b603299",
   "metadata": {},
   "outputs": [],
   "source": [
    "sk_mod = StratifiedKFold(n_splits=20, shuffle=True, random_state=0)"
   ]
  },
  {
   "cell_type": "code",
   "execution_count": 126,
   "id": "48cace79",
   "metadata": {},
   "outputs": [],
   "source": [
    "xgb2 = XGBClassifier(scale_pos_weight= 1, n_estimators= 200, max_depth= 8, learning_rate= 0.1,\n",
    "                     colsample_bylevel= 0.9, base_score= 0.75)"
   ]
  },
  {
   "cell_type": "code",
   "execution_count": 127,
   "id": "a4db0d29",
   "metadata": {},
   "outputs": [
    {
     "name": "stdout",
     "output_type": "stream",
     "text": [
      "CPU times: total: 172 ms\n",
      "Wall time: 10.6 s\n"
     ]
    },
    {
     "data": {
      "text/plain": [
       "array([0.86105263, 0.86315789, 0.86947368, 0.87578947, 0.85684211,\n",
       "       0.83789474, 0.86526316, 0.88210526, 0.83157895, 0.83789474,\n",
       "       0.82947368, 0.85684211, 0.83578947, 0.85473684, 0.8649789 ,\n",
       "       0.82911392, 0.82489451, 0.88396624, 0.85443038, 0.8649789 ])"
      ]
     },
     "execution_count": 127,
     "metadata": {},
     "output_type": "execute_result"
    }
   ],
   "source": [
    "%%time\n",
    "score = cross_val_score(xgb2, X_md, y_md, cv=sk_mod, n_jobs=-1)\n",
    "score"
   ]
  },
  {
   "cell_type": "code",
   "execution_count": 128,
   "id": "dbef695e",
   "metadata": {},
   "outputs": [
    {
     "data": {
      "text/plain": [
       "0.85"
      ]
     },
     "execution_count": 128,
     "metadata": {},
     "output_type": "execute_result"
    }
   ],
   "source": [
    "score.mean().round(2)"
   ]
  },
  {
   "cell_type": "code",
   "execution_count": 129,
   "id": "d9692a50",
   "metadata": {},
   "outputs": [
    {
     "data": {
      "text/plain": [
       "0.02"
      ]
     },
     "execution_count": 129,
     "metadata": {},
     "output_type": "execute_result"
    }
   ],
   "source": [
    "score.std().round(2)"
   ]
  },
  {
   "cell_type": "markdown",
   "id": "cdd8a66c",
   "metadata": {},
   "source": [
    "#### Note:\n",
    "* So, to summarize our model performance & stability we performed Stratified K-Fold on our data.\n",
    "* It is found that our model can give an average score of 85% with standard deviation of 2%. "
   ]
  },
  {
   "cell_type": "markdown",
   "id": "20c53eb7",
   "metadata": {},
   "source": [
    "## Making Pipeline"
   ]
  },
  {
   "cell_type": "markdown",
   "id": "afe2e4fe",
   "metadata": {},
   "source": [
    "### Building Pipeline for model"
   ]
  },
  {
   "cell_type": "code",
   "execution_count": 130,
   "id": "1d21f9c3",
   "metadata": {},
   "outputs": [
    {
     "data": {
      "text/plain": [
       "Index(['Contract', 'InternetService', 'MultipleLines', 'TotalCharges',\n",
       "       'tenure', 'OnlineBackup', 'TechSupport', 'DeviceProtection',\n",
       "       'PhoneService'],\n",
       "      dtype='object')"
      ]
     },
     "execution_count": 130,
     "metadata": {},
     "output_type": "execute_result"
    }
   ],
   "source": [
    "#Selecting the significant features\n",
    "X_train_fi.columns"
   ]
  },
  {
   "cell_type": "code",
   "execution_count": 131,
   "id": "3b66a309",
   "metadata": {},
   "outputs": [],
   "source": [
    "#Using the mapper to perform specific transformer to the features\n",
    "m = DataFrameMapper([(['Contract', LabelEncoder()]), (['InternetService', LabelEncoder()]), (['MultipleLines', LabelEncoder()]),\n",
    "                     (['TotalCharges', None]), (['tenure', None]), (['OnlineBackup', LabelEncoder()]),\n",
    "                     (['TechSupport', LabelEncoder()]), (['DeviceProtection', LabelEncoder()]),\n",
    "                     (['PhoneService', LabelEncoder()])])"
   ]
  },
  {
   "cell_type": "code",
   "execution_count": 132,
   "id": "e2a5d796",
   "metadata": {},
   "outputs": [
    {
     "data": {
      "text/html": [
       "<style>#sk-container-id-11 {color: black;background-color: white;}#sk-container-id-11 pre{padding: 0;}#sk-container-id-11 div.sk-toggleable {background-color: white;}#sk-container-id-11 label.sk-toggleable__label {cursor: pointer;display: block;width: 100%;margin-bottom: 0;padding: 0.3em;box-sizing: border-box;text-align: center;}#sk-container-id-11 label.sk-toggleable__label-arrow:before {content: \"▸\";float: left;margin-right: 0.25em;color: #696969;}#sk-container-id-11 label.sk-toggleable__label-arrow:hover:before {color: black;}#sk-container-id-11 div.sk-estimator:hover label.sk-toggleable__label-arrow:before {color: black;}#sk-container-id-11 div.sk-toggleable__content {max-height: 0;max-width: 0;overflow: hidden;text-align: left;background-color: #f0f8ff;}#sk-container-id-11 div.sk-toggleable__content pre {margin: 0.2em;color: black;border-radius: 0.25em;background-color: #f0f8ff;}#sk-container-id-11 input.sk-toggleable__control:checked~div.sk-toggleable__content {max-height: 200px;max-width: 100%;overflow: auto;}#sk-container-id-11 input.sk-toggleable__control:checked~label.sk-toggleable__label-arrow:before {content: \"▾\";}#sk-container-id-11 div.sk-estimator input.sk-toggleable__control:checked~label.sk-toggleable__label {background-color: #d4ebff;}#sk-container-id-11 div.sk-label input.sk-toggleable__control:checked~label.sk-toggleable__label {background-color: #d4ebff;}#sk-container-id-11 input.sk-hidden--visually {border: 0;clip: rect(1px 1px 1px 1px);clip: rect(1px, 1px, 1px, 1px);height: 1px;margin: -1px;overflow: hidden;padding: 0;position: absolute;width: 1px;}#sk-container-id-11 div.sk-estimator {font-family: monospace;background-color: #f0f8ff;border: 1px dotted black;border-radius: 0.25em;box-sizing: border-box;margin-bottom: 0.5em;}#sk-container-id-11 div.sk-estimator:hover {background-color: #d4ebff;}#sk-container-id-11 div.sk-parallel-item::after {content: \"\";width: 100%;border-bottom: 1px solid gray;flex-grow: 1;}#sk-container-id-11 div.sk-label:hover label.sk-toggleable__label {background-color: #d4ebff;}#sk-container-id-11 div.sk-serial::before {content: \"\";position: absolute;border-left: 1px solid gray;box-sizing: border-box;top: 0;bottom: 0;left: 50%;z-index: 0;}#sk-container-id-11 div.sk-serial {display: flex;flex-direction: column;align-items: center;background-color: white;padding-right: 0.2em;padding-left: 0.2em;position: relative;}#sk-container-id-11 div.sk-item {position: relative;z-index: 1;}#sk-container-id-11 div.sk-parallel {display: flex;align-items: stretch;justify-content: center;background-color: white;position: relative;}#sk-container-id-11 div.sk-item::before, #sk-container-id-11 div.sk-parallel-item::before {content: \"\";position: absolute;border-left: 1px solid gray;box-sizing: border-box;top: 0;bottom: 0;left: 50%;z-index: -1;}#sk-container-id-11 div.sk-parallel-item {display: flex;flex-direction: column;z-index: 1;position: relative;background-color: white;}#sk-container-id-11 div.sk-parallel-item:first-child::after {align-self: flex-end;width: 50%;}#sk-container-id-11 div.sk-parallel-item:last-child::after {align-self: flex-start;width: 50%;}#sk-container-id-11 div.sk-parallel-item:only-child::after {width: 0;}#sk-container-id-11 div.sk-dashed-wrapped {border: 1px dashed gray;margin: 0 0.4em 0.5em 0.4em;box-sizing: border-box;padding-bottom: 0.4em;background-color: white;}#sk-container-id-11 div.sk-label label {font-family: monospace;font-weight: bold;display: inline-block;line-height: 1.2em;}#sk-container-id-11 div.sk-label-container {text-align: center;}#sk-container-id-11 div.sk-container {/* jupyter's `normalize.less` sets `[hidden] { display: none; }` but bootstrap.min.css set `[hidden] { display: none !important; }` so we also need the `!important` here to be able to override the default hidden behavior on the sphinx rendered scikit-learn.org. See: https://github.com/scikit-learn/scikit-learn/issues/21755 */display: inline-block !important;position: relative;}#sk-container-id-11 div.sk-text-repr-fallback {display: none;}</style><div id=\"sk-container-id-11\" class=\"sk-top-container\"><div class=\"sk-text-repr-fallback\"><pre>Pipeline(steps=[(&#x27;mapper&#x27;,\n",
       "                 DataFrameMapper(drop_cols=[],\n",
       "                                 features=[[&#x27;Contract&#x27;, LabelEncoder()],\n",
       "                                           [&#x27;InternetService&#x27;, LabelEncoder()],\n",
       "                                           [&#x27;MultipleLines&#x27;, LabelEncoder()],\n",
       "                                           [&#x27;TotalCharges&#x27;, None],\n",
       "                                           [&#x27;tenure&#x27;, None],\n",
       "                                           [&#x27;OnlineBackup&#x27;, LabelEncoder()],\n",
       "                                           [&#x27;TechSupport&#x27;, LabelEncoder()],\n",
       "                                           [&#x27;DeviceProtection&#x27;, LabelEncoder()],\n",
       "                                           [&#x27;PhoneService&#x27;, LabelEncoder()]])),\n",
       "                (&#x27;sampling&#x27;, SMOTE...\n",
       "                               gamma=None, gpu_id=None, grow_policy=None,\n",
       "                               importance_type=None,\n",
       "                               interaction_constraints=None, learning_rate=0.12,\n",
       "                               max_bin=None, max_cat_to_onehot=None,\n",
       "                               max_delta_step=None, max_depth=7,\n",
       "                               max_leaves=None, min_child_weight=None,\n",
       "                               missing=nan, monotone_constraints=None,\n",
       "                               n_estimators=200, n_jobs=None,\n",
       "                               num_parallel_tree=None, predictor=None,\n",
       "                               random_state=0, reg_alpha=None, reg_lambda=None, ...))])</pre><b>In a Jupyter environment, please rerun this cell to show the HTML representation or trust the notebook. <br />On GitHub, the HTML representation is unable to render, please try loading this page with nbviewer.org.</b></div><div class=\"sk-container\" hidden><div class=\"sk-item sk-dashed-wrapped\"><div class=\"sk-label-container\"><div class=\"sk-label sk-toggleable\"><input class=\"sk-toggleable__control sk-hidden--visually\" id=\"sk-estimator-id-19\" type=\"checkbox\" ><label for=\"sk-estimator-id-19\" class=\"sk-toggleable__label sk-toggleable__label-arrow\">Pipeline</label><div class=\"sk-toggleable__content\"><pre>Pipeline(steps=[(&#x27;mapper&#x27;,\n",
       "                 DataFrameMapper(drop_cols=[],\n",
       "                                 features=[[&#x27;Contract&#x27;, LabelEncoder()],\n",
       "                                           [&#x27;InternetService&#x27;, LabelEncoder()],\n",
       "                                           [&#x27;MultipleLines&#x27;, LabelEncoder()],\n",
       "                                           [&#x27;TotalCharges&#x27;, None],\n",
       "                                           [&#x27;tenure&#x27;, None],\n",
       "                                           [&#x27;OnlineBackup&#x27;, LabelEncoder()],\n",
       "                                           [&#x27;TechSupport&#x27;, LabelEncoder()],\n",
       "                                           [&#x27;DeviceProtection&#x27;, LabelEncoder()],\n",
       "                                           [&#x27;PhoneService&#x27;, LabelEncoder()]])),\n",
       "                (&#x27;sampling&#x27;, SMOTE...\n",
       "                               gamma=None, gpu_id=None, grow_policy=None,\n",
       "                               importance_type=None,\n",
       "                               interaction_constraints=None, learning_rate=0.12,\n",
       "                               max_bin=None, max_cat_to_onehot=None,\n",
       "                               max_delta_step=None, max_depth=7,\n",
       "                               max_leaves=None, min_child_weight=None,\n",
       "                               missing=nan, monotone_constraints=None,\n",
       "                               n_estimators=200, n_jobs=None,\n",
       "                               num_parallel_tree=None, predictor=None,\n",
       "                               random_state=0, reg_alpha=None, reg_lambda=None, ...))])</pre></div></div></div><div class=\"sk-serial\"><div class=\"sk-item\"><div class=\"sk-estimator sk-toggleable\"><input class=\"sk-toggleable__control sk-hidden--visually\" id=\"sk-estimator-id-20\" type=\"checkbox\" ><label for=\"sk-estimator-id-20\" class=\"sk-toggleable__label sk-toggleable__label-arrow\">DataFrameMapper</label><div class=\"sk-toggleable__content\"><pre>DataFrameMapper(drop_cols=[],\n",
       "                features=[[&#x27;Contract&#x27;, LabelEncoder()],\n",
       "                          [&#x27;InternetService&#x27;, LabelEncoder()],\n",
       "                          [&#x27;MultipleLines&#x27;, LabelEncoder()],\n",
       "                          [&#x27;TotalCharges&#x27;, None], [&#x27;tenure&#x27;, None],\n",
       "                          [&#x27;OnlineBackup&#x27;, LabelEncoder()],\n",
       "                          [&#x27;TechSupport&#x27;, LabelEncoder()],\n",
       "                          [&#x27;DeviceProtection&#x27;, LabelEncoder()],\n",
       "                          [&#x27;PhoneService&#x27;, LabelEncoder()]])</pre></div></div></div><div class=\"sk-item\"><div class=\"sk-estimator sk-toggleable\"><input class=\"sk-toggleable__control sk-hidden--visually\" id=\"sk-estimator-id-21\" type=\"checkbox\" ><label for=\"sk-estimator-id-21\" class=\"sk-toggleable__label sk-toggleable__label-arrow\">SMOTETomek</label><div class=\"sk-toggleable__content\"><pre>SMOTETomek(random_state=0)</pre></div></div></div><div class=\"sk-item\"><div class=\"sk-estimator sk-toggleable\"><input class=\"sk-toggleable__control sk-hidden--visually\" id=\"sk-estimator-id-22\" type=\"checkbox\" ><label for=\"sk-estimator-id-22\" class=\"sk-toggleable__label sk-toggleable__label-arrow\">XGBClassifier</label><div class=\"sk-toggleable__content\"><pre>XGBClassifier(base_score=0.75, booster=None, callbacks=None,\n",
       "              colsample_bylevel=1, colsample_bynode=None, colsample_bytree=None,\n",
       "              early_stopping_rounds=None, enable_categorical=False,\n",
       "              eval_metric=None, gamma=None, gpu_id=None, grow_policy=None,\n",
       "              importance_type=None, interaction_constraints=None,\n",
       "              learning_rate=0.12, max_bin=None, max_cat_to_onehot=None,\n",
       "              max_delta_step=None, max_depth=7, max_leaves=None,\n",
       "              min_child_weight=None, missing=nan, monotone_constraints=None,\n",
       "              n_estimators=200, n_jobs=None, num_parallel_tree=None,\n",
       "              predictor=None, random_state=0, reg_alpha=None, reg_lambda=None, ...)</pre></div></div></div></div></div></div></div>"
      ],
      "text/plain": [
       "Pipeline(steps=[('mapper',\n",
       "                 DataFrameMapper(drop_cols=[],\n",
       "                                 features=[['Contract', LabelEncoder()],\n",
       "                                           ['InternetService', LabelEncoder()],\n",
       "                                           ['MultipleLines', LabelEncoder()],\n",
       "                                           ['TotalCharges', None],\n",
       "                                           ['tenure', None],\n",
       "                                           ['OnlineBackup', LabelEncoder()],\n",
       "                                           ['TechSupport', LabelEncoder()],\n",
       "                                           ['DeviceProtection', LabelEncoder()],\n",
       "                                           ['PhoneService', LabelEncoder()]])),\n",
       "                ('sampling', SMOTE...\n",
       "                               gamma=None, gpu_id=None, grow_policy=None,\n",
       "                               importance_type=None,\n",
       "                               interaction_constraints=None, learning_rate=0.12,\n",
       "                               max_bin=None, max_cat_to_onehot=None,\n",
       "                               max_delta_step=None, max_depth=7,\n",
       "                               max_leaves=None, min_child_weight=None,\n",
       "                               missing=nan, monotone_constraints=None,\n",
       "                               n_estimators=200, n_jobs=None,\n",
       "                               num_parallel_tree=None, predictor=None,\n",
       "                               random_state=0, reg_alpha=None, reg_lambda=None, ...))])"
      ]
     },
     "execution_count": 132,
     "metadata": {},
     "output_type": "execute_result"
    }
   ],
   "source": [
    "#Making the pipeline stepwise\n",
    "model = Pipeline(steps=[('mapper', m), ('sampling', SMOTETomek(random_state=0)),\n",
    "                        ('model', XGBClassifier(n_estimators=200, max_depth=7, colsample_bylevel= 1,\n",
    "                        scale_pos_weight= 3.5, learning_rate=0.12, base_score=0.75, random_state=0))])\n",
    "model"
   ]
  },
  {
   "cell_type": "markdown",
   "id": "1440b29d",
   "metadata": {},
   "source": [
    "### User Testing & Evaluation"
   ]
  },
  {
   "cell_type": "code",
   "execution_count": 133,
   "id": "448d7438",
   "metadata": {},
   "outputs": [
    {
     "data": {
      "text/html": [
       "<div>\n",
       "<style scoped>\n",
       "    .dataframe tbody tr th:only-of-type {\n",
       "        vertical-align: middle;\n",
       "    }\n",
       "\n",
       "    .dataframe tbody tr th {\n",
       "        vertical-align: top;\n",
       "    }\n",
       "\n",
       "    .dataframe thead th {\n",
       "        text-align: right;\n",
       "    }\n",
       "</style>\n",
       "<table border=\"1\" class=\"dataframe\">\n",
       "  <thead>\n",
       "    <tr style=\"text-align: right;\">\n",
       "      <th></th>\n",
       "      <th>Contract</th>\n",
       "      <th>InternetService</th>\n",
       "      <th>MultipleLines</th>\n",
       "      <th>TotalCharges</th>\n",
       "      <th>tenure</th>\n",
       "      <th>OnlineBackup</th>\n",
       "      <th>TechSupport</th>\n",
       "      <th>DeviceProtection</th>\n",
       "      <th>PhoneService</th>\n",
       "      <th>Churn</th>\n",
       "    </tr>\n",
       "  </thead>\n",
       "  <tbody>\n",
       "    <tr>\n",
       "      <th>0</th>\n",
       "      <td>Month-to-month</td>\n",
       "      <td>DSL</td>\n",
       "      <td>No phone service</td>\n",
       "      <td>29.85</td>\n",
       "      <td>1</td>\n",
       "      <td>Yes</td>\n",
       "      <td>No</td>\n",
       "      <td>No</td>\n",
       "      <td>No</td>\n",
       "      <td>No</td>\n",
       "    </tr>\n",
       "    <tr>\n",
       "      <th>1</th>\n",
       "      <td>One year</td>\n",
       "      <td>DSL</td>\n",
       "      <td>No</td>\n",
       "      <td>1889.50</td>\n",
       "      <td>34</td>\n",
       "      <td>No</td>\n",
       "      <td>No</td>\n",
       "      <td>Yes</td>\n",
       "      <td>Yes</td>\n",
       "      <td>No</td>\n",
       "    </tr>\n",
       "    <tr>\n",
       "      <th>2</th>\n",
       "      <td>Month-to-month</td>\n",
       "      <td>DSL</td>\n",
       "      <td>No</td>\n",
       "      <td>108.15</td>\n",
       "      <td>2</td>\n",
       "      <td>Yes</td>\n",
       "      <td>No</td>\n",
       "      <td>No</td>\n",
       "      <td>Yes</td>\n",
       "      <td>Yes</td>\n",
       "    </tr>\n",
       "    <tr>\n",
       "      <th>3</th>\n",
       "      <td>One year</td>\n",
       "      <td>DSL</td>\n",
       "      <td>No phone service</td>\n",
       "      <td>1840.75</td>\n",
       "      <td>45</td>\n",
       "      <td>No</td>\n",
       "      <td>Yes</td>\n",
       "      <td>Yes</td>\n",
       "      <td>No</td>\n",
       "      <td>No</td>\n",
       "    </tr>\n",
       "    <tr>\n",
       "      <th>4</th>\n",
       "      <td>Month-to-month</td>\n",
       "      <td>Fiber optic</td>\n",
       "      <td>No</td>\n",
       "      <td>151.65</td>\n",
       "      <td>2</td>\n",
       "      <td>No</td>\n",
       "      <td>No</td>\n",
       "      <td>No</td>\n",
       "      <td>Yes</td>\n",
       "      <td>Yes</td>\n",
       "    </tr>\n",
       "    <tr>\n",
       "      <th>...</th>\n",
       "      <td>...</td>\n",
       "      <td>...</td>\n",
       "      <td>...</td>\n",
       "      <td>...</td>\n",
       "      <td>...</td>\n",
       "      <td>...</td>\n",
       "      <td>...</td>\n",
       "      <td>...</td>\n",
       "      <td>...</td>\n",
       "      <td>...</td>\n",
       "    </tr>\n",
       "    <tr>\n",
       "      <th>7038</th>\n",
       "      <td>One year</td>\n",
       "      <td>DSL</td>\n",
       "      <td>Yes</td>\n",
       "      <td>1990.50</td>\n",
       "      <td>24</td>\n",
       "      <td>No</td>\n",
       "      <td>Yes</td>\n",
       "      <td>Yes</td>\n",
       "      <td>Yes</td>\n",
       "      <td>No</td>\n",
       "    </tr>\n",
       "    <tr>\n",
       "      <th>7039</th>\n",
       "      <td>One year</td>\n",
       "      <td>Fiber optic</td>\n",
       "      <td>Yes</td>\n",
       "      <td>7362.90</td>\n",
       "      <td>72</td>\n",
       "      <td>Yes</td>\n",
       "      <td>No</td>\n",
       "      <td>Yes</td>\n",
       "      <td>Yes</td>\n",
       "      <td>No</td>\n",
       "    </tr>\n",
       "    <tr>\n",
       "      <th>7040</th>\n",
       "      <td>Month-to-month</td>\n",
       "      <td>DSL</td>\n",
       "      <td>No phone service</td>\n",
       "      <td>346.45</td>\n",
       "      <td>11</td>\n",
       "      <td>No</td>\n",
       "      <td>No</td>\n",
       "      <td>No</td>\n",
       "      <td>No</td>\n",
       "      <td>No</td>\n",
       "    </tr>\n",
       "    <tr>\n",
       "      <th>7041</th>\n",
       "      <td>Month-to-month</td>\n",
       "      <td>Fiber optic</td>\n",
       "      <td>Yes</td>\n",
       "      <td>306.60</td>\n",
       "      <td>4</td>\n",
       "      <td>No</td>\n",
       "      <td>No</td>\n",
       "      <td>No</td>\n",
       "      <td>Yes</td>\n",
       "      <td>Yes</td>\n",
       "    </tr>\n",
       "    <tr>\n",
       "      <th>7042</th>\n",
       "      <td>Two year</td>\n",
       "      <td>Fiber optic</td>\n",
       "      <td>No</td>\n",
       "      <td>6844.50</td>\n",
       "      <td>66</td>\n",
       "      <td>No</td>\n",
       "      <td>Yes</td>\n",
       "      <td>Yes</td>\n",
       "      <td>Yes</td>\n",
       "      <td>No</td>\n",
       "    </tr>\n",
       "  </tbody>\n",
       "</table>\n",
       "<p>7010 rows × 10 columns</p>\n",
       "</div>"
      ],
      "text/plain": [
       "            Contract InternetService     MultipleLines  TotalCharges  tenure  \\\n",
       "0     Month-to-month             DSL  No phone service         29.85       1   \n",
       "1           One year             DSL                No       1889.50      34   \n",
       "2     Month-to-month             DSL                No        108.15       2   \n",
       "3           One year             DSL  No phone service       1840.75      45   \n",
       "4     Month-to-month     Fiber optic                No        151.65       2   \n",
       "...              ...             ...               ...           ...     ...   \n",
       "7038        One year             DSL               Yes       1990.50      24   \n",
       "7039        One year     Fiber optic               Yes       7362.90      72   \n",
       "7040  Month-to-month             DSL  No phone service        346.45      11   \n",
       "7041  Month-to-month     Fiber optic               Yes        306.60       4   \n",
       "7042        Two year     Fiber optic                No       6844.50      66   \n",
       "\n",
       "     OnlineBackup TechSupport DeviceProtection PhoneService Churn  \n",
       "0             Yes          No               No           No    No  \n",
       "1              No          No              Yes          Yes    No  \n",
       "2             Yes          No               No          Yes   Yes  \n",
       "3              No         Yes              Yes           No    No  \n",
       "4              No          No               No          Yes   Yes  \n",
       "...           ...         ...              ...          ...   ...  \n",
       "7038           No         Yes              Yes          Yes    No  \n",
       "7039          Yes          No              Yes          Yes    No  \n",
       "7040           No          No               No           No    No  \n",
       "7041           No          No               No          Yes   Yes  \n",
       "7042           No         Yes              Yes          Yes    No  \n",
       "\n",
       "[7010 rows x 10 columns]"
      ]
     },
     "execution_count": 133,
     "metadata": {},
     "output_type": "execute_result"
    }
   ],
   "source": [
    "#Considering the original data\n",
    "uid = data.loc[:, ['Contract', 'InternetService', 'MultipleLines', 'TotalCharges',\n",
    "       'tenure', 'OnlineBackup', 'TechSupport', 'DeviceProtection',\n",
    "       'PhoneService', 'Churn']]\n",
    "uid"
   ]
  },
  {
   "cell_type": "code",
   "execution_count": 134,
   "id": "a7a37f3a",
   "metadata": {},
   "outputs": [
    {
     "name": "stdout",
     "output_type": "stream",
     "text": [
      "<class 'pandas.core.frame.DataFrame'>\n",
      "Int64Index: 7010 entries, 0 to 7042\n",
      "Data columns (total 10 columns):\n",
      " #   Column            Non-Null Count  Dtype  \n",
      "---  ------            --------------  -----  \n",
      " 0   Contract          7010 non-null   object \n",
      " 1   InternetService   7010 non-null   object \n",
      " 2   MultipleLines     7010 non-null   object \n",
      " 3   TotalCharges      7010 non-null   float64\n",
      " 4   tenure            7010 non-null   int64  \n",
      " 5   OnlineBackup      7010 non-null   object \n",
      " 6   TechSupport       7010 non-null   object \n",
      " 7   DeviceProtection  7010 non-null   object \n",
      " 8   PhoneService      7010 non-null   object \n",
      " 9   Churn             7010 non-null   object \n",
      "dtypes: float64(1), int64(1), object(8)\n",
      "memory usage: 860.5+ KB\n"
     ]
    }
   ],
   "source": [
    "uid.info()"
   ]
  },
  {
   "cell_type": "code",
   "execution_count": 135,
   "id": "eba757a8",
   "metadata": {
    "scrolled": true
   },
   "outputs": [
    {
     "data": {
      "text/html": [
       "<div>\n",
       "<style scoped>\n",
       "    .dataframe tbody tr th:only-of-type {\n",
       "        vertical-align: middle;\n",
       "    }\n",
       "\n",
       "    .dataframe tbody tr th {\n",
       "        vertical-align: top;\n",
       "    }\n",
       "\n",
       "    .dataframe thead th {\n",
       "        text-align: right;\n",
       "    }\n",
       "</style>\n",
       "<table border=\"1\" class=\"dataframe\">\n",
       "  <thead>\n",
       "    <tr style=\"text-align: right;\">\n",
       "      <th></th>\n",
       "      <th>Contract</th>\n",
       "      <th>InternetService</th>\n",
       "      <th>MultipleLines</th>\n",
       "      <th>TotalCharges</th>\n",
       "      <th>tenure</th>\n",
       "      <th>OnlineBackup</th>\n",
       "      <th>TechSupport</th>\n",
       "      <th>DeviceProtection</th>\n",
       "      <th>PhoneService</th>\n",
       "      <th>Churn</th>\n",
       "    </tr>\n",
       "  </thead>\n",
       "  <tbody>\n",
       "    <tr>\n",
       "      <th>2146</th>\n",
       "      <td>One year</td>\n",
       "      <td>Fiber optic</td>\n",
       "      <td>Yes</td>\n",
       "      <td>7133.45</td>\n",
       "      <td>62</td>\n",
       "      <td>Yes</td>\n",
       "      <td>Yes</td>\n",
       "      <td>Yes</td>\n",
       "      <td>Yes</td>\n",
       "      <td>No</td>\n",
       "    </tr>\n",
       "    <tr>\n",
       "      <th>4614</th>\n",
       "      <td>Month-to-month</td>\n",
       "      <td>No</td>\n",
       "      <td>No</td>\n",
       "      <td>144.35</td>\n",
       "      <td>7</td>\n",
       "      <td>No internet service</td>\n",
       "      <td>No internet service</td>\n",
       "      <td>No internet service</td>\n",
       "      <td>Yes</td>\n",
       "      <td>No</td>\n",
       "    </tr>\n",
       "    <tr>\n",
       "      <th>3968</th>\n",
       "      <td>Two year</td>\n",
       "      <td>No</td>\n",
       "      <td>No</td>\n",
       "      <td>1423.65</td>\n",
       "      <td>72</td>\n",
       "      <td>No internet service</td>\n",
       "      <td>No internet service</td>\n",
       "      <td>No internet service</td>\n",
       "      <td>Yes</td>\n",
       "      <td>No</td>\n",
       "    </tr>\n",
       "    <tr>\n",
       "      <th>832</th>\n",
       "      <td>One year</td>\n",
       "      <td>DSL</td>\n",
       "      <td>No</td>\n",
       "      <td>5222.30</td>\n",
       "      <td>70</td>\n",
       "      <td>Yes</td>\n",
       "      <td>Yes</td>\n",
       "      <td>Yes</td>\n",
       "      <td>Yes</td>\n",
       "      <td>No</td>\n",
       "    </tr>\n",
       "    <tr>\n",
       "      <th>4219</th>\n",
       "      <td>One year</td>\n",
       "      <td>Fiber optic</td>\n",
       "      <td>No</td>\n",
       "      <td>3772.65</td>\n",
       "      <td>48</td>\n",
       "      <td>Yes</td>\n",
       "      <td>No</td>\n",
       "      <td>No</td>\n",
       "      <td>Yes</td>\n",
       "      <td>No</td>\n",
       "    </tr>\n",
       "    <tr>\n",
       "      <th>131</th>\n",
       "      <td>Month-to-month</td>\n",
       "      <td>DSL</td>\n",
       "      <td>No phone service</td>\n",
       "      <td>1502.65</td>\n",
       "      <td>25</td>\n",
       "      <td>Yes</td>\n",
       "      <td>No</td>\n",
       "      <td>Yes</td>\n",
       "      <td>No</td>\n",
       "      <td>Yes</td>\n",
       "    </tr>\n",
       "    <tr>\n",
       "      <th>5296</th>\n",
       "      <td>One year</td>\n",
       "      <td>DSL</td>\n",
       "      <td>No phone service</td>\n",
       "      <td>2258.25</td>\n",
       "      <td>57</td>\n",
       "      <td>No</td>\n",
       "      <td>Yes</td>\n",
       "      <td>Yes</td>\n",
       "      <td>No</td>\n",
       "      <td>No</td>\n",
       "    </tr>\n",
       "    <tr>\n",
       "      <th>2151</th>\n",
       "      <td>Two year</td>\n",
       "      <td>No</td>\n",
       "      <td>Yes</td>\n",
       "      <td>1498.85</td>\n",
       "      <td>68</td>\n",
       "      <td>No internet service</td>\n",
       "      <td>No internet service</td>\n",
       "      <td>No internet service</td>\n",
       "      <td>Yes</td>\n",
       "      <td>No</td>\n",
       "    </tr>\n",
       "    <tr>\n",
       "      <th>5153</th>\n",
       "      <td>Month-to-month</td>\n",
       "      <td>Fiber optic</td>\n",
       "      <td>No</td>\n",
       "      <td>3851.45</td>\n",
       "      <td>41</td>\n",
       "      <td>Yes</td>\n",
       "      <td>No</td>\n",
       "      <td>No</td>\n",
       "      <td>Yes</td>\n",
       "      <td>No</td>\n",
       "    </tr>\n",
       "    <tr>\n",
       "      <th>5979</th>\n",
       "      <td>Two year</td>\n",
       "      <td>No</td>\n",
       "      <td>No</td>\n",
       "      <td>978.00</td>\n",
       "      <td>53</td>\n",
       "      <td>No internet service</td>\n",
       "      <td>No internet service</td>\n",
       "      <td>No internet service</td>\n",
       "      <td>Yes</td>\n",
       "      <td>No</td>\n",
       "    </tr>\n",
       "    <tr>\n",
       "      <th>5490</th>\n",
       "      <td>Month-to-month</td>\n",
       "      <td>DSL</td>\n",
       "      <td>No</td>\n",
       "      <td>335.65</td>\n",
       "      <td>6</td>\n",
       "      <td>Yes</td>\n",
       "      <td>No</td>\n",
       "      <td>No</td>\n",
       "      <td>Yes</td>\n",
       "      <td>No</td>\n",
       "    </tr>\n",
       "    <tr>\n",
       "      <th>5169</th>\n",
       "      <td>One year</td>\n",
       "      <td>DSL</td>\n",
       "      <td>No</td>\n",
       "      <td>950.75</td>\n",
       "      <td>15</td>\n",
       "      <td>No</td>\n",
       "      <td>No</td>\n",
       "      <td>Yes</td>\n",
       "      <td>Yes</td>\n",
       "      <td>No</td>\n",
       "    </tr>\n",
       "    <tr>\n",
       "      <th>6683</th>\n",
       "      <td>One year</td>\n",
       "      <td>DSL</td>\n",
       "      <td>No phone service</td>\n",
       "      <td>1931.30</td>\n",
       "      <td>43</td>\n",
       "      <td>No</td>\n",
       "      <td>Yes</td>\n",
       "      <td>Yes</td>\n",
       "      <td>No</td>\n",
       "      <td>No</td>\n",
       "    </tr>\n",
       "    <tr>\n",
       "      <th>4766</th>\n",
       "      <td>Two year</td>\n",
       "      <td>Fiber optic</td>\n",
       "      <td>Yes</td>\n",
       "      <td>7993.30</td>\n",
       "      <td>71</td>\n",
       "      <td>Yes</td>\n",
       "      <td>Yes</td>\n",
       "      <td>Yes</td>\n",
       "      <td>Yes</td>\n",
       "      <td>No</td>\n",
       "    </tr>\n",
       "    <tr>\n",
       "      <th>2418</th>\n",
       "      <td>Month-to-month</td>\n",
       "      <td>Fiber optic</td>\n",
       "      <td>Yes</td>\n",
       "      <td>2401.05</td>\n",
       "      <td>27</td>\n",
       "      <td>Yes</td>\n",
       "      <td>No</td>\n",
       "      <td>Yes</td>\n",
       "      <td>Yes</td>\n",
       "      <td>No</td>\n",
       "    </tr>\n",
       "    <tr>\n",
       "      <th>2205</th>\n",
       "      <td>One year</td>\n",
       "      <td>Fiber optic</td>\n",
       "      <td>No</td>\n",
       "      <td>3343.15</td>\n",
       "      <td>34</td>\n",
       "      <td>Yes</td>\n",
       "      <td>No</td>\n",
       "      <td>Yes</td>\n",
       "      <td>Yes</td>\n",
       "      <td>No</td>\n",
       "    </tr>\n",
       "    <tr>\n",
       "      <th>5471</th>\n",
       "      <td>Month-to-month</td>\n",
       "      <td>Fiber optic</td>\n",
       "      <td>Yes</td>\n",
       "      <td>1993.25</td>\n",
       "      <td>29</td>\n",
       "      <td>No</td>\n",
       "      <td>No</td>\n",
       "      <td>No</td>\n",
       "      <td>Yes</td>\n",
       "      <td>No</td>\n",
       "    </tr>\n",
       "    <tr>\n",
       "      <th>907</th>\n",
       "      <td>One year</td>\n",
       "      <td>DSL</td>\n",
       "      <td>No</td>\n",
       "      <td>1231.85</td>\n",
       "      <td>19</td>\n",
       "      <td>Yes</td>\n",
       "      <td>Yes</td>\n",
       "      <td>No</td>\n",
       "      <td>Yes</td>\n",
       "      <td>No</td>\n",
       "    </tr>\n",
       "    <tr>\n",
       "      <th>5849</th>\n",
       "      <td>Two year</td>\n",
       "      <td>No</td>\n",
       "      <td>No</td>\n",
       "      <td>1234.80</td>\n",
       "      <td>63</td>\n",
       "      <td>No internet service</td>\n",
       "      <td>No internet service</td>\n",
       "      <td>No internet service</td>\n",
       "      <td>Yes</td>\n",
       "      <td>No</td>\n",
       "    </tr>\n",
       "    <tr>\n",
       "      <th>6740</th>\n",
       "      <td>Month-to-month</td>\n",
       "      <td>Fiber optic</td>\n",
       "      <td>No</td>\n",
       "      <td>3233.85</td>\n",
       "      <td>40</td>\n",
       "      <td>Yes</td>\n",
       "      <td>No</td>\n",
       "      <td>No</td>\n",
       "      <td>Yes</td>\n",
       "      <td>Yes</td>\n",
       "    </tr>\n",
       "  </tbody>\n",
       "</table>\n",
       "</div>"
      ],
      "text/plain": [
       "            Contract InternetService     MultipleLines  TotalCharges  tenure  \\\n",
       "2146        One year     Fiber optic               Yes       7133.45      62   \n",
       "4614  Month-to-month              No                No        144.35       7   \n",
       "3968        Two year              No                No       1423.65      72   \n",
       "832         One year             DSL                No       5222.30      70   \n",
       "4219        One year     Fiber optic                No       3772.65      48   \n",
       "131   Month-to-month             DSL  No phone service       1502.65      25   \n",
       "5296        One year             DSL  No phone service       2258.25      57   \n",
       "2151        Two year              No               Yes       1498.85      68   \n",
       "5153  Month-to-month     Fiber optic                No       3851.45      41   \n",
       "5979        Two year              No                No        978.00      53   \n",
       "5490  Month-to-month             DSL                No        335.65       6   \n",
       "5169        One year             DSL                No        950.75      15   \n",
       "6683        One year             DSL  No phone service       1931.30      43   \n",
       "4766        Two year     Fiber optic               Yes       7993.30      71   \n",
       "2418  Month-to-month     Fiber optic               Yes       2401.05      27   \n",
       "2205        One year     Fiber optic                No       3343.15      34   \n",
       "5471  Month-to-month     Fiber optic               Yes       1993.25      29   \n",
       "907         One year             DSL                No       1231.85      19   \n",
       "5849        Two year              No                No       1234.80      63   \n",
       "6740  Month-to-month     Fiber optic                No       3233.85      40   \n",
       "\n",
       "             OnlineBackup          TechSupport     DeviceProtection  \\\n",
       "2146                  Yes                  Yes                  Yes   \n",
       "4614  No internet service  No internet service  No internet service   \n",
       "3968  No internet service  No internet service  No internet service   \n",
       "832                   Yes                  Yes                  Yes   \n",
       "4219                  Yes                   No                   No   \n",
       "131                   Yes                   No                  Yes   \n",
       "5296                   No                  Yes                  Yes   \n",
       "2151  No internet service  No internet service  No internet service   \n",
       "5153                  Yes                   No                   No   \n",
       "5979  No internet service  No internet service  No internet service   \n",
       "5490                  Yes                   No                   No   \n",
       "5169                   No                   No                  Yes   \n",
       "6683                   No                  Yes                  Yes   \n",
       "4766                  Yes                  Yes                  Yes   \n",
       "2418                  Yes                   No                  Yes   \n",
       "2205                  Yes                   No                  Yes   \n",
       "5471                   No                   No                   No   \n",
       "907                   Yes                  Yes                   No   \n",
       "5849  No internet service  No internet service  No internet service   \n",
       "6740                  Yes                   No                   No   \n",
       "\n",
       "     PhoneService Churn  \n",
       "2146          Yes    No  \n",
       "4614          Yes    No  \n",
       "3968          Yes    No  \n",
       "832           Yes    No  \n",
       "4219          Yes    No  \n",
       "131            No   Yes  \n",
       "5296           No    No  \n",
       "2151          Yes    No  \n",
       "5153          Yes    No  \n",
       "5979          Yes    No  \n",
       "5490          Yes    No  \n",
       "5169          Yes    No  \n",
       "6683           No    No  \n",
       "4766          Yes    No  \n",
       "2418          Yes    No  \n",
       "2205          Yes    No  \n",
       "5471          Yes    No  \n",
       "907           Yes    No  \n",
       "5849          Yes    No  \n",
       "6740          Yes   Yes  "
      ]
     },
     "execution_count": 135,
     "metadata": {},
     "output_type": "execute_result"
    }
   ],
   "source": [
    "#Picking up 10 random samples from our original data (7,12)\n",
    "ref = uid.sample(n=20, random_state=7)\n",
    "ref"
   ]
  },
  {
   "cell_type": "code",
   "execution_count": 136,
   "id": "d3a576b4",
   "metadata": {},
   "outputs": [],
   "source": [
    "#Splititing the collected samples for testing \n",
    "uid_Xtest = ref.iloc[:, :-1]\n",
    "uid_ytest = ref[['Churn']]"
   ]
  },
  {
   "cell_type": "code",
   "execution_count": 137,
   "id": "b1ffdad3",
   "metadata": {},
   "outputs": [],
   "source": [
    "xx = LabelEncoder()\n",
    "uid_ytest = xx.fit_transform(uid_ytest)"
   ]
  },
  {
   "cell_type": "code",
   "execution_count": 138,
   "id": "0710ee95",
   "metadata": {
    "scrolled": true
   },
   "outputs": [
    {
     "data": {
      "text/plain": [
       "array([0, 0, 0, 0, 0, 1, 0, 0, 0, 0, 0, 0, 0, 0, 0, 0, 0, 0, 0, 1])"
      ]
     },
     "execution_count": 138,
     "metadata": {},
     "output_type": "execute_result"
    }
   ],
   "source": [
    "uid_ytest"
   ]
  },
  {
   "cell_type": "code",
   "execution_count": 139,
   "id": "627b1867",
   "metadata": {},
   "outputs": [
    {
     "data": {
      "text/plain": [
       "(7010, 10)"
      ]
     },
     "execution_count": 139,
     "metadata": {},
     "output_type": "execute_result"
    }
   ],
   "source": [
    "data_n = uid.copy()\n",
    "data_n.shape"
   ]
  },
  {
   "cell_type": "code",
   "execution_count": 140,
   "id": "f42d6b4a",
   "metadata": {},
   "outputs": [],
   "source": [
    "#Dropping the collected samples from original dataset so that model is not trained on it\n",
    "data_n.drop(index=ref.index, inplace=True)"
   ]
  },
  {
   "cell_type": "code",
   "execution_count": 141,
   "id": "09e3f57c",
   "metadata": {},
   "outputs": [],
   "source": [
    "#Reset the index after dropping the samples\n",
    "data_n.reset_index(drop='index', inplace=True)"
   ]
  },
  {
   "cell_type": "code",
   "execution_count": 142,
   "id": "71b7814f",
   "metadata": {},
   "outputs": [
    {
     "data": {
      "text/plain": [
       "(6990, 10)"
      ]
     },
     "execution_count": 142,
     "metadata": {},
     "output_type": "execute_result"
    }
   ],
   "source": [
    "data_n.shape"
   ]
  },
  {
   "cell_type": "code",
   "execution_count": 143,
   "id": "e5294edd",
   "metadata": {},
   "outputs": [],
   "source": [
    "#Splitting the original data for training the model\n",
    "X_t = data_n.iloc[:, :-1]\n",
    "y_t = data_n[['Churn']]"
   ]
  },
  {
   "cell_type": "code",
   "execution_count": 144,
   "id": "4447889a",
   "metadata": {},
   "outputs": [],
   "source": [
    "yy = LabelEncoder()\n",
    "y_t = yy.fit_transform(y_t)"
   ]
  },
  {
   "cell_type": "code",
   "execution_count": 145,
   "id": "4a8a9aad",
   "metadata": {
    "scrolled": true
   },
   "outputs": [
    {
     "data": {
      "text/plain": [
       "array([0, 0, 1, ..., 0, 1, 0])"
      ]
     },
     "execution_count": 145,
     "metadata": {},
     "output_type": "execute_result"
    }
   ],
   "source": [
    "y_t"
   ]
  },
  {
   "cell_type": "code",
   "execution_count": 146,
   "id": "7eab7128",
   "metadata": {
    "scrolled": true
   },
   "outputs": [
    {
     "data": {
      "text/html": [
       "<style>#sk-container-id-12 {color: black;background-color: white;}#sk-container-id-12 pre{padding: 0;}#sk-container-id-12 div.sk-toggleable {background-color: white;}#sk-container-id-12 label.sk-toggleable__label {cursor: pointer;display: block;width: 100%;margin-bottom: 0;padding: 0.3em;box-sizing: border-box;text-align: center;}#sk-container-id-12 label.sk-toggleable__label-arrow:before {content: \"▸\";float: left;margin-right: 0.25em;color: #696969;}#sk-container-id-12 label.sk-toggleable__label-arrow:hover:before {color: black;}#sk-container-id-12 div.sk-estimator:hover label.sk-toggleable__label-arrow:before {color: black;}#sk-container-id-12 div.sk-toggleable__content {max-height: 0;max-width: 0;overflow: hidden;text-align: left;background-color: #f0f8ff;}#sk-container-id-12 div.sk-toggleable__content pre {margin: 0.2em;color: black;border-radius: 0.25em;background-color: #f0f8ff;}#sk-container-id-12 input.sk-toggleable__control:checked~div.sk-toggleable__content {max-height: 200px;max-width: 100%;overflow: auto;}#sk-container-id-12 input.sk-toggleable__control:checked~label.sk-toggleable__label-arrow:before {content: \"▾\";}#sk-container-id-12 div.sk-estimator input.sk-toggleable__control:checked~label.sk-toggleable__label {background-color: #d4ebff;}#sk-container-id-12 div.sk-label input.sk-toggleable__control:checked~label.sk-toggleable__label {background-color: #d4ebff;}#sk-container-id-12 input.sk-hidden--visually {border: 0;clip: rect(1px 1px 1px 1px);clip: rect(1px, 1px, 1px, 1px);height: 1px;margin: -1px;overflow: hidden;padding: 0;position: absolute;width: 1px;}#sk-container-id-12 div.sk-estimator {font-family: monospace;background-color: #f0f8ff;border: 1px dotted black;border-radius: 0.25em;box-sizing: border-box;margin-bottom: 0.5em;}#sk-container-id-12 div.sk-estimator:hover {background-color: #d4ebff;}#sk-container-id-12 div.sk-parallel-item::after {content: \"\";width: 100%;border-bottom: 1px solid gray;flex-grow: 1;}#sk-container-id-12 div.sk-label:hover label.sk-toggleable__label {background-color: #d4ebff;}#sk-container-id-12 div.sk-serial::before {content: \"\";position: absolute;border-left: 1px solid gray;box-sizing: border-box;top: 0;bottom: 0;left: 50%;z-index: 0;}#sk-container-id-12 div.sk-serial {display: flex;flex-direction: column;align-items: center;background-color: white;padding-right: 0.2em;padding-left: 0.2em;position: relative;}#sk-container-id-12 div.sk-item {position: relative;z-index: 1;}#sk-container-id-12 div.sk-parallel {display: flex;align-items: stretch;justify-content: center;background-color: white;position: relative;}#sk-container-id-12 div.sk-item::before, #sk-container-id-12 div.sk-parallel-item::before {content: \"\";position: absolute;border-left: 1px solid gray;box-sizing: border-box;top: 0;bottom: 0;left: 50%;z-index: -1;}#sk-container-id-12 div.sk-parallel-item {display: flex;flex-direction: column;z-index: 1;position: relative;background-color: white;}#sk-container-id-12 div.sk-parallel-item:first-child::after {align-self: flex-end;width: 50%;}#sk-container-id-12 div.sk-parallel-item:last-child::after {align-self: flex-start;width: 50%;}#sk-container-id-12 div.sk-parallel-item:only-child::after {width: 0;}#sk-container-id-12 div.sk-dashed-wrapped {border: 1px dashed gray;margin: 0 0.4em 0.5em 0.4em;box-sizing: border-box;padding-bottom: 0.4em;background-color: white;}#sk-container-id-12 div.sk-label label {font-family: monospace;font-weight: bold;display: inline-block;line-height: 1.2em;}#sk-container-id-12 div.sk-label-container {text-align: center;}#sk-container-id-12 div.sk-container {/* jupyter's `normalize.less` sets `[hidden] { display: none; }` but bootstrap.min.css set `[hidden] { display: none !important; }` so we also need the `!important` here to be able to override the default hidden behavior on the sphinx rendered scikit-learn.org. See: https://github.com/scikit-learn/scikit-learn/issues/21755 */display: inline-block !important;position: relative;}#sk-container-id-12 div.sk-text-repr-fallback {display: none;}</style><div id=\"sk-container-id-12\" class=\"sk-top-container\"><div class=\"sk-text-repr-fallback\"><pre>Pipeline(steps=[(&#x27;mapper&#x27;,\n",
       "                 DataFrameMapper(drop_cols=[],\n",
       "                                 features=[[&#x27;Contract&#x27;, LabelEncoder()],\n",
       "                                           [&#x27;InternetService&#x27;, LabelEncoder()],\n",
       "                                           [&#x27;MultipleLines&#x27;, LabelEncoder()],\n",
       "                                           [&#x27;TotalCharges&#x27;, None],\n",
       "                                           [&#x27;tenure&#x27;, None],\n",
       "                                           [&#x27;OnlineBackup&#x27;, LabelEncoder()],\n",
       "                                           [&#x27;TechSupport&#x27;, LabelEncoder()],\n",
       "                                           [&#x27;DeviceProtection&#x27;, LabelEncoder()],\n",
       "                                           [&#x27;PhoneService&#x27;, LabelEncoder()]])),\n",
       "                (&#x27;sampling&#x27;, SMOTE...\n",
       "                               gamma=0, gpu_id=-1, grow_policy=&#x27;depthwise&#x27;,\n",
       "                               importance_type=None, interaction_constraints=&#x27;&#x27;,\n",
       "                               learning_rate=0.12, max_bin=256,\n",
       "                               max_cat_to_onehot=4, max_delta_step=0,\n",
       "                               max_depth=7, max_leaves=0, min_child_weight=1,\n",
       "                               missing=nan, monotone_constraints=&#x27;()&#x27;,\n",
       "                               n_estimators=200, n_jobs=0, num_parallel_tree=1,\n",
       "                               predictor=&#x27;auto&#x27;, random_state=0, reg_alpha=0,\n",
       "                               reg_lambda=1, ...))])</pre><b>In a Jupyter environment, please rerun this cell to show the HTML representation or trust the notebook. <br />On GitHub, the HTML representation is unable to render, please try loading this page with nbviewer.org.</b></div><div class=\"sk-container\" hidden><div class=\"sk-item sk-dashed-wrapped\"><div class=\"sk-label-container\"><div class=\"sk-label sk-toggleable\"><input class=\"sk-toggleable__control sk-hidden--visually\" id=\"sk-estimator-id-23\" type=\"checkbox\" ><label for=\"sk-estimator-id-23\" class=\"sk-toggleable__label sk-toggleable__label-arrow\">Pipeline</label><div class=\"sk-toggleable__content\"><pre>Pipeline(steps=[(&#x27;mapper&#x27;,\n",
       "                 DataFrameMapper(drop_cols=[],\n",
       "                                 features=[[&#x27;Contract&#x27;, LabelEncoder()],\n",
       "                                           [&#x27;InternetService&#x27;, LabelEncoder()],\n",
       "                                           [&#x27;MultipleLines&#x27;, LabelEncoder()],\n",
       "                                           [&#x27;TotalCharges&#x27;, None],\n",
       "                                           [&#x27;tenure&#x27;, None],\n",
       "                                           [&#x27;OnlineBackup&#x27;, LabelEncoder()],\n",
       "                                           [&#x27;TechSupport&#x27;, LabelEncoder()],\n",
       "                                           [&#x27;DeviceProtection&#x27;, LabelEncoder()],\n",
       "                                           [&#x27;PhoneService&#x27;, LabelEncoder()]])),\n",
       "                (&#x27;sampling&#x27;, SMOTE...\n",
       "                               gamma=0, gpu_id=-1, grow_policy=&#x27;depthwise&#x27;,\n",
       "                               importance_type=None, interaction_constraints=&#x27;&#x27;,\n",
       "                               learning_rate=0.12, max_bin=256,\n",
       "                               max_cat_to_onehot=4, max_delta_step=0,\n",
       "                               max_depth=7, max_leaves=0, min_child_weight=1,\n",
       "                               missing=nan, monotone_constraints=&#x27;()&#x27;,\n",
       "                               n_estimators=200, n_jobs=0, num_parallel_tree=1,\n",
       "                               predictor=&#x27;auto&#x27;, random_state=0, reg_alpha=0,\n",
       "                               reg_lambda=1, ...))])</pre></div></div></div><div class=\"sk-serial\"><div class=\"sk-item\"><div class=\"sk-estimator sk-toggleable\"><input class=\"sk-toggleable__control sk-hidden--visually\" id=\"sk-estimator-id-24\" type=\"checkbox\" ><label for=\"sk-estimator-id-24\" class=\"sk-toggleable__label sk-toggleable__label-arrow\">DataFrameMapper</label><div class=\"sk-toggleable__content\"><pre>DataFrameMapper(drop_cols=[],\n",
       "                features=[[&#x27;Contract&#x27;, LabelEncoder()],\n",
       "                          [&#x27;InternetService&#x27;, LabelEncoder()],\n",
       "                          [&#x27;MultipleLines&#x27;, LabelEncoder()],\n",
       "                          [&#x27;TotalCharges&#x27;, None], [&#x27;tenure&#x27;, None],\n",
       "                          [&#x27;OnlineBackup&#x27;, LabelEncoder()],\n",
       "                          [&#x27;TechSupport&#x27;, LabelEncoder()],\n",
       "                          [&#x27;DeviceProtection&#x27;, LabelEncoder()],\n",
       "                          [&#x27;PhoneService&#x27;, LabelEncoder()]])</pre></div></div></div><div class=\"sk-item\"><div class=\"sk-estimator sk-toggleable\"><input class=\"sk-toggleable__control sk-hidden--visually\" id=\"sk-estimator-id-25\" type=\"checkbox\" ><label for=\"sk-estimator-id-25\" class=\"sk-toggleable__label sk-toggleable__label-arrow\">SMOTETomek</label><div class=\"sk-toggleable__content\"><pre>SMOTETomek(random_state=0)</pre></div></div></div><div class=\"sk-item\"><div class=\"sk-estimator sk-toggleable\"><input class=\"sk-toggleable__control sk-hidden--visually\" id=\"sk-estimator-id-26\" type=\"checkbox\" ><label for=\"sk-estimator-id-26\" class=\"sk-toggleable__label sk-toggleable__label-arrow\">XGBClassifier</label><div class=\"sk-toggleable__content\"><pre>XGBClassifier(base_score=0.75, booster=&#x27;gbtree&#x27;, callbacks=None,\n",
       "              colsample_bylevel=1, colsample_bynode=1, colsample_bytree=1,\n",
       "              early_stopping_rounds=None, enable_categorical=False,\n",
       "              eval_metric=None, gamma=0, gpu_id=-1, grow_policy=&#x27;depthwise&#x27;,\n",
       "              importance_type=None, interaction_constraints=&#x27;&#x27;,\n",
       "              learning_rate=0.12, max_bin=256, max_cat_to_onehot=4,\n",
       "              max_delta_step=0, max_depth=7, max_leaves=0, min_child_weight=1,\n",
       "              missing=nan, monotone_constraints=&#x27;()&#x27;, n_estimators=200,\n",
       "              n_jobs=0, num_parallel_tree=1, predictor=&#x27;auto&#x27;, random_state=0,\n",
       "              reg_alpha=0, reg_lambda=1, ...)</pre></div></div></div></div></div></div></div>"
      ],
      "text/plain": [
       "Pipeline(steps=[('mapper',\n",
       "                 DataFrameMapper(drop_cols=[],\n",
       "                                 features=[['Contract', LabelEncoder()],\n",
       "                                           ['InternetService', LabelEncoder()],\n",
       "                                           ['MultipleLines', LabelEncoder()],\n",
       "                                           ['TotalCharges', None],\n",
       "                                           ['tenure', None],\n",
       "                                           ['OnlineBackup', LabelEncoder()],\n",
       "                                           ['TechSupport', LabelEncoder()],\n",
       "                                           ['DeviceProtection', LabelEncoder()],\n",
       "                                           ['PhoneService', LabelEncoder()]])),\n",
       "                ('sampling', SMOTE...\n",
       "                               gamma=0, gpu_id=-1, grow_policy='depthwise',\n",
       "                               importance_type=None, interaction_constraints='',\n",
       "                               learning_rate=0.12, max_bin=256,\n",
       "                               max_cat_to_onehot=4, max_delta_step=0,\n",
       "                               max_depth=7, max_leaves=0, min_child_weight=1,\n",
       "                               missing=nan, monotone_constraints='()',\n",
       "                               n_estimators=200, n_jobs=0, num_parallel_tree=1,\n",
       "                               predictor='auto', random_state=0, reg_alpha=0,\n",
       "                               reg_lambda=1, ...))])"
      ]
     },
     "execution_count": 146,
     "metadata": {},
     "output_type": "execute_result"
    }
   ],
   "source": [
    "#Training the model\n",
    "model.fit(X=X_t, y=y_t)"
   ]
  },
  {
   "cell_type": "code",
   "execution_count": 147,
   "id": "76ac298e",
   "metadata": {},
   "outputs": [
    {
     "name": "stdout",
     "output_type": "stream",
     "text": [
      "Actual:  [0 0 0 0 0 1 0 0 0 0 0 0 0 0 0 0 0 0 0 1] \n",
      "\n",
      "Predict: [0 0 0 0 0 1 0 0 0 0 1 0 0 0 1 0 1 0 0 1]\n"
     ]
    }
   ],
   "source": [
    "#Model Testing & Evaluation\n",
    "\n",
    "print('Actual: ', np.array(uid_ytest).flatten(), '\\n')\n",
    "\n",
    "print('Predict:', model.predict(uid_Xtest))"
   ]
  },
  {
   "cell_type": "code",
   "execution_count": 148,
   "id": "1aee3346",
   "metadata": {},
   "outputs": [],
   "source": [
    "pred = model.predict(uid_Xtest)"
   ]
  },
  {
   "cell_type": "code",
   "execution_count": 149,
   "id": "e0394392",
   "metadata": {},
   "outputs": [
    {
     "data": {
      "text/plain": [
       "0.85"
      ]
     },
     "execution_count": 149,
     "metadata": {},
     "output_type": "execute_result"
    }
   ],
   "source": [
    "model.score(uid_Xtest, uid_ytest).round(2)"
   ]
  },
  {
   "cell_type": "code",
   "execution_count": 150,
   "id": "55ee5ab0",
   "metadata": {},
   "outputs": [
    {
     "data": {
      "text/plain": [
       "1.0"
      ]
     },
     "execution_count": 150,
     "metadata": {},
     "output_type": "execute_result"
    }
   ],
   "source": [
    "recall_score(uid_ytest, pred).round(2)"
   ]
  },
  {
   "cell_type": "markdown",
   "id": "1ef12862",
   "metadata": {},
   "source": [
    "## Saving the model "
   ]
  },
  {
   "cell_type": "code",
   "execution_count": 151,
   "id": "67684d53",
   "metadata": {},
   "outputs": [],
   "source": [
    "#Saving the model to file\n",
    "dump(model, open('Tchurn_intelligence.pkl', 'wb'))"
   ]
  },
  {
   "cell_type": "code",
   "execution_count": 154,
   "id": "c7939e80",
   "metadata": {},
   "outputs": [],
   "source": [
    "#Loading the file\n",
    "ml = load(open('Tchurn_intelligence.pkl', 'rb'))"
   ]
  },
  {
   "cell_type": "code",
   "execution_count": 155,
   "id": "8d9d8f58",
   "metadata": {},
   "outputs": [
    {
     "name": "stdout",
     "output_type": "stream",
     "text": [
      "Predicted Values: [0 0 0 0 0 1 0 0 0 0 1 0 0 0 1 0 1 0 0 1]\n"
     ]
    }
   ],
   "source": [
    "#Running the file for testing & evaluating \n",
    "print('Predicted Values:', ml.predict(uid_Xtest))"
   ]
  },
  {
   "cell_type": "markdown",
   "id": "cc73114a",
   "metadata": {},
   "source": [
    "### Final Note:\n",
    "* Further deployment of the model is made using streamlit for better user-interface testing."
   ]
  },
  {
   "cell_type": "markdown",
   "id": "636be9c9",
   "metadata": {},
   "source": [
    "#                                     Thank you!! "
   ]
  },
  {
   "cell_type": "markdown",
   "id": "17674877",
   "metadata": {},
   "source": [
    "# ================================================"
   ]
  }
 ],
 "metadata": {
  "kernelspec": {
   "display_name": "Python 3 (ipykernel)",
   "language": "python",
   "name": "python3"
  },
  "language_info": {
   "codemirror_mode": {
    "name": "ipython",
    "version": 3
   },
   "file_extension": ".py",
   "mimetype": "text/x-python",
   "name": "python",
   "nbconvert_exporter": "python",
   "pygments_lexer": "ipython3",
   "version": "3.9.12"
  },
  "toc": {
   "base_numbering": 1,
   "nav_menu": {},
   "number_sections": true,
   "sideBar": true,
   "skip_h1_title": true,
   "title_cell": "Table of Contents",
   "title_sidebar": "Contents",
   "toc_cell": false,
   "toc_position": {
    "height": "calc(100% - 180px)",
    "left": "10px",
    "top": "150px",
    "width": "204.8px"
   },
   "toc_section_display": false,
   "toc_window_display": false
  }
 },
 "nbformat": 4,
 "nbformat_minor": 5
}
